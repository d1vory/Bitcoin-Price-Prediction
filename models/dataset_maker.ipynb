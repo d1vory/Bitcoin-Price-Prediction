{
 "cells": [
  {
   "cell_type": "code",
   "execution_count": 177,
   "metadata": {
    "collapsed": true
   },
   "outputs": [],
   "source": [
    "import pandas as pd\n",
    "import numpy as np\n",
    "from pandas import DataFrame"
   ]
  },
  {
   "cell_type": "code",
   "execution_count": 178,
   "outputs": [],
   "source": [
    "data_main = pd.read_csv(\n",
    "    './datasets/tradingview/bitcoin/BTCUSD_1D_to_2023-03-11.csv',\n",
    "    delimiter=',',\n",
    "    low_memory=False,\n",
    "    parse_dates=['time']\n",
    ")\n"
   ],
   "metadata": {
    "collapsed": false,
    "pycharm": {
     "name": "#%%\n"
    }
   }
  },
  {
   "cell_type": "code",
   "execution_count": 179,
   "outputs": [],
   "source": [
    "\n",
    "#DATE = 'Date'\n",
    "TIME = 'time'\n",
    "OPEN = 'open'\n",
    "HIGH = 'high'\n",
    "LOW = 'low'\n",
    "CLOSE = 'close'\n",
    "VOLUME = 'volume'\n",
    "#MARKET_CAP = 'Market cap'\n",
    "\n",
    "LOG_CLOSE = 'log_close'\n",
    "\n",
    "#INDICATORS\n",
    "MOVING_AVERAGE = 'MA'\n",
    "SMOOTHING_LINE = 'Smoothing Line'\n",
    "HISTOGRAM = 'Histogram'\n",
    "MACD = 'MACD'\n",
    "SIGNAL = 'Signal'\n",
    "RSI = 'RSI'\n",
    "RSI_MA = 'RSI-based MA'\n",
    "UP_BOL_BAND = 'Upper Bollinger Band'\n",
    "LOW_BOL_BAND = 'Lower Bollinger Band'\n",
    "OBV = 'OnBalanceVolume'\n",
    "ADX = 'ADX'\n",
    "NV = 'NV'\n",
    "\n",
    "ALL_COLUMNS = {\n",
    "    TIME, OPEN, HIGH, LOW, CLOSE,\n",
    "    MOVING_AVERAGE, SMOOTHING_LINE, HISTOGRAM, MACD, SIGNAL, RSI, RSI_MA, UP_BOL_BAND, LOW_BOL_BAND, OBV, ADX\n",
    "}"
   ],
   "metadata": {
    "collapsed": false,
    "pycharm": {
     "name": "#%%\n"
    }
   }
  },
  {
   "cell_type": "code",
   "execution_count": 180,
   "outputs": [
    {
     "data": {
      "text/plain": "                           time          open          high           low  \\\n0     2009-10-05 04:00:00+04:00      0.000764      0.000764      0.000764   \n1     2009-10-06 04:00:00+04:00      0.000885      0.000885      0.000885   \n2     2009-10-07 04:00:00+04:00      0.001050      0.001050      0.001050   \n3     2009-10-08 04:00:00+04:00      0.001084      0.001084      0.001084   \n4     2009-10-09 04:00:00+04:00      0.001200      0.001200      0.001200   \n...                         ...           ...           ...           ...   \n4803  2023-03-07 03:00:00+03:00  22415.570000  22552.120000  21927.510000   \n4804  2023-03-08 03:00:00+03:00  22203.580000  22282.920000  21588.560000   \n4805  2023-03-09 03:00:00+03:00  21699.330000  21842.130000  19858.830000   \n4806  2023-03-10 03:00:00+03:00  20349.670000  20350.450000  19559.360000   \n4807  2023-03-11 03:00:00+03:00  20222.450000  21214.120000  19970.530000   \n\n             close   Histogram        MACD      Signal        RSI  \\\n0         0.000764         NaN         NaN         NaN        NaN   \n1         0.000885         NaN         NaN         NaN        NaN   \n2         0.001050         NaN         NaN         NaN        NaN   \n3         0.001084         NaN         NaN         NaN        NaN   \n4         0.001200         NaN         NaN         NaN        NaN   \n...            ...         ...         ...         ...        ...   \n4803  22201.830000 -238.134300 -109.924026  128.210274  41.678396   \n4804  21701.470000 -258.385641 -194.771777   63.613864  37.572144   \n4805  20346.900000 -344.559235 -367.085180  -22.525945  29.188244   \n4806  20222.680000 -388.230876 -507.814539 -119.583664  28.558888   \n4807  20459.160000 -379.069887 -593.421023 -214.351135  31.583280   \n\n      RSI-based MA  OnBalanceVolume  Smoothing Line        ADX            NV  \n0              NaN              NaN             NaN        NaN           NaN  \n1              NaN     0.000000e+00             NaN        NaN      0.000000  \n2              NaN     0.000000e+00             NaN        NaN      0.000000  \n3              NaN     0.000000e+00             NaN        NaN      0.000000  \n4              NaN     0.000000e+00             NaN        NaN      0.000000  \n...            ...              ...             ...        ...           ...  \n4803     49.566643     7.408373e+06    7.426450e+06  22.036393 -15118.130417  \n4804     48.014107     7.390680e+06    7.417858e+06  21.677303 -17693.066945  \n4805     46.027901     7.358888e+06    7.403712e+06  23.090552 -31792.011157  \n4806     44.464712     7.313238e+06    7.378934e+06  24.620602 -45649.645680  \n4807     43.132765     7.335859e+06    7.361408e+06  24.604255  22620.687959  \n\n[4808 rows x 14 columns]",
      "text/html": "<div>\n<style scoped>\n    .dataframe tbody tr th:only-of-type {\n        vertical-align: middle;\n    }\n\n    .dataframe tbody tr th {\n        vertical-align: top;\n    }\n\n    .dataframe thead th {\n        text-align: right;\n    }\n</style>\n<table border=\"1\" class=\"dataframe\">\n  <thead>\n    <tr style=\"text-align: right;\">\n      <th></th>\n      <th>time</th>\n      <th>open</th>\n      <th>high</th>\n      <th>low</th>\n      <th>close</th>\n      <th>Histogram</th>\n      <th>MACD</th>\n      <th>Signal</th>\n      <th>RSI</th>\n      <th>RSI-based MA</th>\n      <th>OnBalanceVolume</th>\n      <th>Smoothing Line</th>\n      <th>ADX</th>\n      <th>NV</th>\n    </tr>\n  </thead>\n  <tbody>\n    <tr>\n      <th>0</th>\n      <td>2009-10-05 04:00:00+04:00</td>\n      <td>0.000764</td>\n      <td>0.000764</td>\n      <td>0.000764</td>\n      <td>0.000764</td>\n      <td>NaN</td>\n      <td>NaN</td>\n      <td>NaN</td>\n      <td>NaN</td>\n      <td>NaN</td>\n      <td>NaN</td>\n      <td>NaN</td>\n      <td>NaN</td>\n      <td>NaN</td>\n    </tr>\n    <tr>\n      <th>1</th>\n      <td>2009-10-06 04:00:00+04:00</td>\n      <td>0.000885</td>\n      <td>0.000885</td>\n      <td>0.000885</td>\n      <td>0.000885</td>\n      <td>NaN</td>\n      <td>NaN</td>\n      <td>NaN</td>\n      <td>NaN</td>\n      <td>NaN</td>\n      <td>0.000000e+00</td>\n      <td>NaN</td>\n      <td>NaN</td>\n      <td>0.000000</td>\n    </tr>\n    <tr>\n      <th>2</th>\n      <td>2009-10-07 04:00:00+04:00</td>\n      <td>0.001050</td>\n      <td>0.001050</td>\n      <td>0.001050</td>\n      <td>0.001050</td>\n      <td>NaN</td>\n      <td>NaN</td>\n      <td>NaN</td>\n      <td>NaN</td>\n      <td>NaN</td>\n      <td>0.000000e+00</td>\n      <td>NaN</td>\n      <td>NaN</td>\n      <td>0.000000</td>\n    </tr>\n    <tr>\n      <th>3</th>\n      <td>2009-10-08 04:00:00+04:00</td>\n      <td>0.001084</td>\n      <td>0.001084</td>\n      <td>0.001084</td>\n      <td>0.001084</td>\n      <td>NaN</td>\n      <td>NaN</td>\n      <td>NaN</td>\n      <td>NaN</td>\n      <td>NaN</td>\n      <td>0.000000e+00</td>\n      <td>NaN</td>\n      <td>NaN</td>\n      <td>0.000000</td>\n    </tr>\n    <tr>\n      <th>4</th>\n      <td>2009-10-09 04:00:00+04:00</td>\n      <td>0.001200</td>\n      <td>0.001200</td>\n      <td>0.001200</td>\n      <td>0.001200</td>\n      <td>NaN</td>\n      <td>NaN</td>\n      <td>NaN</td>\n      <td>NaN</td>\n      <td>NaN</td>\n      <td>0.000000e+00</td>\n      <td>NaN</td>\n      <td>NaN</td>\n      <td>0.000000</td>\n    </tr>\n    <tr>\n      <th>...</th>\n      <td>...</td>\n      <td>...</td>\n      <td>...</td>\n      <td>...</td>\n      <td>...</td>\n      <td>...</td>\n      <td>...</td>\n      <td>...</td>\n      <td>...</td>\n      <td>...</td>\n      <td>...</td>\n      <td>...</td>\n      <td>...</td>\n      <td>...</td>\n    </tr>\n    <tr>\n      <th>4803</th>\n      <td>2023-03-07 03:00:00+03:00</td>\n      <td>22415.570000</td>\n      <td>22552.120000</td>\n      <td>21927.510000</td>\n      <td>22201.830000</td>\n      <td>-238.134300</td>\n      <td>-109.924026</td>\n      <td>128.210274</td>\n      <td>41.678396</td>\n      <td>49.566643</td>\n      <td>7.408373e+06</td>\n      <td>7.426450e+06</td>\n      <td>22.036393</td>\n      <td>-15118.130417</td>\n    </tr>\n    <tr>\n      <th>4804</th>\n      <td>2023-03-08 03:00:00+03:00</td>\n      <td>22203.580000</td>\n      <td>22282.920000</td>\n      <td>21588.560000</td>\n      <td>21701.470000</td>\n      <td>-258.385641</td>\n      <td>-194.771777</td>\n      <td>63.613864</td>\n      <td>37.572144</td>\n      <td>48.014107</td>\n      <td>7.390680e+06</td>\n      <td>7.417858e+06</td>\n      <td>21.677303</td>\n      <td>-17693.066945</td>\n    </tr>\n    <tr>\n      <th>4805</th>\n      <td>2023-03-09 03:00:00+03:00</td>\n      <td>21699.330000</td>\n      <td>21842.130000</td>\n      <td>19858.830000</td>\n      <td>20346.900000</td>\n      <td>-344.559235</td>\n      <td>-367.085180</td>\n      <td>-22.525945</td>\n      <td>29.188244</td>\n      <td>46.027901</td>\n      <td>7.358888e+06</td>\n      <td>7.403712e+06</td>\n      <td>23.090552</td>\n      <td>-31792.011157</td>\n    </tr>\n    <tr>\n      <th>4806</th>\n      <td>2023-03-10 03:00:00+03:00</td>\n      <td>20349.670000</td>\n      <td>20350.450000</td>\n      <td>19559.360000</td>\n      <td>20222.680000</td>\n      <td>-388.230876</td>\n      <td>-507.814539</td>\n      <td>-119.583664</td>\n      <td>28.558888</td>\n      <td>44.464712</td>\n      <td>7.313238e+06</td>\n      <td>7.378934e+06</td>\n      <td>24.620602</td>\n      <td>-45649.645680</td>\n    </tr>\n    <tr>\n      <th>4807</th>\n      <td>2023-03-11 03:00:00+03:00</td>\n      <td>20222.450000</td>\n      <td>21214.120000</td>\n      <td>19970.530000</td>\n      <td>20459.160000</td>\n      <td>-379.069887</td>\n      <td>-593.421023</td>\n      <td>-214.351135</td>\n      <td>31.583280</td>\n      <td>43.132765</td>\n      <td>7.335859e+06</td>\n      <td>7.361408e+06</td>\n      <td>24.604255</td>\n      <td>22620.687959</td>\n    </tr>\n  </tbody>\n</table>\n<p>4808 rows × 14 columns</p>\n</div>"
     },
     "execution_count": 180,
     "metadata": {},
     "output_type": "execute_result"
    }
   ],
   "source": [
    "data_main.drop([UP_BOL_BAND, LOW_BOL_BAND], axis=1)"
   ],
   "metadata": {
    "collapsed": false,
    "pycharm": {
     "name": "#%%\n"
    }
   }
  },
  {
   "cell_type": "code",
   "execution_count": 181,
   "outputs": [],
   "source": [
    "def parse_time_of_tradingview(df, column_name='time'):\n",
    "    df[column_name] = pd.to_datetime(df[column_name], format='%Y-%m-%dT%H:%M:%S', errors='coerce', utc=True)\n",
    "    df[column_name] = df[column_name].dt.date\n",
    "    df = df.set_index([column_name])\n",
    "    return df"
   ],
   "metadata": {
    "collapsed": false,
    "pycharm": {
     "name": "#%%\n"
    }
   }
  },
  {
   "cell_type": "code",
   "execution_count": 182,
   "outputs": [],
   "source": [
    "data_main['time'] = pd.to_datetime(data_main['time'], format='%Y-%m-%dT%H:%M:%S', errors='coerce', utc=True)\n",
    "data_main['time'] = data_main['time'].dt.date\n",
    "data_main = data_main.set_index(['time'])"
   ],
   "metadata": {
    "collapsed": false,
    "pycharm": {
     "name": "#%%\n"
    }
   }
  },
  {
   "cell_type": "code",
   "execution_count": 183,
   "outputs": [],
   "source": [
    "data_main[LOG_CLOSE] = np.log(data_main['close'])\n",
    "# data_main['log_open'] = np.log(data_main['open'])\n",
    "# data_main['log_high'] = np.log(data_main['high'])\n",
    "# data_main['log_low'] = np.log(data_main['low'])\n"
   ],
   "metadata": {
    "collapsed": false,
    "pycharm": {
     "name": "#%%\n"
    }
   }
  },
  {
   "cell_type": "code",
   "execution_count": 184,
   "outputs": [],
   "source": [
    "data_main['log_returns'] = data_main['log_close'].diff()"
   ],
   "metadata": {
    "collapsed": false,
    "pycharm": {
     "name": "#%%\n"
    }
   }
  },
  {
   "cell_type": "code",
   "execution_count": 185,
   "outputs": [
    {
     "data": {
      "text/plain": "                    open          high           low         close  \\\ntime                                                                 \n2009-10-05      0.000764      0.000764      0.000764      0.000764   \n2009-10-06      0.000885      0.000885      0.000885      0.000885   \n2009-10-07      0.001050      0.001050      0.001050      0.001050   \n2009-10-08      0.001084      0.001084      0.001084      0.001084   \n2009-10-09      0.001200      0.001200      0.001200      0.001200   \n...                  ...           ...           ...           ...   \n2023-03-07  22415.570000  22552.120000  21927.510000  22201.830000   \n2023-03-08  22203.580000  22282.920000  21588.560000  21701.470000   \n2023-03-09  21699.330000  21842.130000  19858.830000  20346.900000   \n2023-03-10  20349.670000  20350.450000  19559.360000  20222.680000   \n2023-03-11  20222.450000  21214.120000  19970.530000  20459.160000   \n\n             Histogram        MACD      Signal        RSI  RSI-based MA  \\\ntime                                                                      \n2009-10-05         NaN         NaN         NaN        NaN           NaN   \n2009-10-06         NaN         NaN         NaN        NaN           NaN   \n2009-10-07         NaN         NaN         NaN        NaN           NaN   \n2009-10-08         NaN         NaN         NaN        NaN           NaN   \n2009-10-09         NaN         NaN         NaN        NaN           NaN   \n...                ...         ...         ...        ...           ...   \n2023-03-07 -238.134300 -109.924026  128.210274  41.678396     49.566643   \n2023-03-08 -258.385641 -194.771777   63.613864  37.572144     48.014107   \n2023-03-09 -344.559235 -367.085180  -22.525945  29.188244     46.027901   \n2023-03-10 -388.230876 -507.814539 -119.583664  28.558888     44.464712   \n2023-03-11 -379.069887 -593.421023 -214.351135  31.583280     43.132765   \n\n            Upper Bollinger Band  Lower Bollinger Band  OnBalanceVolume  \\\ntime                                                                      \n2009-10-05                   NaN                   NaN              NaN   \n2009-10-06                   NaN                   NaN     0.000000e+00   \n2009-10-07                   NaN                   NaN     0.000000e+00   \n2009-10-08                   NaN                   NaN     0.000000e+00   \n2009-10-09                   NaN                   NaN     0.000000e+00   \n...                          ...                   ...              ...   \n2023-03-07                   NaN                   NaN     7.408373e+06   \n2023-03-08                   NaN                   NaN     7.390680e+06   \n2023-03-09                   NaN                   NaN     7.358888e+06   \n2023-03-10                   NaN                   NaN     7.313238e+06   \n2023-03-11                   NaN                   NaN     7.335859e+06   \n\n            Smoothing Line        ADX            NV  log_close  log_returns  \ntime                                                                         \n2009-10-05             NaN        NaN           NaN  -7.177047          NaN  \n2009-10-06             NaN        NaN      0.000000  -7.030443     0.146605  \n2009-10-07             NaN        NaN      0.000000  -6.858584     0.171859  \n2009-10-08             NaN        NaN      0.000000  -6.826839     0.031745  \n2009-10-09             NaN        NaN      0.000000  -6.725059     0.101780  \n...                    ...        ...           ...        ...          ...  \n2023-03-07    7.426450e+06  22.036393 -15118.130417  10.007930    -0.009649  \n2023-03-08    7.417858e+06  21.677303 -17693.066945   9.985135    -0.022795  \n2023-03-09    7.403712e+06  23.090552 -31792.011157   9.920684    -0.064451  \n2023-03-10    7.378934e+06  24.620602 -45649.645680   9.914560    -0.006124  \n2023-03-11    7.361408e+06  24.604255  22620.687959   9.926186     0.011626  \n\n[4808 rows x 17 columns]",
      "text/html": "<div>\n<style scoped>\n    .dataframe tbody tr th:only-of-type {\n        vertical-align: middle;\n    }\n\n    .dataframe tbody tr th {\n        vertical-align: top;\n    }\n\n    .dataframe thead th {\n        text-align: right;\n    }\n</style>\n<table border=\"1\" class=\"dataframe\">\n  <thead>\n    <tr style=\"text-align: right;\">\n      <th></th>\n      <th>open</th>\n      <th>high</th>\n      <th>low</th>\n      <th>close</th>\n      <th>Histogram</th>\n      <th>MACD</th>\n      <th>Signal</th>\n      <th>RSI</th>\n      <th>RSI-based MA</th>\n      <th>Upper Bollinger Band</th>\n      <th>Lower Bollinger Band</th>\n      <th>OnBalanceVolume</th>\n      <th>Smoothing Line</th>\n      <th>ADX</th>\n      <th>NV</th>\n      <th>log_close</th>\n      <th>log_returns</th>\n    </tr>\n    <tr>\n      <th>time</th>\n      <th></th>\n      <th></th>\n      <th></th>\n      <th></th>\n      <th></th>\n      <th></th>\n      <th></th>\n      <th></th>\n      <th></th>\n      <th></th>\n      <th></th>\n      <th></th>\n      <th></th>\n      <th></th>\n      <th></th>\n      <th></th>\n      <th></th>\n    </tr>\n  </thead>\n  <tbody>\n    <tr>\n      <th>2009-10-05</th>\n      <td>0.000764</td>\n      <td>0.000764</td>\n      <td>0.000764</td>\n      <td>0.000764</td>\n      <td>NaN</td>\n      <td>NaN</td>\n      <td>NaN</td>\n      <td>NaN</td>\n      <td>NaN</td>\n      <td>NaN</td>\n      <td>NaN</td>\n      <td>NaN</td>\n      <td>NaN</td>\n      <td>NaN</td>\n      <td>NaN</td>\n      <td>-7.177047</td>\n      <td>NaN</td>\n    </tr>\n    <tr>\n      <th>2009-10-06</th>\n      <td>0.000885</td>\n      <td>0.000885</td>\n      <td>0.000885</td>\n      <td>0.000885</td>\n      <td>NaN</td>\n      <td>NaN</td>\n      <td>NaN</td>\n      <td>NaN</td>\n      <td>NaN</td>\n      <td>NaN</td>\n      <td>NaN</td>\n      <td>0.000000e+00</td>\n      <td>NaN</td>\n      <td>NaN</td>\n      <td>0.000000</td>\n      <td>-7.030443</td>\n      <td>0.146605</td>\n    </tr>\n    <tr>\n      <th>2009-10-07</th>\n      <td>0.001050</td>\n      <td>0.001050</td>\n      <td>0.001050</td>\n      <td>0.001050</td>\n      <td>NaN</td>\n      <td>NaN</td>\n      <td>NaN</td>\n      <td>NaN</td>\n      <td>NaN</td>\n      <td>NaN</td>\n      <td>NaN</td>\n      <td>0.000000e+00</td>\n      <td>NaN</td>\n      <td>NaN</td>\n      <td>0.000000</td>\n      <td>-6.858584</td>\n      <td>0.171859</td>\n    </tr>\n    <tr>\n      <th>2009-10-08</th>\n      <td>0.001084</td>\n      <td>0.001084</td>\n      <td>0.001084</td>\n      <td>0.001084</td>\n      <td>NaN</td>\n      <td>NaN</td>\n      <td>NaN</td>\n      <td>NaN</td>\n      <td>NaN</td>\n      <td>NaN</td>\n      <td>NaN</td>\n      <td>0.000000e+00</td>\n      <td>NaN</td>\n      <td>NaN</td>\n      <td>0.000000</td>\n      <td>-6.826839</td>\n      <td>0.031745</td>\n    </tr>\n    <tr>\n      <th>2009-10-09</th>\n      <td>0.001200</td>\n      <td>0.001200</td>\n      <td>0.001200</td>\n      <td>0.001200</td>\n      <td>NaN</td>\n      <td>NaN</td>\n      <td>NaN</td>\n      <td>NaN</td>\n      <td>NaN</td>\n      <td>NaN</td>\n      <td>NaN</td>\n      <td>0.000000e+00</td>\n      <td>NaN</td>\n      <td>NaN</td>\n      <td>0.000000</td>\n      <td>-6.725059</td>\n      <td>0.101780</td>\n    </tr>\n    <tr>\n      <th>...</th>\n      <td>...</td>\n      <td>...</td>\n      <td>...</td>\n      <td>...</td>\n      <td>...</td>\n      <td>...</td>\n      <td>...</td>\n      <td>...</td>\n      <td>...</td>\n      <td>...</td>\n      <td>...</td>\n      <td>...</td>\n      <td>...</td>\n      <td>...</td>\n      <td>...</td>\n      <td>...</td>\n      <td>...</td>\n    </tr>\n    <tr>\n      <th>2023-03-07</th>\n      <td>22415.570000</td>\n      <td>22552.120000</td>\n      <td>21927.510000</td>\n      <td>22201.830000</td>\n      <td>-238.134300</td>\n      <td>-109.924026</td>\n      <td>128.210274</td>\n      <td>41.678396</td>\n      <td>49.566643</td>\n      <td>NaN</td>\n      <td>NaN</td>\n      <td>7.408373e+06</td>\n      <td>7.426450e+06</td>\n      <td>22.036393</td>\n      <td>-15118.130417</td>\n      <td>10.007930</td>\n      <td>-0.009649</td>\n    </tr>\n    <tr>\n      <th>2023-03-08</th>\n      <td>22203.580000</td>\n      <td>22282.920000</td>\n      <td>21588.560000</td>\n      <td>21701.470000</td>\n      <td>-258.385641</td>\n      <td>-194.771777</td>\n      <td>63.613864</td>\n      <td>37.572144</td>\n      <td>48.014107</td>\n      <td>NaN</td>\n      <td>NaN</td>\n      <td>7.390680e+06</td>\n      <td>7.417858e+06</td>\n      <td>21.677303</td>\n      <td>-17693.066945</td>\n      <td>9.985135</td>\n      <td>-0.022795</td>\n    </tr>\n    <tr>\n      <th>2023-03-09</th>\n      <td>21699.330000</td>\n      <td>21842.130000</td>\n      <td>19858.830000</td>\n      <td>20346.900000</td>\n      <td>-344.559235</td>\n      <td>-367.085180</td>\n      <td>-22.525945</td>\n      <td>29.188244</td>\n      <td>46.027901</td>\n      <td>NaN</td>\n      <td>NaN</td>\n      <td>7.358888e+06</td>\n      <td>7.403712e+06</td>\n      <td>23.090552</td>\n      <td>-31792.011157</td>\n      <td>9.920684</td>\n      <td>-0.064451</td>\n    </tr>\n    <tr>\n      <th>2023-03-10</th>\n      <td>20349.670000</td>\n      <td>20350.450000</td>\n      <td>19559.360000</td>\n      <td>20222.680000</td>\n      <td>-388.230876</td>\n      <td>-507.814539</td>\n      <td>-119.583664</td>\n      <td>28.558888</td>\n      <td>44.464712</td>\n      <td>NaN</td>\n      <td>NaN</td>\n      <td>7.313238e+06</td>\n      <td>7.378934e+06</td>\n      <td>24.620602</td>\n      <td>-45649.645680</td>\n      <td>9.914560</td>\n      <td>-0.006124</td>\n    </tr>\n    <tr>\n      <th>2023-03-11</th>\n      <td>20222.450000</td>\n      <td>21214.120000</td>\n      <td>19970.530000</td>\n      <td>20459.160000</td>\n      <td>-379.069887</td>\n      <td>-593.421023</td>\n      <td>-214.351135</td>\n      <td>31.583280</td>\n      <td>43.132765</td>\n      <td>NaN</td>\n      <td>NaN</td>\n      <td>7.335859e+06</td>\n      <td>7.361408e+06</td>\n      <td>24.604255</td>\n      <td>22620.687959</td>\n      <td>9.926186</td>\n      <td>0.011626</td>\n    </tr>\n  </tbody>\n</table>\n<p>4808 rows × 17 columns</p>\n</div>"
     },
     "execution_count": 185,
     "metadata": {},
     "output_type": "execute_result"
    }
   ],
   "source": [
    "data_main"
   ],
   "metadata": {
    "collapsed": false,
    "pycharm": {
     "name": "#%%\n"
    }
   }
  },
  {
   "cell_type": "code",
   "execution_count": 186,
   "outputs": [],
   "source": [
    "data_main['log_returns'] = data_main['log_close'].diff()"
   ],
   "metadata": {
    "collapsed": false,
    "pycharm": {
     "name": "#%%\n"
    }
   }
  },
  {
   "cell_type": "code",
   "execution_count": 187,
   "outputs": [],
   "source": [
    "def calculate_correlation(df, target_column, correlation_method='pearson'):\n",
    "    for column in df.columns:\n",
    "        correlation  = df[target_column].corr(df[column], method=correlation_method)\n",
    "        print(f'Correlation between {target_column} and {column} = {correlation}, method={correlation_method}')\n",
    "\n",
    "#calculate_correlation(data_main, CLOSE)"
   ],
   "metadata": {
    "collapsed": false,
    "pycharm": {
     "name": "#%%\n"
    }
   }
  },
  {
   "cell_type": "code",
   "execution_count": 188,
   "outputs": [
    {
     "data": {
      "text/plain": "            fear_greed\ntimestamp             \n2023-05-12          49\n2023-05-11          52\n2023-05-10          52\n2023-05-09          51\n2023-05-08          60\n...                ...\n2018-02-05          11\n2018-02-04          24\n2018-02-03          40\n2018-02-02          15\n2018-02-01          30\n\n[1924 rows x 1 columns]",
      "text/html": "<div>\n<style scoped>\n    .dataframe tbody tr th:only-of-type {\n        vertical-align: middle;\n    }\n\n    .dataframe tbody tr th {\n        vertical-align: top;\n    }\n\n    .dataframe thead th {\n        text-align: right;\n    }\n</style>\n<table border=\"1\" class=\"dataframe\">\n  <thead>\n    <tr style=\"text-align: right;\">\n      <th></th>\n      <th>fear_greed</th>\n    </tr>\n    <tr>\n      <th>timestamp</th>\n      <th></th>\n    </tr>\n  </thead>\n  <tbody>\n    <tr>\n      <th>2023-05-12</th>\n      <td>49</td>\n    </tr>\n    <tr>\n      <th>2023-05-11</th>\n      <td>52</td>\n    </tr>\n    <tr>\n      <th>2023-05-10</th>\n      <td>52</td>\n    </tr>\n    <tr>\n      <th>2023-05-09</th>\n      <td>51</td>\n    </tr>\n    <tr>\n      <th>2023-05-08</th>\n      <td>60</td>\n    </tr>\n    <tr>\n      <th>...</th>\n      <td>...</td>\n    </tr>\n    <tr>\n      <th>2018-02-05</th>\n      <td>11</td>\n    </tr>\n    <tr>\n      <th>2018-02-04</th>\n      <td>24</td>\n    </tr>\n    <tr>\n      <th>2018-02-03</th>\n      <td>40</td>\n    </tr>\n    <tr>\n      <th>2018-02-02</th>\n      <td>15</td>\n    </tr>\n    <tr>\n      <th>2018-02-01</th>\n      <td>30</td>\n    </tr>\n  </tbody>\n</table>\n<p>1924 rows × 1 columns</p>\n</div>"
     },
     "execution_count": 188,
     "metadata": {},
     "output_type": "execute_result"
    }
   ],
   "source": [
    "fear_greed = pd.read_csv(\n",
    "    './datasets/fear_greed.csv',\n",
    "    delimiter=',',\n",
    "    low_memory=False,\n",
    "    parse_dates=True,\n",
    "    index_col='timestamp'\n",
    ")\n",
    "# fear_greed['timestamp'] = pd.to_datetime(fear_greed['timestamp'], format='%Y-%m-%d', errors='coerce', utc=True)\n",
    "# fear_greed['timestamp'] = fear_greed['timestamp'].dt.date\n",
    "# fear_greed = fear_greed.set_index(['timestamp'])\n",
    "fear_greed.rename(columns = {'value':'fear_greed'}, inplace = True)\n",
    "# return df\n",
    "fear_greed\n"
   ],
   "metadata": {
    "collapsed": false,
    "pycharm": {
     "name": "#%%\n"
    }
   }
  },
  {
   "cell_type": "code",
   "execution_count": 189,
   "outputs": [
    {
     "data": {
      "text/plain": "            btc_dominance_close  btc_dominance_volume\ntime                                                 \n2014-04-01            99.384652          3.689233e+07\n2014-04-02            99.338387          3.689233e+07\n2014-04-03            99.399426          3.689233e+07\n2014-04-04            99.410501          3.689233e+07\n2014-04-05            99.460844          3.689233e+07\n...                         ...                   ...\n2023-05-14            47.819132          4.388668e+10\n2023-05-15            47.876224          6.490619e+10\n2023-05-16            47.884628          6.451119e+10\n2023-05-17            48.155578          6.447618e+10\n2023-05-18            47.815102          6.951469e+10\n\n[3329 rows x 2 columns]",
      "text/html": "<div>\n<style scoped>\n    .dataframe tbody tr th:only-of-type {\n        vertical-align: middle;\n    }\n\n    .dataframe tbody tr th {\n        vertical-align: top;\n    }\n\n    .dataframe thead th {\n        text-align: right;\n    }\n</style>\n<table border=\"1\" class=\"dataframe\">\n  <thead>\n    <tr style=\"text-align: right;\">\n      <th></th>\n      <th>btc_dominance_close</th>\n      <th>btc_dominance_volume</th>\n    </tr>\n    <tr>\n      <th>time</th>\n      <th></th>\n      <th></th>\n    </tr>\n  </thead>\n  <tbody>\n    <tr>\n      <th>2014-04-01</th>\n      <td>99.384652</td>\n      <td>3.689233e+07</td>\n    </tr>\n    <tr>\n      <th>2014-04-02</th>\n      <td>99.338387</td>\n      <td>3.689233e+07</td>\n    </tr>\n    <tr>\n      <th>2014-04-03</th>\n      <td>99.399426</td>\n      <td>3.689233e+07</td>\n    </tr>\n    <tr>\n      <th>2014-04-04</th>\n      <td>99.410501</td>\n      <td>3.689233e+07</td>\n    </tr>\n    <tr>\n      <th>2014-04-05</th>\n      <td>99.460844</td>\n      <td>3.689233e+07</td>\n    </tr>\n    <tr>\n      <th>...</th>\n      <td>...</td>\n      <td>...</td>\n    </tr>\n    <tr>\n      <th>2023-05-14</th>\n      <td>47.819132</td>\n      <td>4.388668e+10</td>\n    </tr>\n    <tr>\n      <th>2023-05-15</th>\n      <td>47.876224</td>\n      <td>6.490619e+10</td>\n    </tr>\n    <tr>\n      <th>2023-05-16</th>\n      <td>47.884628</td>\n      <td>6.451119e+10</td>\n    </tr>\n    <tr>\n      <th>2023-05-17</th>\n      <td>48.155578</td>\n      <td>6.447618e+10</td>\n    </tr>\n    <tr>\n      <th>2023-05-18</th>\n      <td>47.815102</td>\n      <td>6.951469e+10</td>\n    </tr>\n  </tbody>\n</table>\n<p>3329 rows × 2 columns</p>\n</div>"
     },
     "execution_count": 189,
     "metadata": {},
     "output_type": "execute_result"
    }
   ],
   "source": [
    "btc_dominance = pd.read_csv(\n",
    "    './datasets/tradingview/CRYPTOCAP_BTC.D, 1D.csv',\n",
    "    delimiter=',',\n",
    "    low_memory=False,\n",
    "    parse_dates=['time'],\n",
    ")\n",
    "btc_dominance = parse_time_of_tradingview(btc_dominance)\n",
    "btc_dominance = btc_dominance[[CLOSE, 'Volume']]\n",
    "btc_dominance.rename(columns = {CLOSE:'btc_dominance_close', 'Volume':'btc_dominance_volume'}, inplace = True)\n",
    "btc_dominance"
   ],
   "metadata": {
    "collapsed": false,
    "pycharm": {
     "name": "#%%\n"
    }
   }
  },
  {
   "cell_type": "code",
   "execution_count": 190,
   "outputs": [
    {
     "data": {
      "text/plain": "            sp500_close\ntime                   \n2005-12-09      1259.37\n2005-12-12      1260.43\n2005-12-13      1267.43\n2005-12-14      1272.74\n2005-12-15      1270.94\n...                 ...\n2023-05-12      4124.07\n2023-05-15      4136.27\n2023-05-16      4109.89\n2023-05-17      4158.78\n2023-05-18      4198.06\n\n[4389 rows x 1 columns]",
      "text/html": "<div>\n<style scoped>\n    .dataframe tbody tr th:only-of-type {\n        vertical-align: middle;\n    }\n\n    .dataframe tbody tr th {\n        vertical-align: top;\n    }\n\n    .dataframe thead th {\n        text-align: right;\n    }\n</style>\n<table border=\"1\" class=\"dataframe\">\n  <thead>\n    <tr style=\"text-align: right;\">\n      <th></th>\n      <th>sp500_close</th>\n    </tr>\n    <tr>\n      <th>time</th>\n      <th></th>\n    </tr>\n  </thead>\n  <tbody>\n    <tr>\n      <th>2005-12-09</th>\n      <td>1259.37</td>\n    </tr>\n    <tr>\n      <th>2005-12-12</th>\n      <td>1260.43</td>\n    </tr>\n    <tr>\n      <th>2005-12-13</th>\n      <td>1267.43</td>\n    </tr>\n    <tr>\n      <th>2005-12-14</th>\n      <td>1272.74</td>\n    </tr>\n    <tr>\n      <th>2005-12-15</th>\n      <td>1270.94</td>\n    </tr>\n    <tr>\n      <th>...</th>\n      <td>...</td>\n    </tr>\n    <tr>\n      <th>2023-05-12</th>\n      <td>4124.07</td>\n    </tr>\n    <tr>\n      <th>2023-05-15</th>\n      <td>4136.27</td>\n    </tr>\n    <tr>\n      <th>2023-05-16</th>\n      <td>4109.89</td>\n    </tr>\n    <tr>\n      <th>2023-05-17</th>\n      <td>4158.78</td>\n    </tr>\n    <tr>\n      <th>2023-05-18</th>\n      <td>4198.06</td>\n    </tr>\n  </tbody>\n</table>\n<p>4389 rows × 1 columns</p>\n</div>"
     },
     "execution_count": 190,
     "metadata": {},
     "output_type": "execute_result"
    }
   ],
   "source": [
    "sp500 = pd.read_csv(\n",
    "    './datasets/tradingview/SP_500, 1D.csv',\n",
    "    delimiter=',',\n",
    "    low_memory=False,\n",
    "    parse_dates=['time'],\n",
    ")\n",
    "sp500 = parse_time_of_tradingview(sp500)\n",
    "sp500 = sp500[[CLOSE]]\n",
    "sp500.rename(columns = {CLOSE:'sp500_close'}, inplace = True)\n",
    "sp500"
   ],
   "metadata": {
    "collapsed": false,
    "pycharm": {
     "name": "#%%\n"
    }
   }
  },
  {
   "cell_type": "code",
   "execution_count": 191,
   "outputs": [
    {
     "data": {
      "text/plain": "                  open        high         low       close   Histogram  \\\n2018-02-01  10117.7700  10174.8475   8447.8525   9012.8875 -139.115681   \n2018-02-02   9017.2050   9107.9675   7593.5625   8811.0050 -179.678909   \n2018-02-05   8164.5950   8342.0050   6513.9375   6878.9575 -285.810896   \n2018-02-06   6878.5575   7998.2225   5893.7650   7696.3950 -262.618068   \n2018-02-07   7700.5550   8633.0250   7187.9300   7576.4050 -231.364140   \n...                ...         ...         ...         ...         ...   \n2023-03-06  22428.8600  22598.0400  22268.7700  22417.1000 -238.718141   \n2023-03-07  22415.5700  22552.1200  21927.5100  22201.8300 -238.134300   \n2023-03-08  22203.5800  22282.9200  21588.5600  21701.4700 -258.385641   \n2023-03-09  21699.3300  21842.1300  19858.8300  20346.9000 -344.559235   \n2023-03-10  20349.6700  20350.4500  19559.3600  20222.6800 -388.230876   \n\n                   MACD       Signal        RSI  RSI-based MA  \\\n2018-02-01 -1030.333158  -891.217478  31.847724     39.286094   \n2018-02-02 -1115.816114  -936.137205  31.064733     38.793391   \n2018-02-05 -1383.690702 -1097.879806  26.026328     36.494873   \n2018-02-06 -1426.152391 -1163.534323  32.498341     36.124827   \n2018-02-07 -1452.739499 -1221.375358  32.055005     35.478278   \n...                 ...          ...        ...           ...   \n2023-03-06   -50.974292   187.743850  43.581204     51.005489   \n2023-03-07  -109.924026   128.210274  41.678396     49.566643   \n2023-03-08  -194.771777    63.613864  37.572144     48.014107   \n2023-03-09  -367.085180   -22.525945  29.188244     46.027901   \n2023-03-10  -507.814539  -119.583664  28.558888     44.464712   \n\n            Upper Bollinger Band  ...  OnBalanceVolume  Smoothing Line  \\\n2018-02-01                   NaN  ...     6.940048e+06    7.020193e+06   \n2018-02-02                   NaN  ...     6.800764e+06    6.963019e+06   \n2018-02-05                   NaN  ...     6.648976e+06    6.808617e+06   \n2018-02-06                   NaN  ...     6.870453e+06    6.794698e+06   \n2018-02-07                   NaN  ...     6.755325e+06    6.785611e+06   \n...                          ...  ...              ...             ...   \n2023-03-06                   NaN  ...     7.423491e+06    7.437481e+06   \n2023-03-07                   NaN  ...     7.408373e+06    7.426450e+06   \n2023-03-08                   NaN  ...     7.390680e+06    7.417858e+06   \n2023-03-09                   NaN  ...     7.358888e+06    7.403712e+06   \n2023-03-10                   NaN  ...     7.313238e+06    7.378934e+06   \n\n                  ADX             NV  log_close  log_returns  fear_greed  \\\n2018-02-01  35.381987  -94744.758756   9.106411    -0.115443          30   \n2018-02-02  36.988679 -139284.230099   9.083757    -0.022654          15   \n2018-02-05  40.482320 -147996.769839   8.836222    -0.171146          11   \n2018-02-06  42.044653  221477.576103   8.948507     0.112285           8   \n2018-02-07  42.665820 -115128.705355   8.932794    -0.015713          36   \n...               ...            ...        ...          ...         ...   \n2023-03-06  22.948282  -13634.863657  10.017579    -0.000530          48   \n2023-03-07  22.036393  -15118.130417  10.007930    -0.009649          49   \n2023-03-08  21.677303  -17693.066945   9.985135    -0.022795          50   \n2023-03-09  23.090552  -31792.011157   9.920684    -0.064451          44   \n2023-03-10  24.620602  -45649.645680   9.914560    -0.006124          34   \n\n            btc_dominance_close  btc_dominance_volume  sp500_close  \n2018-02-01            38.130953          2.712381e+10      2821.98  \n2018-02-02            39.147754          2.712381e+10      2762.13  \n2018-02-05            40.107789          2.793849e+10      2648.94  \n2018-02-06            39.335732          2.793849e+10      2695.14  \n2018-02-07            40.116930          2.793849e+10      2681.66  \n...                         ...                   ...          ...  \n2023-03-06            43.794039          6.682402e+10      4048.43  \n2023-03-07            43.707110          7.397707e+10      3986.36  \n2023-03-08            43.742131          1.051846e+11      3992.00  \n2023-03-09            43.190708          9.824032e+10      3918.33  \n2023-03-10            42.986933          1.753496e+11      3861.60  \n\n[1284 rows x 21 columns]",
      "text/html": "<div>\n<style scoped>\n    .dataframe tbody tr th:only-of-type {\n        vertical-align: middle;\n    }\n\n    .dataframe tbody tr th {\n        vertical-align: top;\n    }\n\n    .dataframe thead th {\n        text-align: right;\n    }\n</style>\n<table border=\"1\" class=\"dataframe\">\n  <thead>\n    <tr style=\"text-align: right;\">\n      <th></th>\n      <th>open</th>\n      <th>high</th>\n      <th>low</th>\n      <th>close</th>\n      <th>Histogram</th>\n      <th>MACD</th>\n      <th>Signal</th>\n      <th>RSI</th>\n      <th>RSI-based MA</th>\n      <th>Upper Bollinger Band</th>\n      <th>...</th>\n      <th>OnBalanceVolume</th>\n      <th>Smoothing Line</th>\n      <th>ADX</th>\n      <th>NV</th>\n      <th>log_close</th>\n      <th>log_returns</th>\n      <th>fear_greed</th>\n      <th>btc_dominance_close</th>\n      <th>btc_dominance_volume</th>\n      <th>sp500_close</th>\n    </tr>\n  </thead>\n  <tbody>\n    <tr>\n      <th>2018-02-01</th>\n      <td>10117.7700</td>\n      <td>10174.8475</td>\n      <td>8447.8525</td>\n      <td>9012.8875</td>\n      <td>-139.115681</td>\n      <td>-1030.333158</td>\n      <td>-891.217478</td>\n      <td>31.847724</td>\n      <td>39.286094</td>\n      <td>NaN</td>\n      <td>...</td>\n      <td>6.940048e+06</td>\n      <td>7.020193e+06</td>\n      <td>35.381987</td>\n      <td>-94744.758756</td>\n      <td>9.106411</td>\n      <td>-0.115443</td>\n      <td>30</td>\n      <td>38.130953</td>\n      <td>2.712381e+10</td>\n      <td>2821.98</td>\n    </tr>\n    <tr>\n      <th>2018-02-02</th>\n      <td>9017.2050</td>\n      <td>9107.9675</td>\n      <td>7593.5625</td>\n      <td>8811.0050</td>\n      <td>-179.678909</td>\n      <td>-1115.816114</td>\n      <td>-936.137205</td>\n      <td>31.064733</td>\n      <td>38.793391</td>\n      <td>NaN</td>\n      <td>...</td>\n      <td>6.800764e+06</td>\n      <td>6.963019e+06</td>\n      <td>36.988679</td>\n      <td>-139284.230099</td>\n      <td>9.083757</td>\n      <td>-0.022654</td>\n      <td>15</td>\n      <td>39.147754</td>\n      <td>2.712381e+10</td>\n      <td>2762.13</td>\n    </tr>\n    <tr>\n      <th>2018-02-05</th>\n      <td>8164.5950</td>\n      <td>8342.0050</td>\n      <td>6513.9375</td>\n      <td>6878.9575</td>\n      <td>-285.810896</td>\n      <td>-1383.690702</td>\n      <td>-1097.879806</td>\n      <td>26.026328</td>\n      <td>36.494873</td>\n      <td>NaN</td>\n      <td>...</td>\n      <td>6.648976e+06</td>\n      <td>6.808617e+06</td>\n      <td>40.482320</td>\n      <td>-147996.769839</td>\n      <td>8.836222</td>\n      <td>-0.171146</td>\n      <td>11</td>\n      <td>40.107789</td>\n      <td>2.793849e+10</td>\n      <td>2648.94</td>\n    </tr>\n    <tr>\n      <th>2018-02-06</th>\n      <td>6878.5575</td>\n      <td>7998.2225</td>\n      <td>5893.7650</td>\n      <td>7696.3950</td>\n      <td>-262.618068</td>\n      <td>-1426.152391</td>\n      <td>-1163.534323</td>\n      <td>32.498341</td>\n      <td>36.124827</td>\n      <td>NaN</td>\n      <td>...</td>\n      <td>6.870453e+06</td>\n      <td>6.794698e+06</td>\n      <td>42.044653</td>\n      <td>221477.576103</td>\n      <td>8.948507</td>\n      <td>0.112285</td>\n      <td>8</td>\n      <td>39.335732</td>\n      <td>2.793849e+10</td>\n      <td>2695.14</td>\n    </tr>\n    <tr>\n      <th>2018-02-07</th>\n      <td>7700.5550</td>\n      <td>8633.0250</td>\n      <td>7187.9300</td>\n      <td>7576.4050</td>\n      <td>-231.364140</td>\n      <td>-1452.739499</td>\n      <td>-1221.375358</td>\n      <td>32.055005</td>\n      <td>35.478278</td>\n      <td>NaN</td>\n      <td>...</td>\n      <td>6.755325e+06</td>\n      <td>6.785611e+06</td>\n      <td>42.665820</td>\n      <td>-115128.705355</td>\n      <td>8.932794</td>\n      <td>-0.015713</td>\n      <td>36</td>\n      <td>40.116930</td>\n      <td>2.793849e+10</td>\n      <td>2681.66</td>\n    </tr>\n    <tr>\n      <th>...</th>\n      <td>...</td>\n      <td>...</td>\n      <td>...</td>\n      <td>...</td>\n      <td>...</td>\n      <td>...</td>\n      <td>...</td>\n      <td>...</td>\n      <td>...</td>\n      <td>...</td>\n      <td>...</td>\n      <td>...</td>\n      <td>...</td>\n      <td>...</td>\n      <td>...</td>\n      <td>...</td>\n      <td>...</td>\n      <td>...</td>\n      <td>...</td>\n      <td>...</td>\n      <td>...</td>\n    </tr>\n    <tr>\n      <th>2023-03-06</th>\n      <td>22428.8600</td>\n      <td>22598.0400</td>\n      <td>22268.7700</td>\n      <td>22417.1000</td>\n      <td>-238.718141</td>\n      <td>-50.974292</td>\n      <td>187.743850</td>\n      <td>43.581204</td>\n      <td>51.005489</td>\n      <td>NaN</td>\n      <td>...</td>\n      <td>7.423491e+06</td>\n      <td>7.437481e+06</td>\n      <td>22.948282</td>\n      <td>-13634.863657</td>\n      <td>10.017579</td>\n      <td>-0.000530</td>\n      <td>48</td>\n      <td>43.794039</td>\n      <td>6.682402e+10</td>\n      <td>4048.43</td>\n    </tr>\n    <tr>\n      <th>2023-03-07</th>\n      <td>22415.5700</td>\n      <td>22552.1200</td>\n      <td>21927.5100</td>\n      <td>22201.8300</td>\n      <td>-238.134300</td>\n      <td>-109.924026</td>\n      <td>128.210274</td>\n      <td>41.678396</td>\n      <td>49.566643</td>\n      <td>NaN</td>\n      <td>...</td>\n      <td>7.408373e+06</td>\n      <td>7.426450e+06</td>\n      <td>22.036393</td>\n      <td>-15118.130417</td>\n      <td>10.007930</td>\n      <td>-0.009649</td>\n      <td>49</td>\n      <td>43.707110</td>\n      <td>7.397707e+10</td>\n      <td>3986.36</td>\n    </tr>\n    <tr>\n      <th>2023-03-08</th>\n      <td>22203.5800</td>\n      <td>22282.9200</td>\n      <td>21588.5600</td>\n      <td>21701.4700</td>\n      <td>-258.385641</td>\n      <td>-194.771777</td>\n      <td>63.613864</td>\n      <td>37.572144</td>\n      <td>48.014107</td>\n      <td>NaN</td>\n      <td>...</td>\n      <td>7.390680e+06</td>\n      <td>7.417858e+06</td>\n      <td>21.677303</td>\n      <td>-17693.066945</td>\n      <td>9.985135</td>\n      <td>-0.022795</td>\n      <td>50</td>\n      <td>43.742131</td>\n      <td>1.051846e+11</td>\n      <td>3992.00</td>\n    </tr>\n    <tr>\n      <th>2023-03-09</th>\n      <td>21699.3300</td>\n      <td>21842.1300</td>\n      <td>19858.8300</td>\n      <td>20346.9000</td>\n      <td>-344.559235</td>\n      <td>-367.085180</td>\n      <td>-22.525945</td>\n      <td>29.188244</td>\n      <td>46.027901</td>\n      <td>NaN</td>\n      <td>...</td>\n      <td>7.358888e+06</td>\n      <td>7.403712e+06</td>\n      <td>23.090552</td>\n      <td>-31792.011157</td>\n      <td>9.920684</td>\n      <td>-0.064451</td>\n      <td>44</td>\n      <td>43.190708</td>\n      <td>9.824032e+10</td>\n      <td>3918.33</td>\n    </tr>\n    <tr>\n      <th>2023-03-10</th>\n      <td>20349.6700</td>\n      <td>20350.4500</td>\n      <td>19559.3600</td>\n      <td>20222.6800</td>\n      <td>-388.230876</td>\n      <td>-507.814539</td>\n      <td>-119.583664</td>\n      <td>28.558888</td>\n      <td>44.464712</td>\n      <td>NaN</td>\n      <td>...</td>\n      <td>7.313238e+06</td>\n      <td>7.378934e+06</td>\n      <td>24.620602</td>\n      <td>-45649.645680</td>\n      <td>9.914560</td>\n      <td>-0.006124</td>\n      <td>34</td>\n      <td>42.986933</td>\n      <td>1.753496e+11</td>\n      <td>3861.60</td>\n    </tr>\n  </tbody>\n</table>\n<p>1284 rows × 21 columns</p>\n</div>"
     },
     "execution_count": 191,
     "metadata": {},
     "output_type": "execute_result"
    }
   ],
   "source": [
    "#merged = pd.merge(data_main, fear_greed, right_index=True, left_on='time', how='right')\n",
    "# merged = pd.merge(data_main, fear_greed, right_index=True, left_index=True, how='left')\n",
    "# merged = pd.merge(merged, btc_dominance, left_index=True, right_index=True, how='left')\n",
    "merged = pd.merge(data_main, fear_greed, right_index=True, left_index=True)\n",
    "merged = pd.merge(merged, btc_dominance, left_index=True, right_index=True)\n",
    "merged = pd.merge(merged, sp500, left_index=True, right_index=True)\n",
    "merged"
   ],
   "metadata": {
    "collapsed": false,
    "pycharm": {
     "name": "#%%\n"
    }
   }
  },
  {
   "cell_type": "code",
   "execution_count": 192,
   "outputs": [],
   "source": [
    "def get_diffed_df(dataframe, cols):\n",
    "    df = dataframe.copy(deep=True)\n",
    "    for column in cols:\n",
    "        logged = np.log(data_main[column])\n",
    "        diff_col_name = f'diff_log_{column}'\n",
    "        df[diff_col_name] = logged.diff()\n",
    "    return df"
   ],
   "metadata": {
    "collapsed": false,
    "pycharm": {
     "name": "#%%\n"
    }
   }
  },
  {
   "cell_type": "code",
   "execution_count": 193,
   "outputs": [
    {
     "data": {
      "text/plain": "                  open        high         low       close   Histogram  \\\n2018-02-01  10117.7700  10174.8475   8447.8525   9012.8875 -139.115681   \n2018-02-02   9017.2050   9107.9675   7593.5625   8811.0050 -179.678909   \n2018-02-05   8164.5950   8342.0050   6513.9375   6878.9575 -285.810896   \n2018-02-06   6878.5575   7998.2225   5893.7650   7696.3950 -262.618068   \n2018-02-07   7700.5550   8633.0250   7187.9300   7576.4050 -231.364140   \n...                ...         ...         ...         ...         ...   \n2023-03-06  22428.8600  22598.0400  22268.7700  22417.1000 -238.718141   \n2023-03-07  22415.5700  22552.1200  21927.5100  22201.8300 -238.134300   \n2023-03-08  22203.5800  22282.9200  21588.5600  21701.4700 -258.385641   \n2023-03-09  21699.3300  21842.1300  19858.8300  20346.9000 -344.559235   \n2023-03-10  20349.6700  20350.4500  19559.3600  20222.6800 -388.230876   \n\n                   MACD       Signal        RSI  RSI-based MA  \\\n2018-02-01 -1030.333158  -891.217478  31.847724     39.286094   \n2018-02-02 -1115.816114  -936.137205  31.064733     38.793391   \n2018-02-05 -1383.690702 -1097.879806  26.026328     36.494873   \n2018-02-06 -1426.152391 -1163.534323  32.498341     36.124827   \n2018-02-07 -1452.739499 -1221.375358  32.055005     35.478278   \n...                 ...          ...        ...           ...   \n2023-03-06   -50.974292   187.743850  43.581204     51.005489   \n2023-03-07  -109.924026   128.210274  41.678396     49.566643   \n2023-03-08  -194.771777    63.613864  37.572144     48.014107   \n2023-03-09  -367.085180   -22.525945  29.188244     46.027901   \n2023-03-10  -507.814539  -119.583664  28.558888     44.464712   \n\n            Upper Bollinger Band  ...             NV  log_close  log_returns  \\\n2018-02-01                   NaN  ...  -94744.758756   9.106411    -0.115443   \n2018-02-02                   NaN  ... -139284.230099   9.083757    -0.022654   \n2018-02-05                   NaN  ... -147996.769839   8.836222    -0.171146   \n2018-02-06                   NaN  ...  221477.576103   8.948507     0.112285   \n2018-02-07                   NaN  ... -115128.705355   8.932794    -0.015713   \n...                          ...  ...            ...        ...          ...   \n2023-03-06                   NaN  ...  -13634.863657  10.017579    -0.000530   \n2023-03-07                   NaN  ...  -15118.130417  10.007930    -0.009649   \n2023-03-08                   NaN  ...  -17693.066945   9.985135    -0.022795   \n2023-03-09                   NaN  ...  -31792.011157   9.920684    -0.064451   \n2023-03-10                   NaN  ...  -45649.645680   9.914560    -0.006124   \n\n            fear_greed  btc_dominance_close  btc_dominance_volume  \\\n2018-02-01          30            38.130953          2.712381e+10   \n2018-02-02          15            39.147754          2.712381e+10   \n2018-02-05          11            40.107789          2.793849e+10   \n2018-02-06           8            39.335732          2.793849e+10   \n2018-02-07          36            40.116930          2.793849e+10   \n...                ...                  ...                   ...   \n2023-03-06          48            43.794039          6.682402e+10   \n2023-03-07          49            43.707110          7.397707e+10   \n2023-03-08          50            43.742131          1.051846e+11   \n2023-03-09          44            43.190708          9.824032e+10   \n2023-03-10          34            42.986933          1.753496e+11   \n\n            sp500_close  diff_log_open  diff_log_high  diff_log_low  \n2018-02-01      2821.98       0.012748      -0.013558     -0.122212  \n2018-02-02      2762.13      -0.115159      -0.110769     -0.106611  \n2018-02-05      2648.94      -0.120814      -0.114060     -0.182823  \n2018-02-06      2695.14      -0.171398      -0.042084     -0.100049  \n2018-02-07      2681.66       0.112883       0.076376      0.198508  \n...                 ...            ...            ...           ...  \n2023-03-06      4048.43       0.003576      -0.002487      0.002830  \n2023-03-07      3986.36      -0.000593      -0.002034     -0.015443  \n2023-03-08      3992.00      -0.009502      -0.012009     -0.015578  \n2023-03-09      3918.33      -0.022972      -0.019980     -0.083515  \n2023-03-10      3861.60      -0.064217      -0.070738     -0.015195  \n\n[1284 rows x 24 columns]",
      "text/html": "<div>\n<style scoped>\n    .dataframe tbody tr th:only-of-type {\n        vertical-align: middle;\n    }\n\n    .dataframe tbody tr th {\n        vertical-align: top;\n    }\n\n    .dataframe thead th {\n        text-align: right;\n    }\n</style>\n<table border=\"1\" class=\"dataframe\">\n  <thead>\n    <tr style=\"text-align: right;\">\n      <th></th>\n      <th>open</th>\n      <th>high</th>\n      <th>low</th>\n      <th>close</th>\n      <th>Histogram</th>\n      <th>MACD</th>\n      <th>Signal</th>\n      <th>RSI</th>\n      <th>RSI-based MA</th>\n      <th>Upper Bollinger Band</th>\n      <th>...</th>\n      <th>NV</th>\n      <th>log_close</th>\n      <th>log_returns</th>\n      <th>fear_greed</th>\n      <th>btc_dominance_close</th>\n      <th>btc_dominance_volume</th>\n      <th>sp500_close</th>\n      <th>diff_log_open</th>\n      <th>diff_log_high</th>\n      <th>diff_log_low</th>\n    </tr>\n  </thead>\n  <tbody>\n    <tr>\n      <th>2018-02-01</th>\n      <td>10117.7700</td>\n      <td>10174.8475</td>\n      <td>8447.8525</td>\n      <td>9012.8875</td>\n      <td>-139.115681</td>\n      <td>-1030.333158</td>\n      <td>-891.217478</td>\n      <td>31.847724</td>\n      <td>39.286094</td>\n      <td>NaN</td>\n      <td>...</td>\n      <td>-94744.758756</td>\n      <td>9.106411</td>\n      <td>-0.115443</td>\n      <td>30</td>\n      <td>38.130953</td>\n      <td>2.712381e+10</td>\n      <td>2821.98</td>\n      <td>0.012748</td>\n      <td>-0.013558</td>\n      <td>-0.122212</td>\n    </tr>\n    <tr>\n      <th>2018-02-02</th>\n      <td>9017.2050</td>\n      <td>9107.9675</td>\n      <td>7593.5625</td>\n      <td>8811.0050</td>\n      <td>-179.678909</td>\n      <td>-1115.816114</td>\n      <td>-936.137205</td>\n      <td>31.064733</td>\n      <td>38.793391</td>\n      <td>NaN</td>\n      <td>...</td>\n      <td>-139284.230099</td>\n      <td>9.083757</td>\n      <td>-0.022654</td>\n      <td>15</td>\n      <td>39.147754</td>\n      <td>2.712381e+10</td>\n      <td>2762.13</td>\n      <td>-0.115159</td>\n      <td>-0.110769</td>\n      <td>-0.106611</td>\n    </tr>\n    <tr>\n      <th>2018-02-05</th>\n      <td>8164.5950</td>\n      <td>8342.0050</td>\n      <td>6513.9375</td>\n      <td>6878.9575</td>\n      <td>-285.810896</td>\n      <td>-1383.690702</td>\n      <td>-1097.879806</td>\n      <td>26.026328</td>\n      <td>36.494873</td>\n      <td>NaN</td>\n      <td>...</td>\n      <td>-147996.769839</td>\n      <td>8.836222</td>\n      <td>-0.171146</td>\n      <td>11</td>\n      <td>40.107789</td>\n      <td>2.793849e+10</td>\n      <td>2648.94</td>\n      <td>-0.120814</td>\n      <td>-0.114060</td>\n      <td>-0.182823</td>\n    </tr>\n    <tr>\n      <th>2018-02-06</th>\n      <td>6878.5575</td>\n      <td>7998.2225</td>\n      <td>5893.7650</td>\n      <td>7696.3950</td>\n      <td>-262.618068</td>\n      <td>-1426.152391</td>\n      <td>-1163.534323</td>\n      <td>32.498341</td>\n      <td>36.124827</td>\n      <td>NaN</td>\n      <td>...</td>\n      <td>221477.576103</td>\n      <td>8.948507</td>\n      <td>0.112285</td>\n      <td>8</td>\n      <td>39.335732</td>\n      <td>2.793849e+10</td>\n      <td>2695.14</td>\n      <td>-0.171398</td>\n      <td>-0.042084</td>\n      <td>-0.100049</td>\n    </tr>\n    <tr>\n      <th>2018-02-07</th>\n      <td>7700.5550</td>\n      <td>8633.0250</td>\n      <td>7187.9300</td>\n      <td>7576.4050</td>\n      <td>-231.364140</td>\n      <td>-1452.739499</td>\n      <td>-1221.375358</td>\n      <td>32.055005</td>\n      <td>35.478278</td>\n      <td>NaN</td>\n      <td>...</td>\n      <td>-115128.705355</td>\n      <td>8.932794</td>\n      <td>-0.015713</td>\n      <td>36</td>\n      <td>40.116930</td>\n      <td>2.793849e+10</td>\n      <td>2681.66</td>\n      <td>0.112883</td>\n      <td>0.076376</td>\n      <td>0.198508</td>\n    </tr>\n    <tr>\n      <th>...</th>\n      <td>...</td>\n      <td>...</td>\n      <td>...</td>\n      <td>...</td>\n      <td>...</td>\n      <td>...</td>\n      <td>...</td>\n      <td>...</td>\n      <td>...</td>\n      <td>...</td>\n      <td>...</td>\n      <td>...</td>\n      <td>...</td>\n      <td>...</td>\n      <td>...</td>\n      <td>...</td>\n      <td>...</td>\n      <td>...</td>\n      <td>...</td>\n      <td>...</td>\n      <td>...</td>\n    </tr>\n    <tr>\n      <th>2023-03-06</th>\n      <td>22428.8600</td>\n      <td>22598.0400</td>\n      <td>22268.7700</td>\n      <td>22417.1000</td>\n      <td>-238.718141</td>\n      <td>-50.974292</td>\n      <td>187.743850</td>\n      <td>43.581204</td>\n      <td>51.005489</td>\n      <td>NaN</td>\n      <td>...</td>\n      <td>-13634.863657</td>\n      <td>10.017579</td>\n      <td>-0.000530</td>\n      <td>48</td>\n      <td>43.794039</td>\n      <td>6.682402e+10</td>\n      <td>4048.43</td>\n      <td>0.003576</td>\n      <td>-0.002487</td>\n      <td>0.002830</td>\n    </tr>\n    <tr>\n      <th>2023-03-07</th>\n      <td>22415.5700</td>\n      <td>22552.1200</td>\n      <td>21927.5100</td>\n      <td>22201.8300</td>\n      <td>-238.134300</td>\n      <td>-109.924026</td>\n      <td>128.210274</td>\n      <td>41.678396</td>\n      <td>49.566643</td>\n      <td>NaN</td>\n      <td>...</td>\n      <td>-15118.130417</td>\n      <td>10.007930</td>\n      <td>-0.009649</td>\n      <td>49</td>\n      <td>43.707110</td>\n      <td>7.397707e+10</td>\n      <td>3986.36</td>\n      <td>-0.000593</td>\n      <td>-0.002034</td>\n      <td>-0.015443</td>\n    </tr>\n    <tr>\n      <th>2023-03-08</th>\n      <td>22203.5800</td>\n      <td>22282.9200</td>\n      <td>21588.5600</td>\n      <td>21701.4700</td>\n      <td>-258.385641</td>\n      <td>-194.771777</td>\n      <td>63.613864</td>\n      <td>37.572144</td>\n      <td>48.014107</td>\n      <td>NaN</td>\n      <td>...</td>\n      <td>-17693.066945</td>\n      <td>9.985135</td>\n      <td>-0.022795</td>\n      <td>50</td>\n      <td>43.742131</td>\n      <td>1.051846e+11</td>\n      <td>3992.00</td>\n      <td>-0.009502</td>\n      <td>-0.012009</td>\n      <td>-0.015578</td>\n    </tr>\n    <tr>\n      <th>2023-03-09</th>\n      <td>21699.3300</td>\n      <td>21842.1300</td>\n      <td>19858.8300</td>\n      <td>20346.9000</td>\n      <td>-344.559235</td>\n      <td>-367.085180</td>\n      <td>-22.525945</td>\n      <td>29.188244</td>\n      <td>46.027901</td>\n      <td>NaN</td>\n      <td>...</td>\n      <td>-31792.011157</td>\n      <td>9.920684</td>\n      <td>-0.064451</td>\n      <td>44</td>\n      <td>43.190708</td>\n      <td>9.824032e+10</td>\n      <td>3918.33</td>\n      <td>-0.022972</td>\n      <td>-0.019980</td>\n      <td>-0.083515</td>\n    </tr>\n    <tr>\n      <th>2023-03-10</th>\n      <td>20349.6700</td>\n      <td>20350.4500</td>\n      <td>19559.3600</td>\n      <td>20222.6800</td>\n      <td>-388.230876</td>\n      <td>-507.814539</td>\n      <td>-119.583664</td>\n      <td>28.558888</td>\n      <td>44.464712</td>\n      <td>NaN</td>\n      <td>...</td>\n      <td>-45649.645680</td>\n      <td>9.914560</td>\n      <td>-0.006124</td>\n      <td>34</td>\n      <td>42.986933</td>\n      <td>1.753496e+11</td>\n      <td>3861.60</td>\n      <td>-0.064217</td>\n      <td>-0.070738</td>\n      <td>-0.015195</td>\n    </tr>\n  </tbody>\n</table>\n<p>1284 rows × 24 columns</p>\n</div>"
     },
     "execution_count": 193,
     "metadata": {},
     "output_type": "execute_result"
    }
   ],
   "source": [
    "normal_cols = [\n",
    "    OPEN, HIGH, LOW, CLOSE,\n",
    "    SMOOTHING_LINE, HISTOGRAM, MACD, SIGNAL, RSI, RSI_MA, OBV, ADX\n",
    "]\n",
    "merged\n",
    "\n",
    "diffed =  get_diffed_df(merged, ['open','high', 'low'])\n",
    "diffed"
   ],
   "metadata": {
    "collapsed": false,
    "pycharm": {
     "name": "#%%\n"
    }
   }
  },
  {
   "cell_type": "code",
   "execution_count": 196,
   "outputs": [
    {
     "name": "stderr",
     "output_type": "stream",
     "text": [
      "/var/folders/bh/3l9wxlcd22l8v712jjsb0p7h0000gn/T/ipykernel_60904/2730316516.py:8: SettingWithCopyWarning: \n",
      "A value is trying to be set on a copy of a slice from a DataFrame\n",
      "\n",
      "See the caveats in the documentation: https://pandas.pydata.org/pandas-docs/stable/user_guide/indexing.html#returning-a-view-versus-a-copy\n",
      "  df.dropna(how='any', inplace=True)\n"
     ]
    },
    {
     "data": {
      "text/plain": "            diff_log_open  diff_log_high  diff_log_low  log_returns  \\\n2018-02-01       0.012748      -0.013558     -0.122212    -0.115443   \n2018-02-02      -0.115159      -0.110769     -0.106611    -0.022654   \n2018-02-05      -0.120814      -0.114060     -0.182823    -0.171146   \n2018-02-06      -0.171398      -0.042084     -0.100049     0.112285   \n2018-02-07       0.112883       0.076376      0.198508    -0.015713   \n...                   ...            ...           ...          ...   \n2023-03-06       0.003576      -0.002487      0.002830    -0.000530   \n2023-03-07      -0.000593      -0.002034     -0.015443    -0.009649   \n2023-03-08      -0.009502      -0.012009     -0.015578    -0.022795   \n2023-03-09      -0.022972      -0.019980     -0.083515    -0.064451   \n2023-03-10      -0.064217      -0.070738     -0.015195    -0.006124   \n\n            Smoothing Line   Histogram         MACD       Signal        RSI  \\\n2018-02-01    7.020193e+06 -139.115681 -1030.333158  -891.217478  31.847724   \n2018-02-02    6.963019e+06 -179.678909 -1115.816114  -936.137205  31.064733   \n2018-02-05    6.808617e+06 -285.810896 -1383.690702 -1097.879806  26.026328   \n2018-02-06    6.794698e+06 -262.618068 -1426.152391 -1163.534323  32.498341   \n2018-02-07    6.785611e+06 -231.364140 -1452.739499 -1221.375358  32.055005   \n...                    ...         ...          ...          ...        ...   \n2023-03-06    7.437481e+06 -238.718141   -50.974292   187.743850  43.581204   \n2023-03-07    7.426450e+06 -238.134300  -109.924026   128.210274  41.678396   \n2023-03-08    7.417858e+06 -258.385641  -194.771777    63.613864  37.572144   \n2023-03-09    7.403712e+06 -344.559235  -367.085180   -22.525945  29.188244   \n2023-03-10    7.378934e+06 -388.230876  -507.814539  -119.583664  28.558888   \n\n            RSI-based MA  OnBalanceVolume        ADX             NV  \\\n2018-02-01     39.286094     6.940048e+06  35.381987  -94744.758756   \n2018-02-02     38.793391     6.800764e+06  36.988679 -139284.230099   \n2018-02-05     36.494873     6.648976e+06  40.482320 -147996.769839   \n2018-02-06     36.124827     6.870453e+06  42.044653  221477.576103   \n2018-02-07     35.478278     6.755325e+06  42.665820 -115128.705355   \n...                  ...              ...        ...            ...   \n2023-03-06     51.005489     7.423491e+06  22.948282  -13634.863657   \n2023-03-07     49.566643     7.408373e+06  22.036393  -15118.130417   \n2023-03-08     48.014107     7.390680e+06  21.677303  -17693.066945   \n2023-03-09     46.027901     7.358888e+06  23.090552  -31792.011157   \n2023-03-10     44.464712     7.313238e+06  24.620602  -45649.645680   \n\n            fear_greed  btc_dominance_close  btc_dominance_volume  sp500_close  \n2018-02-01          30            38.130953          2.712381e+10      2821.98  \n2018-02-02          15            39.147754          2.712381e+10      2762.13  \n2018-02-05          11            40.107789          2.793849e+10      2648.94  \n2018-02-06           8            39.335732          2.793849e+10      2695.14  \n2018-02-07          36            40.116930          2.793849e+10      2681.66  \n...                ...                  ...                   ...          ...  \n2023-03-06          48            43.794039          6.682402e+10      4048.43  \n2023-03-07          49            43.707110          7.397707e+10      3986.36  \n2023-03-08          50            43.742131          1.051846e+11      3992.00  \n2023-03-09          44            43.190708          9.824032e+10      3918.33  \n2023-03-10          34            42.986933          1.753496e+11      3861.60  \n\n[1284 rows x 17 columns]",
      "text/html": "<div>\n<style scoped>\n    .dataframe tbody tr th:only-of-type {\n        vertical-align: middle;\n    }\n\n    .dataframe tbody tr th {\n        vertical-align: top;\n    }\n\n    .dataframe thead th {\n        text-align: right;\n    }\n</style>\n<table border=\"1\" class=\"dataframe\">\n  <thead>\n    <tr style=\"text-align: right;\">\n      <th></th>\n      <th>diff_log_open</th>\n      <th>diff_log_high</th>\n      <th>diff_log_low</th>\n      <th>log_returns</th>\n      <th>Smoothing Line</th>\n      <th>Histogram</th>\n      <th>MACD</th>\n      <th>Signal</th>\n      <th>RSI</th>\n      <th>RSI-based MA</th>\n      <th>OnBalanceVolume</th>\n      <th>ADX</th>\n      <th>NV</th>\n      <th>fear_greed</th>\n      <th>btc_dominance_close</th>\n      <th>btc_dominance_volume</th>\n      <th>sp500_close</th>\n    </tr>\n  </thead>\n  <tbody>\n    <tr>\n      <th>2018-02-01</th>\n      <td>0.012748</td>\n      <td>-0.013558</td>\n      <td>-0.122212</td>\n      <td>-0.115443</td>\n      <td>7.020193e+06</td>\n      <td>-139.115681</td>\n      <td>-1030.333158</td>\n      <td>-891.217478</td>\n      <td>31.847724</td>\n      <td>39.286094</td>\n      <td>6.940048e+06</td>\n      <td>35.381987</td>\n      <td>-94744.758756</td>\n      <td>30</td>\n      <td>38.130953</td>\n      <td>2.712381e+10</td>\n      <td>2821.98</td>\n    </tr>\n    <tr>\n      <th>2018-02-02</th>\n      <td>-0.115159</td>\n      <td>-0.110769</td>\n      <td>-0.106611</td>\n      <td>-0.022654</td>\n      <td>6.963019e+06</td>\n      <td>-179.678909</td>\n      <td>-1115.816114</td>\n      <td>-936.137205</td>\n      <td>31.064733</td>\n      <td>38.793391</td>\n      <td>6.800764e+06</td>\n      <td>36.988679</td>\n      <td>-139284.230099</td>\n      <td>15</td>\n      <td>39.147754</td>\n      <td>2.712381e+10</td>\n      <td>2762.13</td>\n    </tr>\n    <tr>\n      <th>2018-02-05</th>\n      <td>-0.120814</td>\n      <td>-0.114060</td>\n      <td>-0.182823</td>\n      <td>-0.171146</td>\n      <td>6.808617e+06</td>\n      <td>-285.810896</td>\n      <td>-1383.690702</td>\n      <td>-1097.879806</td>\n      <td>26.026328</td>\n      <td>36.494873</td>\n      <td>6.648976e+06</td>\n      <td>40.482320</td>\n      <td>-147996.769839</td>\n      <td>11</td>\n      <td>40.107789</td>\n      <td>2.793849e+10</td>\n      <td>2648.94</td>\n    </tr>\n    <tr>\n      <th>2018-02-06</th>\n      <td>-0.171398</td>\n      <td>-0.042084</td>\n      <td>-0.100049</td>\n      <td>0.112285</td>\n      <td>6.794698e+06</td>\n      <td>-262.618068</td>\n      <td>-1426.152391</td>\n      <td>-1163.534323</td>\n      <td>32.498341</td>\n      <td>36.124827</td>\n      <td>6.870453e+06</td>\n      <td>42.044653</td>\n      <td>221477.576103</td>\n      <td>8</td>\n      <td>39.335732</td>\n      <td>2.793849e+10</td>\n      <td>2695.14</td>\n    </tr>\n    <tr>\n      <th>2018-02-07</th>\n      <td>0.112883</td>\n      <td>0.076376</td>\n      <td>0.198508</td>\n      <td>-0.015713</td>\n      <td>6.785611e+06</td>\n      <td>-231.364140</td>\n      <td>-1452.739499</td>\n      <td>-1221.375358</td>\n      <td>32.055005</td>\n      <td>35.478278</td>\n      <td>6.755325e+06</td>\n      <td>42.665820</td>\n      <td>-115128.705355</td>\n      <td>36</td>\n      <td>40.116930</td>\n      <td>2.793849e+10</td>\n      <td>2681.66</td>\n    </tr>\n    <tr>\n      <th>...</th>\n      <td>...</td>\n      <td>...</td>\n      <td>...</td>\n      <td>...</td>\n      <td>...</td>\n      <td>...</td>\n      <td>...</td>\n      <td>...</td>\n      <td>...</td>\n      <td>...</td>\n      <td>...</td>\n      <td>...</td>\n      <td>...</td>\n      <td>...</td>\n      <td>...</td>\n      <td>...</td>\n      <td>...</td>\n    </tr>\n    <tr>\n      <th>2023-03-06</th>\n      <td>0.003576</td>\n      <td>-0.002487</td>\n      <td>0.002830</td>\n      <td>-0.000530</td>\n      <td>7.437481e+06</td>\n      <td>-238.718141</td>\n      <td>-50.974292</td>\n      <td>187.743850</td>\n      <td>43.581204</td>\n      <td>51.005489</td>\n      <td>7.423491e+06</td>\n      <td>22.948282</td>\n      <td>-13634.863657</td>\n      <td>48</td>\n      <td>43.794039</td>\n      <td>6.682402e+10</td>\n      <td>4048.43</td>\n    </tr>\n    <tr>\n      <th>2023-03-07</th>\n      <td>-0.000593</td>\n      <td>-0.002034</td>\n      <td>-0.015443</td>\n      <td>-0.009649</td>\n      <td>7.426450e+06</td>\n      <td>-238.134300</td>\n      <td>-109.924026</td>\n      <td>128.210274</td>\n      <td>41.678396</td>\n      <td>49.566643</td>\n      <td>7.408373e+06</td>\n      <td>22.036393</td>\n      <td>-15118.130417</td>\n      <td>49</td>\n      <td>43.707110</td>\n      <td>7.397707e+10</td>\n      <td>3986.36</td>\n    </tr>\n    <tr>\n      <th>2023-03-08</th>\n      <td>-0.009502</td>\n      <td>-0.012009</td>\n      <td>-0.015578</td>\n      <td>-0.022795</td>\n      <td>7.417858e+06</td>\n      <td>-258.385641</td>\n      <td>-194.771777</td>\n      <td>63.613864</td>\n      <td>37.572144</td>\n      <td>48.014107</td>\n      <td>7.390680e+06</td>\n      <td>21.677303</td>\n      <td>-17693.066945</td>\n      <td>50</td>\n      <td>43.742131</td>\n      <td>1.051846e+11</td>\n      <td>3992.00</td>\n    </tr>\n    <tr>\n      <th>2023-03-09</th>\n      <td>-0.022972</td>\n      <td>-0.019980</td>\n      <td>-0.083515</td>\n      <td>-0.064451</td>\n      <td>7.403712e+06</td>\n      <td>-344.559235</td>\n      <td>-367.085180</td>\n      <td>-22.525945</td>\n      <td>29.188244</td>\n      <td>46.027901</td>\n      <td>7.358888e+06</td>\n      <td>23.090552</td>\n      <td>-31792.011157</td>\n      <td>44</td>\n      <td>43.190708</td>\n      <td>9.824032e+10</td>\n      <td>3918.33</td>\n    </tr>\n    <tr>\n      <th>2023-03-10</th>\n      <td>-0.064217</td>\n      <td>-0.070738</td>\n      <td>-0.015195</td>\n      <td>-0.006124</td>\n      <td>7.378934e+06</td>\n      <td>-388.230876</td>\n      <td>-507.814539</td>\n      <td>-119.583664</td>\n      <td>28.558888</td>\n      <td>44.464712</td>\n      <td>7.313238e+06</td>\n      <td>24.620602</td>\n      <td>-45649.645680</td>\n      <td>34</td>\n      <td>42.986933</td>\n      <td>1.753496e+11</td>\n      <td>3861.60</td>\n    </tr>\n  </tbody>\n</table>\n<p>1284 rows × 17 columns</p>\n</div>"
     },
     "execution_count": 196,
     "metadata": {},
     "output_type": "execute_result"
    }
   ],
   "source": [
    "selected_rows = [\n",
    "    'diff_log_open', 'diff_log_high', 'diff_log_low', 'log_returns',\n",
    "    SMOOTHING_LINE, HISTOGRAM, MACD, SIGNAL, RSI, RSI_MA, OBV, ADX, NV,\n",
    "    'fear_greed', 'btc_dominance_close', 'btc_dominance_volume', 'sp500_close'\n",
    "]\n",
    "\n",
    "df = diffed[selected_rows]\n",
    "df.dropna(how='any', inplace=True)\n",
    "df"
   ],
   "metadata": {
    "collapsed": false,
    "pycharm": {
     "name": "#%%\n"
    }
   }
  },
  {
   "cell_type": "code",
   "execution_count": 194,
   "outputs": [],
   "source": [],
   "metadata": {
    "collapsed": false,
    "pycharm": {
     "name": "#%%\n"
    }
   }
  }
 ],
 "metadata": {
  "kernelspec": {
   "display_name": "Python 3",
   "language": "python",
   "name": "python3"
  },
  "language_info": {
   "codemirror_mode": {
    "name": "ipython",
    "version": 2
   },
   "file_extension": ".py",
   "mimetype": "text/x-python",
   "name": "python",
   "nbconvert_exporter": "python",
   "pygments_lexer": "ipython2",
   "version": "2.7.6"
  }
 },
 "nbformat": 4,
 "nbformat_minor": 0
}