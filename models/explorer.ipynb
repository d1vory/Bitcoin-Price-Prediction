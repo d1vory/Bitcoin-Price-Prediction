{
 "cells": [
  {
   "cell_type": "code",
   "execution_count": 2,
   "metadata": {
    "collapsed": true
   },
   "outputs": [],
   "source": [
    "import pandas as pd\n",
    "import numpy as np\n",
    "from pandas import DataFrame\n",
    "from sklearn.preprocessing import MinMaxScaler\n",
    "from sklearn.model_selection import TimeSeriesSplit\n",
    "from sklearn.model_selection import train_test_split\n",
    "import keras\n",
    "from sklearn.model_selection import TimeSeriesSplit\n",
    "from keras.layers import Input, LSTM, Dense, TimeDistributed, Activation, BatchNormalization, Dropout, Bidirectional\n",
    "from keras.models import Sequential\n",
    "from keras.utils import Sequence\n",
    "#from keras.layers import CuDNNLSTM\n",
    "import matplotlib.pyplot as plt\n",
    "from matplotlib import rc"
   ]
  },
  {
   "cell_type": "code",
   "execution_count": 3,
   "outputs": [],
   "source": [
    "data_main = pd.read_csv(\n",
    "    './datasets/tradingview/bitcoin/BTCUSD_1D_to_2023-03-11.csv',\n",
    "    delimiter=',',\n",
    "    low_memory=False\n",
    ")"
   ],
   "metadata": {
    "collapsed": false
   }
  },
  {
   "cell_type": "code",
   "execution_count": 4,
   "outputs": [
    {
     "data": {
      "text/plain": "                           time          open          high           low  \\\n0     2009-10-05T04:00:00+04:00      0.000764      0.000764      0.000764   \n1     2009-10-06T04:00:00+04:00      0.000885      0.000885      0.000885   \n2     2009-10-07T04:00:00+04:00      0.001050      0.001050      0.001050   \n3     2009-10-08T04:00:00+04:00      0.001084      0.001084      0.001084   \n4     2009-10-09T04:00:00+04:00      0.001200      0.001200      0.001200   \n...                         ...           ...           ...           ...   \n4803  2023-03-07T03:00:00+03:00  22415.570000  22552.120000  21927.510000   \n4804  2023-03-08T03:00:00+03:00  22203.580000  22282.920000  21588.560000   \n4805  2023-03-09T03:00:00+03:00  21699.330000  21842.130000  19858.830000   \n4806  2023-03-10T03:00:00+03:00  20349.670000  20350.450000  19559.360000   \n4807  2023-03-11T03:00:00+03:00  20222.450000  21214.120000  19970.530000   \n\n             close   Histogram        MACD      Signal        RSI  \\\n0         0.000764         NaN         NaN         NaN        NaN   \n1         0.000885         NaN         NaN         NaN        NaN   \n2         0.001050         NaN         NaN         NaN        NaN   \n3         0.001084         NaN         NaN         NaN        NaN   \n4         0.001200         NaN         NaN         NaN        NaN   \n...            ...         ...         ...         ...        ...   \n4803  22201.830000 -238.134300 -109.924026  128.210274  41.678396   \n4804  21701.470000 -258.385641 -194.771777   63.613864  37.572144   \n4805  20346.900000 -344.559235 -367.085180  -22.525945  29.188244   \n4806  20222.680000 -388.230876 -507.814539 -119.583664  28.558888   \n4807  20459.160000 -379.069887 -593.421023 -214.351135  31.583280   \n\n      RSI-based MA  Upper Bollinger Band  Lower Bollinger Band  \\\n0              NaN                   NaN                   NaN   \n1              NaN                   NaN                   NaN   \n2              NaN                   NaN                   NaN   \n3              NaN                   NaN                   NaN   \n4              NaN                   NaN                   NaN   \n...            ...                   ...                   ...   \n4803     49.566643                   NaN                   NaN   \n4804     48.014107                   NaN                   NaN   \n4805     46.027901                   NaN                   NaN   \n4806     44.464712                   NaN                   NaN   \n4807     43.132765                   NaN                   NaN   \n\n      OnBalanceVolume  Smoothing Line        ADX            NV  \n0                 NaN             NaN        NaN           NaN  \n1        0.000000e+00             NaN        NaN      0.000000  \n2        0.000000e+00             NaN        NaN      0.000000  \n3        0.000000e+00             NaN        NaN      0.000000  \n4        0.000000e+00             NaN        NaN      0.000000  \n...               ...             ...        ...           ...  \n4803     7.408373e+06    7.426450e+06  22.036393 -15118.130417  \n4804     7.390680e+06    7.417858e+06  21.677303 -17693.066945  \n4805     7.358888e+06    7.403712e+06  23.090552 -31792.011157  \n4806     7.313238e+06    7.378934e+06  24.620602 -45649.645680  \n4807     7.335859e+06    7.361408e+06  24.604255  22620.687959  \n\n[4808 rows x 16 columns]",
      "text/html": "<div>\n<style scoped>\n    .dataframe tbody tr th:only-of-type {\n        vertical-align: middle;\n    }\n\n    .dataframe tbody tr th {\n        vertical-align: top;\n    }\n\n    .dataframe thead th {\n        text-align: right;\n    }\n</style>\n<table border=\"1\" class=\"dataframe\">\n  <thead>\n    <tr style=\"text-align: right;\">\n      <th></th>\n      <th>time</th>\n      <th>open</th>\n      <th>high</th>\n      <th>low</th>\n      <th>close</th>\n      <th>Histogram</th>\n      <th>MACD</th>\n      <th>Signal</th>\n      <th>RSI</th>\n      <th>RSI-based MA</th>\n      <th>Upper Bollinger Band</th>\n      <th>Lower Bollinger Band</th>\n      <th>OnBalanceVolume</th>\n      <th>Smoothing Line</th>\n      <th>ADX</th>\n      <th>NV</th>\n    </tr>\n  </thead>\n  <tbody>\n    <tr>\n      <th>0</th>\n      <td>2009-10-05T04:00:00+04:00</td>\n      <td>0.000764</td>\n      <td>0.000764</td>\n      <td>0.000764</td>\n      <td>0.000764</td>\n      <td>NaN</td>\n      <td>NaN</td>\n      <td>NaN</td>\n      <td>NaN</td>\n      <td>NaN</td>\n      <td>NaN</td>\n      <td>NaN</td>\n      <td>NaN</td>\n      <td>NaN</td>\n      <td>NaN</td>\n      <td>NaN</td>\n    </tr>\n    <tr>\n      <th>1</th>\n      <td>2009-10-06T04:00:00+04:00</td>\n      <td>0.000885</td>\n      <td>0.000885</td>\n      <td>0.000885</td>\n      <td>0.000885</td>\n      <td>NaN</td>\n      <td>NaN</td>\n      <td>NaN</td>\n      <td>NaN</td>\n      <td>NaN</td>\n      <td>NaN</td>\n      <td>NaN</td>\n      <td>0.000000e+00</td>\n      <td>NaN</td>\n      <td>NaN</td>\n      <td>0.000000</td>\n    </tr>\n    <tr>\n      <th>2</th>\n      <td>2009-10-07T04:00:00+04:00</td>\n      <td>0.001050</td>\n      <td>0.001050</td>\n      <td>0.001050</td>\n      <td>0.001050</td>\n      <td>NaN</td>\n      <td>NaN</td>\n      <td>NaN</td>\n      <td>NaN</td>\n      <td>NaN</td>\n      <td>NaN</td>\n      <td>NaN</td>\n      <td>0.000000e+00</td>\n      <td>NaN</td>\n      <td>NaN</td>\n      <td>0.000000</td>\n    </tr>\n    <tr>\n      <th>3</th>\n      <td>2009-10-08T04:00:00+04:00</td>\n      <td>0.001084</td>\n      <td>0.001084</td>\n      <td>0.001084</td>\n      <td>0.001084</td>\n      <td>NaN</td>\n      <td>NaN</td>\n      <td>NaN</td>\n      <td>NaN</td>\n      <td>NaN</td>\n      <td>NaN</td>\n      <td>NaN</td>\n      <td>0.000000e+00</td>\n      <td>NaN</td>\n      <td>NaN</td>\n      <td>0.000000</td>\n    </tr>\n    <tr>\n      <th>4</th>\n      <td>2009-10-09T04:00:00+04:00</td>\n      <td>0.001200</td>\n      <td>0.001200</td>\n      <td>0.001200</td>\n      <td>0.001200</td>\n      <td>NaN</td>\n      <td>NaN</td>\n      <td>NaN</td>\n      <td>NaN</td>\n      <td>NaN</td>\n      <td>NaN</td>\n      <td>NaN</td>\n      <td>0.000000e+00</td>\n      <td>NaN</td>\n      <td>NaN</td>\n      <td>0.000000</td>\n    </tr>\n    <tr>\n      <th>...</th>\n      <td>...</td>\n      <td>...</td>\n      <td>...</td>\n      <td>...</td>\n      <td>...</td>\n      <td>...</td>\n      <td>...</td>\n      <td>...</td>\n      <td>...</td>\n      <td>...</td>\n      <td>...</td>\n      <td>...</td>\n      <td>...</td>\n      <td>...</td>\n      <td>...</td>\n      <td>...</td>\n    </tr>\n    <tr>\n      <th>4803</th>\n      <td>2023-03-07T03:00:00+03:00</td>\n      <td>22415.570000</td>\n      <td>22552.120000</td>\n      <td>21927.510000</td>\n      <td>22201.830000</td>\n      <td>-238.134300</td>\n      <td>-109.924026</td>\n      <td>128.210274</td>\n      <td>41.678396</td>\n      <td>49.566643</td>\n      <td>NaN</td>\n      <td>NaN</td>\n      <td>7.408373e+06</td>\n      <td>7.426450e+06</td>\n      <td>22.036393</td>\n      <td>-15118.130417</td>\n    </tr>\n    <tr>\n      <th>4804</th>\n      <td>2023-03-08T03:00:00+03:00</td>\n      <td>22203.580000</td>\n      <td>22282.920000</td>\n      <td>21588.560000</td>\n      <td>21701.470000</td>\n      <td>-258.385641</td>\n      <td>-194.771777</td>\n      <td>63.613864</td>\n      <td>37.572144</td>\n      <td>48.014107</td>\n      <td>NaN</td>\n      <td>NaN</td>\n      <td>7.390680e+06</td>\n      <td>7.417858e+06</td>\n      <td>21.677303</td>\n      <td>-17693.066945</td>\n    </tr>\n    <tr>\n      <th>4805</th>\n      <td>2023-03-09T03:00:00+03:00</td>\n      <td>21699.330000</td>\n      <td>21842.130000</td>\n      <td>19858.830000</td>\n      <td>20346.900000</td>\n      <td>-344.559235</td>\n      <td>-367.085180</td>\n      <td>-22.525945</td>\n      <td>29.188244</td>\n      <td>46.027901</td>\n      <td>NaN</td>\n      <td>NaN</td>\n      <td>7.358888e+06</td>\n      <td>7.403712e+06</td>\n      <td>23.090552</td>\n      <td>-31792.011157</td>\n    </tr>\n    <tr>\n      <th>4806</th>\n      <td>2023-03-10T03:00:00+03:00</td>\n      <td>20349.670000</td>\n      <td>20350.450000</td>\n      <td>19559.360000</td>\n      <td>20222.680000</td>\n      <td>-388.230876</td>\n      <td>-507.814539</td>\n      <td>-119.583664</td>\n      <td>28.558888</td>\n      <td>44.464712</td>\n      <td>NaN</td>\n      <td>NaN</td>\n      <td>7.313238e+06</td>\n      <td>7.378934e+06</td>\n      <td>24.620602</td>\n      <td>-45649.645680</td>\n    </tr>\n    <tr>\n      <th>4807</th>\n      <td>2023-03-11T03:00:00+03:00</td>\n      <td>20222.450000</td>\n      <td>21214.120000</td>\n      <td>19970.530000</td>\n      <td>20459.160000</td>\n      <td>-379.069887</td>\n      <td>-593.421023</td>\n      <td>-214.351135</td>\n      <td>31.583280</td>\n      <td>43.132765</td>\n      <td>NaN</td>\n      <td>NaN</td>\n      <td>7.335859e+06</td>\n      <td>7.361408e+06</td>\n      <td>24.604255</td>\n      <td>22620.687959</td>\n    </tr>\n  </tbody>\n</table>\n<p>4808 rows × 16 columns</p>\n</div>"
     },
     "execution_count": 4,
     "metadata": {},
     "output_type": "execute_result"
    }
   ],
   "source": [
    "data_main"
   ],
   "metadata": {
    "collapsed": false
   }
  },
  {
   "cell_type": "code",
   "execution_count": 5,
   "outputs": [],
   "source": [
    "#DATE = 'Date'\n",
    "TIME = 'time'\n",
    "OPEN = 'open'\n",
    "HIGH = 'high'\n",
    "LOW = 'low'\n",
    "CLOSE = 'close'\n",
    "VOLUME = 'volume'\n",
    "#MARKET_CAP = 'Market cap'\n",
    "\n",
    "#INDICATORS\n",
    "MOVING_AVERAGE = 'MA'\n",
    "SMOOTHING_LINE = 'Smoothing Line'\n",
    "HISTOGRAM = 'Histogram'\n",
    "MACD = 'MACD'\n",
    "SIGNAL = 'Signal'\n",
    "RSI = 'RSI'\n",
    "RSI_MA = 'RSI-based MA'\n",
    "UP_BOL_BAND = 'Upper Bollinger Band'\n",
    "LOW_BOL_BAND = 'Lower Bollinger Band'\n",
    "OBV = 'OnBalanceVolume'\n",
    "ADX = 'ADX'\n",
    "NV = 'NV'\n",
    "\n",
    "ALL_COLUMNS = {\n",
    "    TIME, OPEN, HIGH, LOW, CLOSE,\n",
    "    MOVING_AVERAGE, SMOOTHING_LINE, HISTOGRAM, MACD, SIGNAL, RSI, RSI_MA, UP_BOL_BAND, LOW_BOL_BAND, OBV, ADX\n",
    "}\n"
   ],
   "metadata": {
    "collapsed": false
   }
  },
  {
   "cell_type": "code",
   "execution_count": 6,
   "outputs": [],
   "source": [
    "\n",
    "\n",
    "class DatasetPreparator:\n",
    "    def __init__(self, dataset):\n",
    "        self.dataset: DataFrame = dataset.copy(deep=True)\n",
    "\n",
    "\n",
    "    def prepare(self):\n",
    "        self.remove_columns()\n",
    "        self.transform_types()\n",
    "        self.remove_nan()\n",
    "        return self.dataset\n",
    "\n",
    "\n",
    "    def preprocess(self):\n",
    "        self.optimize_values([OPEN, HIGH, LOW, CLOSE, HISTOGRAM, MACD, SIGNAL, RSI, RSI_MA, OBV, SMOOTHING_LINE, ADX, NV])\n",
    "        return self.dataset\n",
    "\n",
    "    def get_data_for_prediction(self, test_size=0.1):\n",
    "        self.prepare()\n",
    "        self.preprocess()\n",
    "        self.remove_columns_for_prediction()\n",
    "        x_train, x_test, y_train, y_test = train_test_split(\n",
    "            self.dataset,\n",
    "            self.dataset[CLOSE],\n",
    "            test_size=test_size,\n",
    "            shuffle=False\n",
    "        )\n",
    "        return x_train.to_numpy(), x_test.to_numpy(), y_train.to_numpy(), y_test.to_numpy()\n",
    "\n",
    "\n",
    "\n",
    "    def transform_types(self):\n",
    "        try:\n",
    "            self.dataset[TIME] = pd.to_datetime(self.dataset[TIME],unit='s')\n",
    "        except ValueError:\n",
    "            self.dataset[TIME] = pd.to_datetime(self.dataset[TIME], utc=True)\n",
    "\n",
    "    def remove_columns(self):\n",
    "        unused_columns = [\n",
    "            UP_BOL_BAND, LOW_BOL_BAND\n",
    "        ]\n",
    "        self.dataset= self.dataset.drop(unused_columns, axis=1)\n",
    "\n",
    "    def remove_columns_for_prediction(self):\n",
    "        self.dataset= self.dataset.drop([TIME], axis=1)\n",
    "\n",
    "    @staticmethod\n",
    "    def plot(dataset):\n",
    "        # data_plot = self.dataset[[TIME, CLOSE]]\n",
    "        # data_plot.plot()\n",
    "        ax = dataset.plot(x=TIME, y=CLOSE)\n",
    "        ax.set_xlabel(\"Date\")\n",
    "        ax.set_ylabel(\"Close Price (USD)\")\n",
    "\n",
    "    def remove_nan(self):\n",
    "        self.dataset = self.dataset.fillna(0.0)\n",
    "\n",
    "\n",
    "    def optimize_values(self, columns):\n",
    "        scaler = MinMaxScaler(feature_range=(0,1))\n",
    "        self.dataset[columns] = scaler.fit_transform(self.dataset[columns])\n",
    "\n",
    "    def reverse_data(self, arr):\n",
    "        scaler = MinMaxScaler(feature_range=(0,1))\n",
    "        close_price = self.dataset[CLOSE].values.reshape(-1, 1)\n",
    "        print(close_price)\n",
    "        scaler.fit_transform(close_price)\n",
    "        return scaler.inverse_transform(arr)\n",
    "\n",
    "\n",
    "preparator = DatasetPreparator(dataset=data_main)\n",
    "#dataset = preparator.prepare()\n",
    "#dataset\n",
    "#DatasetPreparator.plot(dataset)\n",
    "x_train, x_test, y_train, y_test = preparator.get_data_for_prediction()"
   ],
   "metadata": {
    "collapsed": false
   }
  },
  {
   "cell_type": "code",
   "execution_count": 14,
   "outputs": [],
   "source": [
    "np.save( './datasets/prepared/btc/1d_with_indicators/v1/x_train.npy', x_train)\n",
    "np.save( './datasets/prepared/btc/1d_with_indicators/v1/x_test.npy', x_test)\n",
    "np.save( './datasets/prepared/btc/1d_with_indicators/v1/y_train.npy', y_train)\n",
    "np.save( './datasets/prepared/btc/1d_with_indicators/v1/y_test.npy', y_test)"
   ],
   "metadata": {
    "collapsed": false
   }
  },
  {
   "cell_type": "code",
   "execution_count": 7,
   "outputs": [],
   "source": [
    "def to_sequences(data, seq_len):\n",
    "    seq_len -= 1\n",
    "    d = []\n",
    "\n",
    "    for index in range(len(data) - seq_len):\n",
    "        d.append(data[index: index + seq_len])\n",
    "\n",
    "    return np.array(d)\n"
   ],
   "metadata": {
    "collapsed": false
   }
  },
  {
   "cell_type": "code",
   "execution_count": 8,
   "outputs": [
    {
     "name": "stderr",
     "output_type": "stream",
     "text": [
      "2023-03-29 21:18:41.134986: W tensorflow/core/common_runtime/pluggable_device/pluggable_device_bfc_allocator.cc:28] Overriding allow_growth setting because force_memory_growth was requested by the device.\n"
     ]
    }
   ],
   "source": [
    "DROPOUT = 0.2\n",
    "SEQ_LEN = 100\n",
    "WINDOW_SIZE = SEQ_LEN - 1\n",
    "\n",
    "model = keras.Sequential()\n",
    "\n",
    "model.add(Bidirectional(LSTM(WINDOW_SIZE, return_sequences=True),\n",
    "                        input_shape=(WINDOW_SIZE, x_train.shape[-1])))\n",
    "model.add(Dropout(rate=DROPOUT))\n",
    "\n",
    "model.add(Bidirectional(LSTM((WINDOW_SIZE * 2), return_sequences=True)))\n",
    "model.add(Dropout(rate=DROPOUT))\n",
    "\n",
    "model.add(Bidirectional(LSTM(WINDOW_SIZE, return_sequences=False)))\n",
    "\n",
    "model.add(Dense(units=1))\n",
    "\n",
    "model.add(Activation('linear'))\n",
    "\n",
    "model.compile(\n",
    "    loss='mean_squared_error',\n",
    "    optimizer='adam'\n",
    ")"
   ],
   "metadata": {
    "collapsed": false
   }
  },
  {
   "cell_type": "code",
   "execution_count": 9,
   "outputs": [
    {
     "name": "stdout",
     "output_type": "stream",
     "text": [
      "(4228, 99, 13)\n",
      "(4228, 99)\n",
      "(382, 99, 13)\n",
      "(382, 99)\n"
     ]
    }
   ],
   "source": [
    "x_train1 = to_sequences(x_train, SEQ_LEN)\n",
    "y_train1 = to_sequences(y_train, SEQ_LEN)\n",
    "x_test1 = to_sequences(x_test, SEQ_LEN)\n",
    "y_test1 = to_sequences(y_test, SEQ_LEN)\n",
    "\n",
    "print(x_train1.shape)\n",
    "print(y_train1.shape)\n",
    "print(x_test1.shape)\n",
    "print(y_test1.shape)"
   ],
   "metadata": {
    "collapsed": false
   }
  },
  {
   "cell_type": "code",
   "execution_count": null,
   "outputs": [],
   "source": [
    "BATCH_SIZE = 64\n",
    "\n",
    "# history = model.fit_generator(\n",
    "#     data_generator(tscv.split(x_train, y_train)),\n",
    "#     epochs=50,\n",
    "#     batch_size=BATCH_SIZE,\n",
    "# )\n",
    "\n",
    "history = model.fit(\n",
    "    x_train1,\n",
    "    y_train1,\n",
    "    epochs=50,\n",
    "    batch_size=BATCH_SIZE,\n",
    "    shuffle=False,\n",
    "    validation_split=0.1\n",
    ")"
   ],
   "metadata": {
    "collapsed": false,
    "pycharm": {
     "is_executing": true
    }
   }
  },
  {
   "cell_type": "code",
   "execution_count": null,
   "outputs": [],
   "source": [],
   "metadata": {
    "collapsed": false
   }
  }
 ],
 "metadata": {
  "kernelspec": {
   "display_name": "Python 3",
   "language": "python",
   "name": "python3"
  },
  "language_info": {
   "codemirror_mode": {
    "name": "ipython",
    "version": 2
   },
   "file_extension": ".py",
   "mimetype": "text/x-python",
   "name": "python",
   "nbconvert_exporter": "python",
   "pygments_lexer": "ipython2",
   "version": "2.7.6"
  }
 },
 "nbformat": 4,
 "nbformat_minor": 0
}
