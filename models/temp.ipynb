{
 "cells": [
  {
   "cell_type": "code",
   "execution_count": 2,
   "metadata": {
    "collapsed": true,
    "ExecuteTime": {
     "end_time": "2023-06-04T10:49:10.394762100Z",
     "start_time": "2023-06-04T10:49:08.701042300Z"
    }
   },
   "outputs": [],
   "source": [
    "import pandas as pd\n",
    "import numpy as np\n",
    "import matplotlib.pyplot as plt\n",
    "import torch as nn"
   ]
  },
  {
   "cell_type": "code",
   "execution_count": 2,
   "outputs": [
    {
     "name": "stdout",
     "output_type": "stream",
     "text": [
      "torch.Size([4, 10, 16])\n"
     ]
    }
   ],
   "source": [
    "input = nn.Tensor(\n",
    "    [[[-0.0035,  1.0897,  0.2711,  0.9302, -0.3022,  0.9437, -0.1261,\n",
    "              0.8842, -0.3744,  0.6508, -0.9675,  0.3745, -0.6803, -0.1146,\n",
    "              -0.7081,  1.5586],\n",
    "             [ 0.1299,  1.0299, -0.2603,  0.6847, -0.3441,  0.9844, -0.1167,\n",
    "               0.8823, -0.4660,  0.6401, -1.0539,  0.4742, -0.6803, -0.1205,\n",
    "               -0.6953,  1.5352],\n",
    "             [-0.3083,  0.6455, -0.1584,  0.7628, -0.3535,  0.9435, -0.1311,\n",
    "              0.8790, -0.6557,  0.6038, -1.0197,  0.3237, -0.6350, -0.0982,\n",
    "              -0.6356,  1.4661],\n",
    "             [-0.2226,  0.7830,  0.0592,  1.1139, -0.3598,  0.9406, -0.1352,\n",
    "              0.8755, -0.5092,  0.6338, -0.9879,  1.5438, -0.6350, -0.0875,\n",
    "              -0.7140,  1.5653],\n",
    "             [ 0.1364,  0.9898, -0.1900,  0.9400, -0.3720,  0.9381, -0.1394,\n",
    "               0.8718, -0.5516,  0.5941, -0.9259,  0.2603, -0.6350, -0.0906,\n",
    "               -0.7156,  1.5506],\n",
    "             [ 0.0821,  0.9539,  0.0924,  0.9882, -0.4021,  0.9947, -0.1317,\n",
    "               0.8637, -0.3803,  0.6332, -0.8445,  1.4919, -0.7256, -0.1180,\n",
    "               -0.8050,  1.5275],\n",
    "             [ 0.0103,  1.3301,  0.0947,  1.2340, -0.3865,  1.0453, -0.1138,\n",
    "               0.8677, -0.0377,  0.6722, -0.9412,  1.7118, -0.5897, -0.1501,\n",
    "               -0.6128,  1.5708],\n",
    "             [ 0.2602,  0.7943,  0.1629,  0.9534, -0.3705,  1.0730, -0.1005,\n",
    "               0.8738, -0.0823,  0.6496, -1.0309,  0.5741, -0.5897, -0.1380,\n",
    "               -0.6496,  1.5034],\n",
    "             [-0.0272,  1.2351, -0.0833,  1.1579, -0.3506,  1.1128, -0.0810,\n",
    "              0.8827,  0.1547,  0.6857, -1.1232,  1.6577, -0.7256, -0.1487,\n",
    "              -0.7052,  1.6340],\n",
    "             [ 0.2578,  1.3504,  0.2862,  1.0603, -0.3112,  1.2041, -0.0183,\n",
    "               0.9219,  0.5729,  0.7401, -1.1680,  1.8944, -0.7709, -0.2018,\n",
    "               -0.5400,  1.6295]],\n",
    "\n",
    "            [[ 0.9714,  0.5702,  0.0507,  0.6351, -0.2443,  0.9794, -0.0851,\n",
    "               0.8818, -0.4560,  0.6400, -1.0508,  0.4742, -0.6793, -0.1205,\n",
    "               -0.6950,  1.5352],\n",
    "             [ 0.5332,  0.1858,  0.1526,  0.7132, -0.2537,  0.9385, -0.0995,\n",
    "               0.8785, -0.6457,  0.6038, -1.0165,  0.3237, -0.6340, -0.0982,\n",
    "               -0.6353,  1.4661],\n",
    "             [ 0.6189,  0.3233,  0.3702,  1.0643, -0.2600,  0.9356, -0.1036,\n",
    "               0.8750, -0.4992,  0.6337, -0.9847,  1.5438, -0.6340, -0.0875,\n",
    "               -0.7137,  1.5653],\n",
    "             [ 0.9778,  0.5301,  0.1210,  0.8904, -0.2721,  0.9331, -0.1078,\n",
    "               0.8713, -0.5416,  0.5941, -0.9228,  0.2603, -0.6340, -0.0906,\n",
    "               -0.7153,  1.5506],\n",
    "             [ 0.9235,  0.4942,  0.4034,  0.9387, -0.3023,  0.9897, -0.1000,\n",
    "               0.8632, -0.3703,  0.6332, -0.8414,  1.4919, -0.7246, -0.1180,\n",
    "               -0.8047,  1.5275],\n",
    "             [ 0.8518,  0.8704,  0.4057,  1.1844, -0.2867,  1.0403, -0.0822,\n",
    "               0.8672, -0.0277,  0.6722, -0.9380,  1.7118, -0.5887, -0.1501,\n",
    "               -0.6125,  1.5708],\n",
    "             [ 1.1017,  0.3346,  0.4739,  0.9038, -0.2707,  1.0680, -0.0688,\n",
    "               0.8733, -0.0723,  0.6495, -1.0277,  0.5741, -0.5887, -0.1380,\n",
    "               -0.6493,  1.5034],\n",
    "             [ 0.8143,  0.7754,  0.2277,  1.1083, -0.2507,  1.1078, -0.0494,\n",
    "               0.8822,  0.1647,  0.6856, -1.1201,  1.6577, -0.7246, -0.1487,\n",
    "               -0.7049,  1.6340],\n",
    "             [ 1.0993,  0.8907,  0.5972,  1.0107, -0.2114,  1.1991,  0.0133,\n",
    "               0.9214,  0.5829,  0.7400, -1.1649,  1.8944, -0.7699, -0.2018,\n",
    "               -0.5397,  1.6295],\n",
    "             [ 0.9204,  0.6673,  0.3924,  1.2920, -0.1859,  1.2582,  0.0484,\n",
    "               0.9412,  0.9978,  0.7768, -1.0883,  1.6705, -0.7246, -0.1883,\n",
    "               -0.5385,  1.6703]],\n",
    "\n",
    "            [[ 0.6010, -0.7707,  0.4327,  0.5693, -0.1548,  0.9235, -0.0679,\n",
    "               0.8770, -0.6357,  0.6036, -1.0134,  0.3237, -0.6330, -0.0982,\n",
    "               -0.6350,  1.4661],\n",
    "             [ 0.6867, -0.6332,  0.6503,  0.9205, -0.1612,  0.9206, -0.0720,\n",
    "               0.8735, -0.4892,  0.6336, -0.9816,  1.5437, -0.6330, -0.0875,\n",
    "               -0.7134,  1.5653],\n",
    "             [ 1.0457, -0.4264,  0.4011,  0.7466, -0.1733,  0.9181, -0.0762,\n",
    "               0.8698, -0.5317,  0.5939, -0.9196,  0.2603, -0.6330, -0.0906,\n",
    "               -0.7149,  1.5506],\n",
    "             [ 0.9914, -0.4622,  0.6836,  0.7948, -0.2035,  0.9747, -0.0685,\n",
    "               0.8617, -0.3603,  0.6330, -0.8382,  1.4918, -0.7236, -0.1180,\n",
    "               -0.8044,  1.5275],\n",
    "             [ 0.9196, -0.0861,  0.6859,  1.0405, -0.1878,  1.0254, -0.0506,\n",
    "               0.8657, -0.0177,  0.6720, -0.9348,  1.7118, -0.5877, -0.1501,\n",
    "               -0.6122,  1.5708],\n",
    "             [ 1.1695, -0.6219,  0.7540,  0.7600, -0.1718,  1.0530, -0.0373,\n",
    "               0.8718, -0.0623,  0.6494, -1.0246,  0.5741, -0.5877, -0.1380,\n",
    "               -0.6490,  1.5034],\n",
    "             [ 0.8821, -0.1810,  0.5078,  0.9645, -0.1519,  1.0929, -0.0178,\n",
    "               0.8807,  0.1747,  0.6855, -1.1169,  1.6577, -0.7236, -0.1487,\n",
    "               -0.7046,  1.6340],\n",
    "             [ 1.1671, -0.0658,  0.8773,  0.8669, -0.1125,  1.1842,  0.0449,\n",
    "               0.9199,  0.5929,  0.7399, -1.1617,  1.8943, -0.7689, -0.2018,\n",
    "               -0.5394,  1.6295],\n",
    "             [ 0.9882, -0.2892,  0.6725,  1.1481, -0.0871,  1.2433,  0.0800,\n",
    "               0.9397,  1.0078,  0.7767, -1.0851,  1.6705, -0.7236, -0.1883,\n",
    "               -0.5382,  1.6703],\n",
    "             [ 1.2794,  0.3438,  0.8305,  1.4483, -0.0605,  1.3621,  0.1398,\n",
    "               0.9680,  1.5728,  0.8181, -0.9092,  1.7566, -0.7236, -0.1814,\n",
    "               -0.6093,  1.7459]],\n",
    "\n",
    "            [[-0.0815, -1.2070,  0.8718,  0.6966, -0.0643,  0.8959, -0.0405,\n",
    "              0.8710, -0.4792,  0.6333, -0.9784,  1.5437, -0.6320, -0.0875,\n",
    "              -0.7130,  1.5653],\n",
    "             [ 0.2775, -1.0002,  0.6227,  0.5227, -0.0764,  0.8934, -0.0447,\n",
    "               0.8673, -0.5217,  0.5937, -0.9165,  0.2603, -0.6320, -0.0906,\n",
    "               -0.7146,  1.5506],\n",
    "             [ 0.2232, -1.0361,  0.9051,  0.5710, -0.1066,  0.9500, -0.0369,\n",
    "               0.8592, -0.3503,  0.6328, -0.8350,  1.4918, -0.7226, -0.1180,\n",
    "               -0.8040,  1.5275],\n",
    "             [ 0.1514, -0.6599,  0.9074,  0.8167, -0.0910,  1.0007, -0.0191,\n",
    "               0.8632, -0.0077,  0.6718, -0.9317,  1.7118, -0.5867, -0.1501,\n",
    "               -0.6119,  1.5708],\n",
    "             [ 0.4013, -1.1957,  0.9756,  0.5362, -0.0750,  1.0283, -0.0057,\n",
    "               0.8693, -0.0523,  0.6491, -1.0214,  0.5740, -0.5867, -0.1380,\n",
    "               -0.6487,  1.5034],\n",
    "             [ 0.1139, -0.7549,  0.7293,  0.7406, -0.0550,  1.0681,  0.0137,\n",
    "               0.8782,  0.1847,  0.6852, -1.1137,  1.6577, -0.7226, -0.1487,\n",
    "               -0.7043,  1.6340],\n",
    "             [ 0.3989, -0.6396,  1.0988,  0.6430, -0.0157,  1.1595,  0.0764,\n",
    "               0.9174,  0.6029,  0.7396, -1.1585,  1.8943, -0.7679, -0.2018,\n",
    "               -0.5391,  1.6295],\n",
    "             [ 0.2200, -0.8630,  0.8940,  0.9243,  0.0098,  1.2185,  0.1115,\n",
    "               0.9372,  1.0178,  0.7764, -1.0819,  1.6705, -0.7226, -0.1883,\n",
    "               -0.5379,  1.6703],\n",
    "             [ 0.5112, -0.2301,  1.0520,  1.2245,  0.0363,  1.3373,  0.1713,\n",
    "               0.9655,  1.5828,  0.8179, -0.9061,  1.7565, -0.7226, -0.1814,\n",
    "               -0.6090,  1.7459],\n",
    "             [ 0.8284,  0.6641,  1.6162,  1.7233,  0.0835,  1.5655,  0.2769,\n",
    "               1.0103,  2.1881,  0.9117, -0.6158,  2.7231, -0.5414, -0.1032,\n",
    "               -0.3098,  1.7662]]]\n",
    ")\n",
    "print(input.shape)"
   ],
   "metadata": {
    "collapsed": false,
    "ExecuteTime": {
     "end_time": "2023-06-01T12:59:18.265866700Z",
     "start_time": "2023-06-01T12:59:18.256719900Z"
    }
   }
  },
  {
   "cell_type": "code",
   "execution_count": 4,
   "outputs": [
    {
     "data": {
      "text/plain": "4"
     },
     "execution_count": 4,
     "metadata": {},
     "output_type": "execute_result"
    }
   ],
   "source": [
    "input.shape[0]"
   ],
   "metadata": {
    "collapsed": false,
    "ExecuteTime": {
     "end_time": "2023-06-01T13:03:54.706810200Z",
     "start_time": "2023-06-01T13:03:54.654254900Z"
    }
   }
  },
  {
   "cell_type": "code",
   "execution_count": 5,
   "outputs": [],
   "source": [
    "from torch.nn import Linear\n",
    "\n",
    "timestep = 10\n",
    "horizon = 10\n",
    "batch_size = 4\n",
    "feature_size = 16\n",
    "decoder_size = 12\n"
   ],
   "metadata": {
    "collapsed": false,
    "ExecuteTime": {
     "end_time": "2023-06-01T13:04:28.822455500Z",
     "start_time": "2023-06-01T13:04:28.797425100Z"
    }
   }
  },
  {
   "cell_type": "code",
   "execution_count": 6,
   "outputs": [
    {
     "name": "stdout",
     "output_type": "stream",
     "text": [
      "viewd shape torch.Size([4, 120])\n"
     ]
    },
    {
     "data": {
      "text/plain": "torch.Size([4, 10])"
     },
     "execution_count": 6,
     "metadata": {},
     "output_type": "execute_result"
    }
   ],
   "source": [
    "m = Linear(feature_size, decoder_size)\n",
    "m2 = Linear(timestep * decoder_size, horizon)\n",
    "\n",
    "output = m(input)\n",
    "viewed = output.view(input.shape[0], -1)\n",
    "print('viewd shape', viewed.shape)\n",
    "output = m2(viewed)\n",
    "\n",
    "output.shape"
   ],
   "metadata": {
    "collapsed": false,
    "ExecuteTime": {
     "end_time": "2023-06-01T13:04:29.470217700Z",
     "start_time": "2023-06-01T13:04:29.439892100Z"
    }
   }
  },
  {
   "cell_type": "code",
   "execution_count": 11,
   "outputs": [
    {
     "data": {
      "text/plain": "torch.Size([4, 10])"
     },
     "execution_count": 11,
     "metadata": {},
     "output_type": "execute_result"
    }
   ],
   "source": [
    "l = Linear(timestep * feature_size, horizon)\n",
    "output = l(input.view(input.shape[0], -1))\n",
    "output.shape"
   ],
   "metadata": {
    "collapsed": false,
    "ExecuteTime": {
     "end_time": "2023-06-01T13:06:53.869994200Z",
     "start_time": "2023-06-01T13:06:53.858958900Z"
    }
   }
  },
  {
   "cell_type": "code",
   "execution_count": 5,
   "outputs": [
    {
     "data": {
      "text/plain": "tensor([[ 0.0199,  0.0648,  0.0891, -0.0179,  0.0992,  0.0455, -0.2983,  0.0441,\n         -0.5930,  0.1961],\n        [-0.0079,  0.1028,  0.2114, -0.0386,  0.1708,  0.0243, -0.3193,  0.0533,\n         -0.5303,  0.1824],\n        [ 0.1374,  0.1181,  0.1065, -0.0507,  0.2090,  0.0497, -0.4247,  0.0437,\n         -0.5850,  0.1636],\n        [ 0.1728, -0.0012, -0.0332,  0.1481,  0.0991, -0.0015, -0.2325,  0.0080,\n         -0.5931,  0.1486]], grad_fn=<AddmmBackward0>)"
     },
     "execution_count": 5,
     "metadata": {},
     "output_type": "execute_result"
    }
   ],
   "source": [
    "output"
   ],
   "metadata": {
    "collapsed": false,
    "ExecuteTime": {
     "end_time": "2023-05-31T20:01:34.944657200Z",
     "start_time": "2023-05-31T20:01:34.889532400Z"
    }
   }
  },
  {
   "cell_type": "code",
   "execution_count": null,
   "outputs": [],
   "source": [
    "m = nn.Linear(16, 1)"
   ],
   "metadata": {
    "collapsed": false
   }
  },
  {
   "cell_type": "code",
   "execution_count": 3,
   "outputs": [],
   "source": [
    "data_main = pd.read_csv(\n",
    "    './datasets/tradingview/bitcoin/BTCUSD_1D_to_2023-03-11.csv',\n",
    "    delimiter=',',\n",
    "    low_memory=False,\n",
    "    parse_dates=True\n",
    ")"
   ],
   "metadata": {
    "collapsed": false,
    "pycharm": {
     "name": "#%%\n"
    }
   }
  },
  {
   "cell_type": "code",
   "execution_count": 4,
   "outputs": [],
   "source": [
    "df = data_main[['time', 'close']]"
   ],
   "metadata": {
    "collapsed": false,
    "pycharm": {
     "name": "#%%\n"
    }
   }
  },
  {
   "cell_type": "code",
   "execution_count": 5,
   "outputs": [
    {
     "data": {
      "text/plain": "                        time     close\n0  2009-10-05T04:00:00+04:00  0.000764\n1  2009-10-06T04:00:00+04:00  0.000885\n2  2009-10-07T04:00:00+04:00  0.001050\n3  2009-10-08T04:00:00+04:00  0.001084\n4  2009-10-09T04:00:00+04:00  0.001200",
      "text/html": "<div>\n<style scoped>\n    .dataframe tbody tr th:only-of-type {\n        vertical-align: middle;\n    }\n\n    .dataframe tbody tr th {\n        vertical-align: top;\n    }\n\n    .dataframe thead th {\n        text-align: right;\n    }\n</style>\n<table border=\"1\" class=\"dataframe\">\n  <thead>\n    <tr style=\"text-align: right;\">\n      <th></th>\n      <th>time</th>\n      <th>close</th>\n    </tr>\n  </thead>\n  <tbody>\n    <tr>\n      <th>0</th>\n      <td>2009-10-05T04:00:00+04:00</td>\n      <td>0.000764</td>\n    </tr>\n    <tr>\n      <th>1</th>\n      <td>2009-10-06T04:00:00+04:00</td>\n      <td>0.000885</td>\n    </tr>\n    <tr>\n      <th>2</th>\n      <td>2009-10-07T04:00:00+04:00</td>\n      <td>0.001050</td>\n    </tr>\n    <tr>\n      <th>3</th>\n      <td>2009-10-08T04:00:00+04:00</td>\n      <td>0.001084</td>\n    </tr>\n    <tr>\n      <th>4</th>\n      <td>2009-10-09T04:00:00+04:00</td>\n      <td>0.001200</td>\n    </tr>\n  </tbody>\n</table>\n</div>"
     },
     "execution_count": 5,
     "metadata": {},
     "output_type": "execute_result"
    }
   ],
   "source": [
    "df.head()"
   ],
   "metadata": {
    "collapsed": false,
    "pycharm": {
     "name": "#%%\n"
    }
   }
  },
  {
   "cell_type": "code",
   "execution_count": 6,
   "outputs": [
    {
     "data": {
      "text/plain": "<AxesSubplot: >"
     },
     "execution_count": 6,
     "metadata": {},
     "output_type": "execute_result"
    },
    {
     "data": {
      "text/plain": "<Figure size 640x480 with 1 Axes>",
      "image/png": "[encoded data removed]"
     },
     "metadata": {},
     "output_type": "display_data"
    }
   ],
   "source": [
    "df.plot()"
   ],
   "metadata": {
    "collapsed": false,
    "pycharm": {
     "name": "#%%\n"
    }
   }
  },
  {
   "cell_type": "code",
   "execution_count": 7,
   "outputs": [],
   "source": [
    "def adf(x):\n",
    "    res = adfuller(x)\n",
    "    print(\"Test-Statistic:\", res[0])\n",
    "    print(\"P-Value:\", res[1])\n",
    "    if res[1] < 0.05:\n",
    "        print(\"Stationary\")\n",
    "    else:\n",
    "        print(\"Non-Stationary\")"
   ],
   "metadata": {
    "collapsed": false,
    "pycharm": {
     "name": "#%%\n"
    }
   }
  },
  {
   "cell_type": "code",
   "execution_count": 8,
   "outputs": [
    {
     "name": "stdout",
     "output_type": "stream",
     "text": [
      "Test-Statistic: -1.7156802944473846\n",
      "P-Value: 0.42305216323276296\n",
      "Non-Stationary\n"
     ]
    }
   ],
   "source": [
    "adf(df['close'])"
   ],
   "metadata": {
    "collapsed": false,
    "pycharm": {
     "name": "#%%\n"
    }
   }
  },
  {
   "cell_type": "code",
   "execution_count": 9,
   "outputs": [
    {
     "name": "stderr",
     "output_type": "stream",
     "text": [
      "/var/folders/bh/3l9wxlcd22l8v712jjsb0p7h0000gn/T/ipykernel_9267/1598508160.py:1: SettingWithCopyWarning: \n",
      "A value is trying to be set on a copy of a slice from a DataFrame.\n",
      "Try using .loc[row_indexer,col_indexer] = value instead\n",
      "\n",
      "See the caveats in the documentation: https://pandas.pydata.org/pandas-docs/stable/user_guide/indexing.html#returning-a-view-versus-a-copy\n",
      "  df['log_close'] = np.log(df['close'])\n"
     ]
    }
   ],
   "source": [
    "df['log_close'] = np.log(df['close'])"
   ],
   "metadata": {
    "collapsed": false,
    "pycharm": {
     "name": "#%%\n"
    }
   }
  },
  {
   "cell_type": "code",
   "execution_count": 10,
   "outputs": [
    {
     "data": {
      "text/plain": "<AxesSubplot: >"
     },
     "execution_count": 10,
     "metadata": {},
     "output_type": "execute_result"
    },
    {
     "data": {
      "text/plain": "<Figure size 640x480 with 1 Axes>",
      "image/png": "[encoded data removed]"
     },
     "metadata": {},
     "output_type": "display_data"
    }
   ],
   "source": [
    "df['log_close'].plot()"
   ],
   "metadata": {
    "collapsed": false,
    "pycharm": {
     "name": "#%%\n"
    }
   }
  },
  {
   "cell_type": "code",
   "execution_count": 16,
   "outputs": [
    {
     "name": "stderr",
     "output_type": "stream",
     "text": [
      "/var/folders/bh/3l9wxlcd22l8v712jjsb0p7h0000gn/T/ipykernel_26331/1018782886.py:1: SettingWithCopyWarning: \n",
      "A value is trying to be set on a copy of a slice from a DataFrame.\n",
      "Try using .loc[row_indexer,col_indexer] = value instead\n",
      "\n",
      "See the caveats in the documentation: https://pandas.pydata.org/pandas-docs/stable/user_guide/indexing.html#returning-a-view-versus-a-copy\n",
      "  df['LogRet'] = df['log_close'].diff()\n"
     ]
    }
   ],
   "source": [
    "df['LogRet'] = df['log_close'].diff()"
   ],
   "metadata": {
    "collapsed": false,
    "pycharm": {
     "name": "#%%\n"
    }
   }
  },
  {
   "cell_type": "code",
   "execution_count": 17,
   "outputs": [
    {
     "data": {
      "text/plain": "<AxesSubplot: >"
     },
     "execution_count": 17,
     "metadata": {},
     "output_type": "execute_result"
    },
    {
     "data": {
      "text/plain": "<Figure size 640x480 with 1 Axes>",
      "image/png": "[encoded data removed]"
     },
     "metadata": {},
     "output_type": "display_data"
    }
   ],
   "source": [
    "df['LogRet'].plot()"
   ],
   "metadata": {
    "collapsed": false,
    "pycharm": {
     "name": "#%%\n"
    }
   }
  },
  {
   "cell_type": "code",
   "execution_count": 18,
   "outputs": [
    {
     "name": "stdout",
     "output_type": "stream",
     "text": [
      "Test-Statistic: -15.405131366647081\n",
      "P-Value: 3.177078091432531e-28\n",
      "Stationary\n"
     ]
    }
   ],
   "source": [
    "adf(df['LogRet'].dropna())"
   ],
   "metadata": {
    "collapsed": false,
    "pycharm": {
     "name": "#%%\n"
    }
   }
  },
  {
   "cell_type": "code",
   "execution_count": 19,
   "outputs": [
    {
     "data": {
      "text/plain": "                           time         close  log_close    LogRet\n0     2009-10-05T04:00:00+04:00      0.000764  -7.177047       NaN\n1     2009-10-06T04:00:00+04:00      0.000885  -7.030443  0.146605\n2     2009-10-07T04:00:00+04:00      0.001050  -6.858584  0.171859\n3     2009-10-08T04:00:00+04:00      0.001084  -6.826839  0.031745\n4     2009-10-09T04:00:00+04:00      0.001200  -6.725059  0.101780\n...                         ...           ...        ...       ...\n4803  2023-03-07T03:00:00+03:00  22201.830000  10.007930 -0.009649\n4804  2023-03-08T03:00:00+03:00  21701.470000   9.985135 -0.022795\n4805  2023-03-09T03:00:00+03:00  20346.900000   9.920684 -0.064451\n4806  2023-03-10T03:00:00+03:00  20222.680000   9.914560 -0.006124\n4807  2023-03-11T03:00:00+03:00  20459.160000   9.926186  0.011626\n\n[4808 rows x 4 columns]",
      "text/html": "<div>\n<style scoped>\n    .dataframe tbody tr th:only-of-type {\n        vertical-align: middle;\n    }\n\n    .dataframe tbody tr th {\n        vertical-align: top;\n    }\n\n    .dataframe thead th {\n        text-align: right;\n    }\n</style>\n<table border=\"1\" class=\"dataframe\">\n  <thead>\n    <tr style=\"text-align: right;\">\n      <th></th>\n      <th>time</th>\n      <th>close</th>\n      <th>log_close</th>\n      <th>LogRet</th>\n    </tr>\n  </thead>\n  <tbody>\n    <tr>\n      <th>0</th>\n      <td>2009-10-05T04:00:00+04:00</td>\n      <td>0.000764</td>\n      <td>-7.177047</td>\n      <td>NaN</td>\n    </tr>\n    <tr>\n      <th>1</th>\n      <td>2009-10-06T04:00:00+04:00</td>\n      <td>0.000885</td>\n      <td>-7.030443</td>\n      <td>0.146605</td>\n    </tr>\n    <tr>\n      <th>2</th>\n      <td>2009-10-07T04:00:00+04:00</td>\n      <td>0.001050</td>\n      <td>-6.858584</td>\n      <td>0.171859</td>\n    </tr>\n    <tr>\n      <th>3</th>\n      <td>2009-10-08T04:00:00+04:00</td>\n      <td>0.001084</td>\n      <td>-6.826839</td>\n      <td>0.031745</td>\n    </tr>\n    <tr>\n      <th>4</th>\n      <td>2009-10-09T04:00:00+04:00</td>\n      <td>0.001200</td>\n      <td>-6.725059</td>\n      <td>0.101780</td>\n    </tr>\n    <tr>\n      <th>...</th>\n      <td>...</td>\n      <td>...</td>\n      <td>...</td>\n      <td>...</td>\n    </tr>\n    <tr>\n      <th>4803</th>\n      <td>2023-03-07T03:00:00+03:00</td>\n      <td>22201.830000</td>\n      <td>10.007930</td>\n      <td>-0.009649</td>\n    </tr>\n    <tr>\n      <th>4804</th>\n      <td>2023-03-08T03:00:00+03:00</td>\n      <td>21701.470000</td>\n      <td>9.985135</td>\n      <td>-0.022795</td>\n    </tr>\n    <tr>\n      <th>4805</th>\n      <td>2023-03-09T03:00:00+03:00</td>\n      <td>20346.900000</td>\n      <td>9.920684</td>\n      <td>-0.064451</td>\n    </tr>\n    <tr>\n      <th>4806</th>\n      <td>2023-03-10T03:00:00+03:00</td>\n      <td>20222.680000</td>\n      <td>9.914560</td>\n      <td>-0.006124</td>\n    </tr>\n    <tr>\n      <th>4807</th>\n      <td>2023-03-11T03:00:00+03:00</td>\n      <td>20459.160000</td>\n      <td>9.926186</td>\n      <td>0.011626</td>\n    </tr>\n  </tbody>\n</table>\n<p>4808 rows × 4 columns</p>\n</div>"
     },
     "execution_count": 19,
     "metadata": {},
     "output_type": "execute_result"
    }
   ],
   "source": [
    "df"
   ],
   "metadata": {
    "collapsed": false,
    "pycharm": {
     "name": "#%%\n"
    }
   }
  },
  {
   "cell_type": "code",
   "execution_count": 20,
   "outputs": [
    {
     "data": {
      "text/plain": "52289.61163408628"
     },
     "execution_count": 20,
     "metadata": {},
     "output_type": "execute_result"
    }
   ],
   "source": [
    "np.exp(10.864553)"
   ],
   "metadata": {
    "collapsed": false,
    "pycharm": {
     "name": "#%%\n"
    }
   }
  },
  {
   "cell_type": "code",
   "execution_count": 10,
   "outputs": [
    {
     "data": {
      "text/plain": "torch.Size([20, 4, 19])"
     },
     "execution_count": 10,
     "metadata": {},
     "output_type": "execute_result"
    }
   ],
   "source": [
    "v = nn.rand(20, 4, 19)\n",
    "v.shape"
   ],
   "metadata": {
    "collapsed": false,
    "pycharm": {
     "name": "#%%\n"
    },
    "ExecuteTime": {
     "end_time": "2023-06-04T10:52:09.000398400Z",
     "start_time": "2023-06-04T10:52:08.986861800Z"
    }
   }
  },
  {
   "cell_type": "code",
   "execution_count": 4,
   "outputs": [
    {
     "data": {
      "text/plain": "torch.Size([1, 2, 4, 4])"
     },
     "execution_count": 4,
     "metadata": {},
     "output_type": "execute_result"
    }
   ],
   "source": [
    "mask = nn.rand(1, 2, 4 ,4)\n",
    "mask.shape"
   ],
   "metadata": {
    "collapsed": false,
    "ExecuteTime": {
     "end_time": "2023-06-04T10:49:47.770619400Z",
     "start_time": "2023-06-04T10:49:47.753626700Z"
    }
   }
  },
  {
   "cell_type": "code",
   "execution_count": 13,
   "outputs": [
    {
     "data": {
      "text/plain": "torch.Size([20, 4, 19])"
     },
     "execution_count": 13,
     "metadata": {},
     "output_type": "execute_result"
    }
   ],
   "source": [
    "nn.matmul(nn.rand(1, 4 ,4), nn.rand(20, 4, 19)).shape"
   ],
   "metadata": {
    "collapsed": false,
    "ExecuteTime": {
     "end_time": "2023-06-04T11:08:49.408516100Z",
     "start_time": "2023-06-04T11:08:49.386469900Z"
    }
   }
  },
  {
   "cell_type": "code",
   "execution_count": null,
   "outputs": [],
   "source": [],
   "metadata": {
    "collapsed": false
   }
  }
 ],
 "metadata": {
  "kernelspec": {
   "display_name": "Python 3",
   "language": "python",
   "name": "python3"
  },
  "language_info": {
   "codemirror_mode": {
    "name": "ipython",
    "version": 2
   },
   "file_extension": ".py",
   "mimetype": "text/x-python",
   "name": "python",
   "nbconvert_exporter": "python",
   "pygments_lexer": "ipython2",
   "version": "2.7.6"
  }
 },
 "nbformat": 4,
 "nbformat_minor": 0
}
