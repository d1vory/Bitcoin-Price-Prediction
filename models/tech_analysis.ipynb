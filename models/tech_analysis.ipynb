{
 "cells": [
  {
   "cell_type": "code",
   "execution_count": 1,
   "outputs": [],
   "source": [
    "\n",
    "import yfinance as yf, pandas as pd\n",
    "from ta import add_all_ta_features\n",
    "import pandas as pd\n",
    "import numpy as np\n",
    "from pandas import DataFrame\n",
    "from sklearn.preprocessing import StandardScaler\n",
    "from sklearn.model_selection import train_test_split\n",
    "from ta.utils import dropna"
   ],
   "metadata": {
    "collapsed": false,
    "ExecuteTime": {
     "end_time": "2023-06-01T14:31:36.703151500Z",
     "start_time": "2023-06-01T14:31:34.579300800Z"
    }
   }
  },
  {
   "cell_type": "code",
   "execution_count": 2,
   "outputs": [],
   "source": [
    "class DatasetMaker:\n",
    "    def __init__(self, ticker):\n",
    "        self.tick = yf.Ticker(str('BTC-USD'))\n",
    "        self.hist_data = tick.history(period=\"max\")\n",
    "        self.full_dataframe = add_all_ta_features(hist_data, open=\"Open\", high=\"High\", low=\"Low\", close=\"Close\", volume=\"Volume\")\n",
    "\n"
   ],
   "metadata": {
    "collapsed": false,
    "ExecuteTime": {
     "end_time": "2023-06-01T14:31:36.716201600Z",
     "start_time": "2023-06-01T14:31:36.709674Z"
    }
   }
  },
  {
   "cell_type": "code",
   "execution_count": 3,
   "outputs": [
    {
     "data": {
      "text/plain": "                                   Open          High           Low   \nDate                                                                  \n2014-09-17 00:00:00+00:00    465.864014    468.174011    452.421997  \\\n2014-09-18 00:00:00+00:00    456.859985    456.859985    413.104004   \n2014-09-19 00:00:00+00:00    424.102997    427.834991    384.532013   \n2014-09-20 00:00:00+00:00    394.673004    423.295990    389.882996   \n2014-09-21 00:00:00+00:00    408.084991    412.425995    393.181000   \n...                                 ...           ...           ...   \n2023-05-28 00:00:00+00:00  26871.158203  28193.449219  26802.751953   \n2023-05-29 00:00:00+00:00  28075.591797  28432.039062  27563.876953   \n2023-05-30 00:00:00+00:00  27745.123047  28044.759766  27588.501953   \n2023-05-31 00:00:00+00:00  27700.529297  27831.677734  26866.453125   \n2023-06-01 00:00:00+00:00  27236.576172  27326.533203  26677.500000   \n\n                                  Close       Volume  Dividends  Stock Splits  \nDate                                                                           \n2014-09-17 00:00:00+00:00    457.334015     21056800        0.0           0.0  \n2014-09-18 00:00:00+00:00    424.440002     34483200        0.0           0.0  \n2014-09-19 00:00:00+00:00    394.795990     37919700        0.0           0.0  \n2014-09-20 00:00:00+00:00    408.903992     36863600        0.0           0.0  \n2014-09-21 00:00:00+00:00    398.821014     26580100        0.0           0.0  \n...                                 ...          ...        ...           ...  \n2023-05-28 00:00:00+00:00  28085.646484  14545229578        0.0           0.0  \n2023-05-29 00:00:00+00:00  27745.884766  15181308984        0.0           0.0  \n2023-05-30 00:00:00+00:00  27702.349609  13251081851        0.0           0.0  \n2023-05-31 00:00:00+00:00  27219.658203  15656371534        0.0           0.0  \n2023-06-01 00:00:00+00:00  26874.648438  14183487488        0.0           0.0  \n\n[3180 rows x 7 columns]",
      "text/html": "<div>\n<style scoped>\n    .dataframe tbody tr th:only-of-type {\n        vertical-align: middle;\n    }\n\n    .dataframe tbody tr th {\n        vertical-align: top;\n    }\n\n    .dataframe thead th {\n        text-align: right;\n    }\n</style>\n<table border=\"1\" class=\"dataframe\">\n  <thead>\n    <tr style=\"text-align: right;\">\n      <th></th>\n      <th>Open</th>\n      <th>High</th>\n      <th>Low</th>\n      <th>Close</th>\n      <th>Volume</th>\n      <th>Dividends</th>\n      <th>Stock Splits</th>\n    </tr>\n    <tr>\n      <th>Date</th>\n      <th></th>\n      <th></th>\n      <th></th>\n      <th></th>\n      <th></th>\n      <th></th>\n      <th></th>\n    </tr>\n  </thead>\n  <tbody>\n    <tr>\n      <th>2014-09-17 00:00:00+00:00</th>\n      <td>465.864014</td>\n      <td>468.174011</td>\n      <td>452.421997</td>\n      <td>457.334015</td>\n      <td>21056800</td>\n      <td>0.0</td>\n      <td>0.0</td>\n    </tr>\n    <tr>\n      <th>2014-09-18 00:00:00+00:00</th>\n      <td>456.859985</td>\n      <td>456.859985</td>\n      <td>413.104004</td>\n      <td>424.440002</td>\n      <td>34483200</td>\n      <td>0.0</td>\n      <td>0.0</td>\n    </tr>\n    <tr>\n      <th>2014-09-19 00:00:00+00:00</th>\n      <td>424.102997</td>\n      <td>427.834991</td>\n      <td>384.532013</td>\n      <td>394.795990</td>\n      <td>37919700</td>\n      <td>0.0</td>\n      <td>0.0</td>\n    </tr>\n    <tr>\n      <th>2014-09-20 00:00:00+00:00</th>\n      <td>394.673004</td>\n      <td>423.295990</td>\n      <td>389.882996</td>\n      <td>408.903992</td>\n      <td>36863600</td>\n      <td>0.0</td>\n      <td>0.0</td>\n    </tr>\n    <tr>\n      <th>2014-09-21 00:00:00+00:00</th>\n      <td>408.084991</td>\n      <td>412.425995</td>\n      <td>393.181000</td>\n      <td>398.821014</td>\n      <td>26580100</td>\n      <td>0.0</td>\n      <td>0.0</td>\n    </tr>\n    <tr>\n      <th>...</th>\n      <td>...</td>\n      <td>...</td>\n      <td>...</td>\n      <td>...</td>\n      <td>...</td>\n      <td>...</td>\n      <td>...</td>\n    </tr>\n    <tr>\n      <th>2023-05-28 00:00:00+00:00</th>\n      <td>26871.158203</td>\n      <td>28193.449219</td>\n      <td>26802.751953</td>\n      <td>28085.646484</td>\n      <td>14545229578</td>\n      <td>0.0</td>\n      <td>0.0</td>\n    </tr>\n    <tr>\n      <th>2023-05-29 00:00:00+00:00</th>\n      <td>28075.591797</td>\n      <td>28432.039062</td>\n      <td>27563.876953</td>\n      <td>27745.884766</td>\n      <td>15181308984</td>\n      <td>0.0</td>\n      <td>0.0</td>\n    </tr>\n    <tr>\n      <th>2023-05-30 00:00:00+00:00</th>\n      <td>27745.123047</td>\n      <td>28044.759766</td>\n      <td>27588.501953</td>\n      <td>27702.349609</td>\n      <td>13251081851</td>\n      <td>0.0</td>\n      <td>0.0</td>\n    </tr>\n    <tr>\n      <th>2023-05-31 00:00:00+00:00</th>\n      <td>27700.529297</td>\n      <td>27831.677734</td>\n      <td>26866.453125</td>\n      <td>27219.658203</td>\n      <td>15656371534</td>\n      <td>0.0</td>\n      <td>0.0</td>\n    </tr>\n    <tr>\n      <th>2023-06-01 00:00:00+00:00</th>\n      <td>27236.576172</td>\n      <td>27326.533203</td>\n      <td>26677.500000</td>\n      <td>26874.648438</td>\n      <td>14183487488</td>\n      <td>0.0</td>\n      <td>0.0</td>\n    </tr>\n  </tbody>\n</table>\n<p>3180 rows × 7 columns</p>\n</div>"
     },
     "execution_count": 3,
     "metadata": {},
     "output_type": "execute_result"
    }
   ],
   "source": [
    "tick = yf.Ticker(str('BTC-USD'))\n",
    "hist_data = tick.history(period=\"max\")\n",
    "hist_data"
   ],
   "metadata": {
    "collapsed": false,
    "ExecuteTime": {
     "end_time": "2023-06-01T14:31:37.175030900Z",
     "start_time": "2023-06-01T14:31:36.716201600Z"
    }
   }
  },
  {
   "cell_type": "code",
   "execution_count": 4,
   "outputs": [
    {
     "name": "stderr",
     "output_type": "stream",
     "text": [
      "/home/olexandr/myenvs2/diploma1/lib/python3.9/site-packages/ta/trend.py:780: RuntimeWarning: invalid value encountered in double_scalars\n",
      "  dip[idx] = 100 * (self._dip[idx] / value)\n",
      "/home/olexandr/myenvs2/diploma1/lib/python3.9/site-packages/ta/trend.py:785: RuntimeWarning: invalid value encountered in double_scalars\n",
      "  din[idx] = 100 * (self._din[idx] / value)\n"
     ]
    },
    {
     "data": {
      "text/plain": "Index(['Open', 'High', 'Low', 'Close', 'Volume', 'Dividends', 'Stock Splits',\n       'volume_adi', 'volume_obv', 'volume_cmf', 'volume_fi', 'volume_em',\n       'volume_sma_em', 'volume_vpt', 'volume_vwap', 'volume_mfi',\n       'volume_nvi', 'volatility_bbm', 'volatility_bbh', 'volatility_bbl',\n       'volatility_bbw', 'volatility_bbp', 'volatility_bbhi',\n       'volatility_bbli', 'volatility_kcc', 'volatility_kch', 'volatility_kcl',\n       'volatility_kcw', 'volatility_kcp', 'volatility_kchi',\n       'volatility_kcli', 'volatility_dcl', 'volatility_dch', 'volatility_dcm',\n       'volatility_dcw', 'volatility_dcp', 'volatility_atr', 'volatility_ui',\n       'trend_macd', 'trend_macd_signal', 'trend_macd_diff', 'trend_sma_fast',\n       'trend_sma_slow', 'trend_ema_fast', 'trend_ema_slow',\n       'trend_vortex_ind_pos', 'trend_vortex_ind_neg', 'trend_vortex_ind_diff',\n       'trend_trix', 'trend_mass_index', 'trend_dpo', 'trend_kst',\n       'trend_kst_sig', 'trend_kst_diff', 'trend_ichimoku_conv',\n       'trend_ichimoku_base', 'trend_ichimoku_a', 'trend_ichimoku_b',\n       'trend_stc', 'trend_adx', 'trend_adx_pos', 'trend_adx_neg', 'trend_cci',\n       'trend_visual_ichimoku_a', 'trend_visual_ichimoku_b', 'trend_aroon_up',\n       'trend_aroon_down', 'trend_aroon_ind', 'trend_psar_up',\n       'trend_psar_down', 'trend_psar_up_indicator',\n       'trend_psar_down_indicator', 'momentum_rsi', 'momentum_stoch_rsi',\n       'momentum_stoch_rsi_k', 'momentum_stoch_rsi_d', 'momentum_tsi',\n       'momentum_uo', 'momentum_stoch', 'momentum_stoch_signal', 'momentum_wr',\n       'momentum_ao', 'momentum_roc', 'momentum_ppo', 'momentum_ppo_signal',\n       'momentum_ppo_hist', 'momentum_pvo', 'momentum_pvo_signal',\n       'momentum_pvo_hist', 'momentum_kama', 'others_dr', 'others_dlr',\n       'others_cr'],\n      dtype='object')"
     },
     "execution_count": 4,
     "metadata": {},
     "output_type": "execute_result"
    }
   ],
   "source": [
    "mom_data = add_all_ta_features(hist_data, open=\"Open\", high=\"High\", low=\"Low\", close=\"Close\", volume=\"Volume\") # Substantiate data with momentum indicators\n",
    "mom_data.columns"
   ],
   "metadata": {
    "collapsed": false,
    "ExecuteTime": {
     "end_time": "2023-06-01T14:31:38.258067Z",
     "start_time": "2023-06-01T14:31:37.175030900Z"
    }
   }
  },
  {
   "cell_type": "code",
   "execution_count": 5,
   "outputs": [
    {
     "data": {
      "text/plain": "                                   Open          High           Low   \nDate                                                                  \n2014-09-17 00:00:00+00:00    465.864014    468.174011    452.421997  \\\n2014-09-18 00:00:00+00:00    456.859985    456.859985    413.104004   \n2014-09-19 00:00:00+00:00    424.102997    427.834991    384.532013   \n2014-09-20 00:00:00+00:00    394.673004    423.295990    389.882996   \n2014-09-21 00:00:00+00:00    408.084991    412.425995    393.181000   \n...                                 ...           ...           ...   \n2023-05-28 00:00:00+00:00  26871.158203  28193.449219  26802.751953   \n2023-05-29 00:00:00+00:00  28075.591797  28432.039062  27563.876953   \n2023-05-30 00:00:00+00:00  27745.123047  28044.759766  27588.501953   \n2023-05-31 00:00:00+00:00  27700.529297  27831.677734  26866.453125   \n2023-06-01 00:00:00+00:00  27236.576172  27326.533203  26677.500000   \n\n                                  Close       Volume  Dividends  Stock Splits   \nDate                                                                            \n2014-09-17 00:00:00+00:00    457.334015     21056800        0.0           0.0  \\\n2014-09-18 00:00:00+00:00    424.440002     34483200        0.0           0.0   \n2014-09-19 00:00:00+00:00    394.795990     37919700        0.0           0.0   \n2014-09-20 00:00:00+00:00    408.903992     36863600        0.0           0.0   \n2014-09-21 00:00:00+00:00    398.821014     26580100        0.0           0.0   \n...                                 ...          ...        ...           ...   \n2023-05-28 00:00:00+00:00  28085.646484  14545229578        0.0           0.0   \n2023-05-29 00:00:00+00:00  27745.884766  15181308984        0.0           0.0   \n2023-05-30 00:00:00+00:00  27702.349609  13251081851        0.0           0.0   \n2023-05-31 00:00:00+00:00  27219.658203  15656371534        0.0           0.0   \n2023-06-01 00:00:00+00:00  26874.648438  14183487488        0.0           0.0   \n\n                             volume_adi     volume_obv  volume_cmf  ...   \nDate                                                                ...   \n2014-09-17 00:00:00+00:00 -7.924336e+06       21056800         NaN  ...  \\\n2014-09-18 00:00:00+00:00 -2.454020e+07      -13426400         NaN  ...   \n2014-09-19 00:00:00+00:00 -4.448391e+07      -51346100         NaN  ...   \n2014-09-20 00:00:00+00:00 -3.937687e+07      -14482500         NaN  ...   \n2014-09-21 00:00:00+00:00 -5.037763e+07      -41062600         NaN  ...   \n...                                 ...            ...         ...  ...   \n2023-05-28 00:00:00+00:00  4.253648e+12  1178342465976    0.135150  ...   \n2023-05-29 00:00:00+00:00  4.244832e+12  1163161156992    0.087182  ...   \n2023-05-30 00:00:00+00:00  4.238194e+12  1149910075141    0.061986  ...   \n2023-05-31 00:00:00+00:00  4.233996e+12  1134253703607    0.077008  ...   \n2023-06-01 00:00:00+00:00  4.228429e+12  1120070216119    0.012685  ...   \n\n                           momentum_ppo  momentum_ppo_signal   \nDate                                                           \n2014-09-17 00:00:00+00:00           NaN                  NaN  \\\n2014-09-18 00:00:00+00:00           NaN                  NaN   \n2014-09-19 00:00:00+00:00           NaN                  NaN   \n2014-09-20 00:00:00+00:00           NaN                  NaN   \n2014-09-21 00:00:00+00:00           NaN                  NaN   \n...                                 ...                  ...   \n2023-05-28 00:00:00+00:00     -0.985893            -1.367094   \n2023-05-29 00:00:00+00:00     -0.719392            -1.237553   \n2023-05-30 00:00:00+00:00     -0.515452            -1.093133   \n2023-05-31 00:00:00+00:00     -0.491023            -0.972711   \n2023-06-01 00:00:00+00:00     -0.567349            -0.891639   \n\n                           momentum_ppo_hist  momentum_pvo   \nDate                                                         \n2014-09-17 00:00:00+00:00                NaN           NaN  \\\n2014-09-18 00:00:00+00:00                NaN           NaN   \n2014-09-19 00:00:00+00:00                NaN           NaN   \n2014-09-20 00:00:00+00:00                NaN           NaN   \n2014-09-21 00:00:00+00:00                NaN           NaN   \n...                                      ...           ...   \n2023-05-28 00:00:00+00:00           0.381201     -8.598125   \n2023-05-29 00:00:00+00:00           0.518161     -6.469181   \n2023-05-30 00:00:00+00:00           0.577681     -5.900011   \n2023-05-31 00:00:00+00:00           0.481688     -3.951065   \n2023-06-01 00:00:00+00:00           0.324290     -3.256396   \n\n                           momentum_pvo_signal  momentum_pvo_hist   \nDate                                                                \n2014-09-17 00:00:00+00:00                  NaN                NaN  \\\n2014-09-18 00:00:00+00:00                  NaN                NaN   \n2014-09-19 00:00:00+00:00                  NaN                NaN   \n2014-09-20 00:00:00+00:00                  NaN                NaN   \n2014-09-21 00:00:00+00:00                  NaN                NaN   \n...                                        ...                ...   \n2023-05-28 00:00:00+00:00            -9.618789           1.020664   \n2023-05-29 00:00:00+00:00            -8.988868           2.519687   \n2023-05-30 00:00:00+00:00            -8.371096           2.471085   \n2023-05-31 00:00:00+00:00            -7.487090           3.536025   \n2023-06-01 00:00:00+00:00            -6.640951           3.384555   \n\n                           momentum_kama  others_dr  others_dlr    others_cr  \nDate                                                                          \n2014-09-17 00:00:00+00:00            NaN -96.598131         NaN     0.000000  \n2014-09-18 00:00:00+00:00            NaN  -7.192558   -7.464335    -7.192558  \n2014-09-19 00:00:00+00:00            NaN  -6.984265   -7.240151   -13.674475  \n2014-09-20 00:00:00+00:00            NaN   3.573492    3.511124   -10.589639  \n2014-09-21 00:00:00+00:00            NaN  -2.465854   -2.496766   -12.794369  \n...                                  ...        ...         ...          ...  \n2023-05-28 00:00:00+00:00   27365.635035   4.530583    4.430950  6041.167193  \n2023-05-29 00:00:00+00:00   27379.531201  -1.209734   -1.217111  5966.875383  \n2023-05-30 00:00:00+00:00   27387.144765  -0.156907   -0.157030  5957.356048  \n2023-05-31 00:00:00+00:00   27384.092304  -1.742420   -1.757779  5851.811437  \n2023-06-01 00:00:00+00:00   27381.747343  -1.267502   -1.275604  5776.372096  \n\n[3180 rows x 93 columns]",
      "text/html": "<div>\n<style scoped>\n    .dataframe tbody tr th:only-of-type {\n        vertical-align: middle;\n    }\n\n    .dataframe tbody tr th {\n        vertical-align: top;\n    }\n\n    .dataframe thead th {\n        text-align: right;\n    }\n</style>\n<table border=\"1\" class=\"dataframe\">\n  <thead>\n    <tr style=\"text-align: right;\">\n      <th></th>\n      <th>Open</th>\n      <th>High</th>\n      <th>Low</th>\n      <th>Close</th>\n      <th>Volume</th>\n      <th>Dividends</th>\n      <th>Stock Splits</th>\n      <th>volume_adi</th>\n      <th>volume_obv</th>\n      <th>volume_cmf</th>\n      <th>...</th>\n      <th>momentum_ppo</th>\n      <th>momentum_ppo_signal</th>\n      <th>momentum_ppo_hist</th>\n      <th>momentum_pvo</th>\n      <th>momentum_pvo_signal</th>\n      <th>momentum_pvo_hist</th>\n      <th>momentum_kama</th>\n      <th>others_dr</th>\n      <th>others_dlr</th>\n      <th>others_cr</th>\n    </tr>\n    <tr>\n      <th>Date</th>\n      <th></th>\n      <th></th>\n      <th></th>\n      <th></th>\n      <th></th>\n      <th></th>\n      <th></th>\n      <th></th>\n      <th></th>\n      <th></th>\n      <th></th>\n      <th></th>\n      <th></th>\n      <th></th>\n      <th></th>\n      <th></th>\n      <th></th>\n      <th></th>\n      <th></th>\n      <th></th>\n      <th></th>\n    </tr>\n  </thead>\n  <tbody>\n    <tr>\n      <th>2014-09-17 00:00:00+00:00</th>\n      <td>465.864014</td>\n      <td>468.174011</td>\n      <td>452.421997</td>\n      <td>457.334015</td>\n      <td>21056800</td>\n      <td>0.0</td>\n      <td>0.0</td>\n      <td>-7.924336e+06</td>\n      <td>21056800</td>\n      <td>NaN</td>\n      <td>...</td>\n      <td>NaN</td>\n      <td>NaN</td>\n      <td>NaN</td>\n      <td>NaN</td>\n      <td>NaN</td>\n      <td>NaN</td>\n      <td>NaN</td>\n      <td>-96.598131</td>\n      <td>NaN</td>\n      <td>0.000000</td>\n    </tr>\n    <tr>\n      <th>2014-09-18 00:00:00+00:00</th>\n      <td>456.859985</td>\n      <td>456.859985</td>\n      <td>413.104004</td>\n      <td>424.440002</td>\n      <td>34483200</td>\n      <td>0.0</td>\n      <td>0.0</td>\n      <td>-2.454020e+07</td>\n      <td>-13426400</td>\n      <td>NaN</td>\n      <td>...</td>\n      <td>NaN</td>\n      <td>NaN</td>\n      <td>NaN</td>\n      <td>NaN</td>\n      <td>NaN</td>\n      <td>NaN</td>\n      <td>NaN</td>\n      <td>-7.192558</td>\n      <td>-7.464335</td>\n      <td>-7.192558</td>\n    </tr>\n    <tr>\n      <th>2014-09-19 00:00:00+00:00</th>\n      <td>424.102997</td>\n      <td>427.834991</td>\n      <td>384.532013</td>\n      <td>394.795990</td>\n      <td>37919700</td>\n      <td>0.0</td>\n      <td>0.0</td>\n      <td>-4.448391e+07</td>\n      <td>-51346100</td>\n      <td>NaN</td>\n      <td>...</td>\n      <td>NaN</td>\n      <td>NaN</td>\n      <td>NaN</td>\n      <td>NaN</td>\n      <td>NaN</td>\n      <td>NaN</td>\n      <td>NaN</td>\n      <td>-6.984265</td>\n      <td>-7.240151</td>\n      <td>-13.674475</td>\n    </tr>\n    <tr>\n      <th>2014-09-20 00:00:00+00:00</th>\n      <td>394.673004</td>\n      <td>423.295990</td>\n      <td>389.882996</td>\n      <td>408.903992</td>\n      <td>36863600</td>\n      <td>0.0</td>\n      <td>0.0</td>\n      <td>-3.937687e+07</td>\n      <td>-14482500</td>\n      <td>NaN</td>\n      <td>...</td>\n      <td>NaN</td>\n      <td>NaN</td>\n      <td>NaN</td>\n      <td>NaN</td>\n      <td>NaN</td>\n      <td>NaN</td>\n      <td>NaN</td>\n      <td>3.573492</td>\n      <td>3.511124</td>\n      <td>-10.589639</td>\n    </tr>\n    <tr>\n      <th>2014-09-21 00:00:00+00:00</th>\n      <td>408.084991</td>\n      <td>412.425995</td>\n      <td>393.181000</td>\n      <td>398.821014</td>\n      <td>26580100</td>\n      <td>0.0</td>\n      <td>0.0</td>\n      <td>-5.037763e+07</td>\n      <td>-41062600</td>\n      <td>NaN</td>\n      <td>...</td>\n      <td>NaN</td>\n      <td>NaN</td>\n      <td>NaN</td>\n      <td>NaN</td>\n      <td>NaN</td>\n      <td>NaN</td>\n      <td>NaN</td>\n      <td>-2.465854</td>\n      <td>-2.496766</td>\n      <td>-12.794369</td>\n    </tr>\n    <tr>\n      <th>...</th>\n      <td>...</td>\n      <td>...</td>\n      <td>...</td>\n      <td>...</td>\n      <td>...</td>\n      <td>...</td>\n      <td>...</td>\n      <td>...</td>\n      <td>...</td>\n      <td>...</td>\n      <td>...</td>\n      <td>...</td>\n      <td>...</td>\n      <td>...</td>\n      <td>...</td>\n      <td>...</td>\n      <td>...</td>\n      <td>...</td>\n      <td>...</td>\n      <td>...</td>\n      <td>...</td>\n    </tr>\n    <tr>\n      <th>2023-05-28 00:00:00+00:00</th>\n      <td>26871.158203</td>\n      <td>28193.449219</td>\n      <td>26802.751953</td>\n      <td>28085.646484</td>\n      <td>14545229578</td>\n      <td>0.0</td>\n      <td>0.0</td>\n      <td>4.253648e+12</td>\n      <td>1178342465976</td>\n      <td>0.135150</td>\n      <td>...</td>\n      <td>-0.985893</td>\n      <td>-1.367094</td>\n      <td>0.381201</td>\n      <td>-8.598125</td>\n      <td>-9.618789</td>\n      <td>1.020664</td>\n      <td>27365.635035</td>\n      <td>4.530583</td>\n      <td>4.430950</td>\n      <td>6041.167193</td>\n    </tr>\n    <tr>\n      <th>2023-05-29 00:00:00+00:00</th>\n      <td>28075.591797</td>\n      <td>28432.039062</td>\n      <td>27563.876953</td>\n      <td>27745.884766</td>\n      <td>15181308984</td>\n      <td>0.0</td>\n      <td>0.0</td>\n      <td>4.244832e+12</td>\n      <td>1163161156992</td>\n      <td>0.087182</td>\n      <td>...</td>\n      <td>-0.719392</td>\n      <td>-1.237553</td>\n      <td>0.518161</td>\n      <td>-6.469181</td>\n      <td>-8.988868</td>\n      <td>2.519687</td>\n      <td>27379.531201</td>\n      <td>-1.209734</td>\n      <td>-1.217111</td>\n      <td>5966.875383</td>\n    </tr>\n    <tr>\n      <th>2023-05-30 00:00:00+00:00</th>\n      <td>27745.123047</td>\n      <td>28044.759766</td>\n      <td>27588.501953</td>\n      <td>27702.349609</td>\n      <td>13251081851</td>\n      <td>0.0</td>\n      <td>0.0</td>\n      <td>4.238194e+12</td>\n      <td>1149910075141</td>\n      <td>0.061986</td>\n      <td>...</td>\n      <td>-0.515452</td>\n      <td>-1.093133</td>\n      <td>0.577681</td>\n      <td>-5.900011</td>\n      <td>-8.371096</td>\n      <td>2.471085</td>\n      <td>27387.144765</td>\n      <td>-0.156907</td>\n      <td>-0.157030</td>\n      <td>5957.356048</td>\n    </tr>\n    <tr>\n      <th>2023-05-31 00:00:00+00:00</th>\n      <td>27700.529297</td>\n      <td>27831.677734</td>\n      <td>26866.453125</td>\n      <td>27219.658203</td>\n      <td>15656371534</td>\n      <td>0.0</td>\n      <td>0.0</td>\n      <td>4.233996e+12</td>\n      <td>1134253703607</td>\n      <td>0.077008</td>\n      <td>...</td>\n      <td>-0.491023</td>\n      <td>-0.972711</td>\n      <td>0.481688</td>\n      <td>-3.951065</td>\n      <td>-7.487090</td>\n      <td>3.536025</td>\n      <td>27384.092304</td>\n      <td>-1.742420</td>\n      <td>-1.757779</td>\n      <td>5851.811437</td>\n    </tr>\n    <tr>\n      <th>2023-06-01 00:00:00+00:00</th>\n      <td>27236.576172</td>\n      <td>27326.533203</td>\n      <td>26677.500000</td>\n      <td>26874.648438</td>\n      <td>14183487488</td>\n      <td>0.0</td>\n      <td>0.0</td>\n      <td>4.228429e+12</td>\n      <td>1120070216119</td>\n      <td>0.012685</td>\n      <td>...</td>\n      <td>-0.567349</td>\n      <td>-0.891639</td>\n      <td>0.324290</td>\n      <td>-3.256396</td>\n      <td>-6.640951</td>\n      <td>3.384555</td>\n      <td>27381.747343</td>\n      <td>-1.267502</td>\n      <td>-1.275604</td>\n      <td>5776.372096</td>\n    </tr>\n  </tbody>\n</table>\n<p>3180 rows × 93 columns</p>\n</div>"
     },
     "execution_count": 5,
     "metadata": {},
     "output_type": "execute_result"
    }
   ],
   "source": [
    "mom_data"
   ],
   "metadata": {
    "collapsed": false,
    "ExecuteTime": {
     "end_time": "2023-06-01T14:31:38.288921700Z",
     "start_time": "2023-06-01T14:31:38.236872500Z"
    }
   }
  },
  {
   "cell_type": "code",
   "execution_count": 6,
   "outputs": [],
   "source": [
    "ALL_ROWS = [\n",
    "    'Open', 'High', 'Low', 'Close', 'Volume', 'Dividends', 'Stock Splits',\n",
    "'volume_adi', 'volume_obv', 'volume_cmf', 'volume_fi', 'volume_em',\n",
    "'volume_sma_em', 'volume_vpt', 'volume_vwap', 'volume_mfi',\n",
    "'volume_nvi',\n",
    "\n",
    " 'volatility_bbm', 'volatility_bbh', 'volatility_bbl',\n",
    "'volatility_bbw', 'volatility_bbp', 'volatility_bbhi',\n",
    "'volatility_bbli', 'volatility_kcc', 'volatility_kch', 'volatility_kcl',\n",
    "'volatility_kcw', 'volatility_kcp', 'volatility_kchi',\n",
    "'volatility_kcli', 'volatility_dcl', 'volatility_dch', 'volatility_dcm',\n",
    "'volatility_dcw', 'volatility_dcp', 'volatility_atr', 'volatility_ui',\n",
    "\n",
    "'trend_macd', 'trend_macd_signal', 'trend_macd_diff', 'trend_sma_fast',\n",
    "'trend_sma_slow', 'trend_ema_fast', 'trend_ema_slow',\n",
    "'trend_vortex_ind_pos', 'trend_vortex_ind_neg', 'trend_vortex_ind_diff',\n",
    "'trend_trix', 'trend_mass_index', 'trend_dpo', 'trend_kst',\n",
    "'trend_kst_sig', 'trend_kst_diff', 'trend_ichimoku_conv',\n",
    "'trend_ichimoku_base', 'trend_ichimoku_a', 'trend_ichimoku_b',\n",
    "'trend_stc', 'trend_adx', 'trend_adx_pos', 'trend_adx_neg', 'trend_cci',\n",
    "'trend_visual_ichimoku_a', 'trend_visual_ichimoku_b', 'trend_aroon_up',\n",
    "'trend_aroon_down', 'trend_aroon_ind', 'trend_psar_up',\n",
    "'trend_psar_down', 'trend_psar_up_indicator',\n",
    "'trend_psar_down_indicator', 'momentum_rsi', 'momentum_stoch_rsi',\n",
    "\n",
    "'momentum_stoch_rsi_k', 'momentum_stoch_rsi_d', 'momentum_tsi',\n",
    "            'momentum_uo', 'momentum_stoch', 'momentum_stoch_signal', 'momentum_wr',\n",
    "            'momentum_ao', 'momentum_roc', 'momentum_ppo', 'momentum_ppo_signal',\n",
    "            'momentum_ppo_hist', 'momentum_pvo', 'momentum_pvo_signal',\n",
    "            'momentum_pvo_hist', 'momentum_kama', 'others_dr', 'others_dlr',\n",
    "            'others_cr'\n",
    "            ]\n",
    "\n"
   ],
   "metadata": {
    "collapsed": false,
    "ExecuteTime": {
     "end_time": "2023-06-01T14:31:38.288921700Z",
     "start_time": "2023-06-01T14:31:38.271122900Z"
    }
   }
  },
  {
   "cell_type": "code",
   "execution_count": 7,
   "outputs": [],
   "source": [
    "def calculate_correlation(df, target_column, correlation_method='pearson'):\n",
    "    res = []\n",
    "    for column in df.columns:\n",
    "        correlation  = df[target_column].corr(df[column], method=correlation_method)\n",
    "        #print(f'Correlation between {target_column} and {column} = {correlation}, method={correlation_method}')\n",
    "        res.append(\n",
    "            {\n",
    "                #'target_column': target_column,\n",
    "                'column': column,\n",
    "                'correlation': correlation\n",
    "            }\n",
    "        )\n",
    "    sorted_corr = sorted(res, key=lambda d: d['correlation'], reverse=True )\n",
    "    return sorted_corr\n",
    "\n",
    "def get_cols_with_correlation_gte(df, target_column, correlation_method='pearson', thresh=0.1):\n",
    "    return [el['column'] for el in calculate_correlation(df, target_column, correlation_method) if abs(el['correlation']) >= thresh]\n",
    "\n",
    "def parse_time_of_tradingview(df, column_name='time'):\n",
    "    df[column_name] = pd.to_datetime(df[column_name], format='%Y-%m-%dT%H:%M:%S', errors='coerce', utc=True)\n",
    "    df[column_name] = df[column_name].dt.date\n",
    "    df = df.set_index([column_name])\n",
    "    return df"
   ],
   "metadata": {
    "collapsed": false,
    "ExecuteTime": {
     "end_time": "2023-06-01T14:31:38.288921700Z",
     "start_time": "2023-06-01T14:31:38.281655800Z"
    }
   }
  },
  {
   "cell_type": "code",
   "execution_count": 14,
   "outputs": [],
   "source": [
    "mom_data = mom_data.drop(['others_dlr', 'others_dr'], axis=1)"
   ],
   "metadata": {
    "collapsed": false,
    "ExecuteTime": {
     "end_time": "2023-06-01T14:33:20.953666700Z",
     "start_time": "2023-06-01T14:33:20.900084100Z"
    }
   }
  },
  {
   "cell_type": "code",
   "execution_count": 8,
   "outputs": [
    {
     "data": {
      "text/plain": "['Close',\n 'others_cr',\n 'High',\n 'Low',\n 'Open',\n 'trend_ichimoku_conv',\n 'trend_ema_fast',\n 'momentum_kama',\n 'trend_psar_down',\n 'volatility_kcc',\n 'trend_psar_up',\n 'volatility_kcl',\n 'trend_sma_fast',\n 'volatility_kch',\n 'trend_ichimoku_a',\n 'volume_vwap',\n 'volatility_dcm',\n 'volatility_bbm',\n 'trend_ema_slow',\n 'volatility_dch',\n 'trend_ichimoku_base',\n 'volatility_bbh',\n 'trend_sma_slow',\n 'volatility_dcl',\n 'volatility_bbl',\n 'trend_ichimoku_b',\n 'trend_visual_ichimoku_a',\n 'trend_visual_ichimoku_b',\n 'volume_obv',\n 'volatility_atr',\n 'volume_adi',\n 'Volume']"
     },
     "execution_count": 8,
     "metadata": {},
     "output_type": "execute_result"
    }
   ],
   "source": [
    "get_cols_with_correlation_gte(mom_data, 'Close', thresh=0.5)"
   ],
   "metadata": {
    "collapsed": false,
    "ExecuteTime": {
     "end_time": "2023-06-01T14:31:38.478553Z",
     "start_time": "2023-06-01T14:31:38.287976Z"
    }
   }
  },
  {
   "cell_type": "code",
   "execution_count": 15,
   "outputs": [
    {
     "data": {
      "text/plain": "                                   Open          High           Low   \nDate                                                                  \n2014-09-17 00:00:00+00:00    465.864014    468.174011    452.421997  \\\n2014-09-18 00:00:00+00:00    456.859985    456.859985    413.104004   \n2014-09-19 00:00:00+00:00    424.102997    427.834991    384.532013   \n2014-09-20 00:00:00+00:00    394.673004    423.295990    389.882996   \n2014-09-21 00:00:00+00:00    408.084991    412.425995    393.181000   \n...                                 ...           ...           ...   \n2023-05-28 00:00:00+00:00  26871.158203  28193.449219  26802.751953   \n2023-05-29 00:00:00+00:00  28075.591797  28432.039062  27563.876953   \n2023-05-30 00:00:00+00:00  27745.123047  28044.759766  27588.501953   \n2023-05-31 00:00:00+00:00  27700.529297  27831.677734  26866.453125   \n2023-06-01 00:00:00+00:00  27236.576172  27326.533203  26677.500000   \n\n                                  Close       Volume  Dividends  Stock Splits   \nDate                                                                            \n2014-09-17 00:00:00+00:00    457.334015     21056800        0.0           0.0  \\\n2014-09-18 00:00:00+00:00    424.440002     34483200        0.0           0.0   \n2014-09-19 00:00:00+00:00    394.795990     37919700        0.0           0.0   \n2014-09-20 00:00:00+00:00    408.903992     36863600        0.0           0.0   \n2014-09-21 00:00:00+00:00    398.821014     26580100        0.0           0.0   \n...                                 ...          ...        ...           ...   \n2023-05-28 00:00:00+00:00  28085.646484  14545229578        0.0           0.0   \n2023-05-29 00:00:00+00:00  27745.884766  15181308984        0.0           0.0   \n2023-05-30 00:00:00+00:00  27702.349609  13251081851        0.0           0.0   \n2023-05-31 00:00:00+00:00  27219.658203  15656371534        0.0           0.0   \n2023-06-01 00:00:00+00:00  26874.648438  14183487488        0.0           0.0   \n\n                             volume_adi     volume_obv  volume_cmf  ...   \nDate                                                                ...   \n2014-09-17 00:00:00+00:00 -7.924336e+06       21056800         NaN  ...  \\\n2014-09-18 00:00:00+00:00 -2.454020e+07      -13426400         NaN  ...   \n2014-09-19 00:00:00+00:00 -4.448391e+07      -51346100         NaN  ...   \n2014-09-20 00:00:00+00:00 -3.937687e+07      -14482500         NaN  ...   \n2014-09-21 00:00:00+00:00 -5.037763e+07      -41062600         NaN  ...   \n...                                 ...            ...         ...  ...   \n2023-05-28 00:00:00+00:00  4.253648e+12  1178342465976    0.135150  ...   \n2023-05-29 00:00:00+00:00  4.244832e+12  1163161156992    0.087182  ...   \n2023-05-30 00:00:00+00:00  4.238194e+12  1149910075141    0.061986  ...   \n2023-05-31 00:00:00+00:00  4.233996e+12  1134253703607    0.077008  ...   \n2023-06-01 00:00:00+00:00  4.228429e+12  1120070216119    0.012685  ...   \n\n                           momentum_ppo  momentum_ppo_signal   \nDate                                                           \n2014-09-17 00:00:00+00:00           NaN                  NaN  \\\n2014-09-18 00:00:00+00:00           NaN                  NaN   \n2014-09-19 00:00:00+00:00           NaN                  NaN   \n2014-09-20 00:00:00+00:00           NaN                  NaN   \n2014-09-21 00:00:00+00:00           NaN                  NaN   \n...                                 ...                  ...   \n2023-05-28 00:00:00+00:00     -0.985893            -1.367094   \n2023-05-29 00:00:00+00:00     -0.719392            -1.237553   \n2023-05-30 00:00:00+00:00     -0.515452            -1.093133   \n2023-05-31 00:00:00+00:00     -0.491023            -0.972711   \n2023-06-01 00:00:00+00:00     -0.567349            -0.891639   \n\n                           momentum_ppo_hist  momentum_pvo   \nDate                                                         \n2014-09-17 00:00:00+00:00                NaN           NaN  \\\n2014-09-18 00:00:00+00:00                NaN           NaN   \n2014-09-19 00:00:00+00:00                NaN           NaN   \n2014-09-20 00:00:00+00:00                NaN           NaN   \n2014-09-21 00:00:00+00:00                NaN           NaN   \n...                                      ...           ...   \n2023-05-28 00:00:00+00:00           0.381201     -8.598125   \n2023-05-29 00:00:00+00:00           0.518161     -6.469181   \n2023-05-30 00:00:00+00:00           0.577681     -5.900011   \n2023-05-31 00:00:00+00:00           0.481688     -3.951065   \n2023-06-01 00:00:00+00:00           0.324290     -3.256396   \n\n                           momentum_pvo_signal  momentum_pvo_hist   \nDate                                                                \n2014-09-17 00:00:00+00:00                  NaN                NaN  \\\n2014-09-18 00:00:00+00:00                  NaN                NaN   \n2014-09-19 00:00:00+00:00                  NaN                NaN   \n2014-09-20 00:00:00+00:00                  NaN                NaN   \n2014-09-21 00:00:00+00:00                  NaN                NaN   \n...                                        ...                ...   \n2023-05-28 00:00:00+00:00            -9.618789           1.020664   \n2023-05-29 00:00:00+00:00            -8.988868           2.519687   \n2023-05-30 00:00:00+00:00            -8.371096           2.471085   \n2023-05-31 00:00:00+00:00            -7.487090           3.536025   \n2023-06-01 00:00:00+00:00            -6.640951           3.384555   \n\n                           momentum_kama    others_cr  log_close  log_returns  \nDate                                                                           \n2014-09-17 00:00:00+00:00            NaN     0.000000   6.125414          NaN  \n2014-09-18 00:00:00+00:00            NaN    -7.192558   6.050771    -0.074643  \n2014-09-19 00:00:00+00:00            NaN   -13.674475   5.978369    -0.072402  \n2014-09-20 00:00:00+00:00            NaN   -10.589639   6.013480     0.035111  \n2014-09-21 00:00:00+00:00            NaN   -12.794369   5.988513    -0.024968  \n...                                  ...          ...        ...          ...  \n2023-05-28 00:00:00+00:00   27365.635035  6041.167193  10.243014     0.044309  \n2023-05-29 00:00:00+00:00   27379.531201  5966.875383  10.230843    -0.012171  \n2023-05-30 00:00:00+00:00   27387.144765  5957.356048  10.229273    -0.001570  \n2023-05-31 00:00:00+00:00   27384.092304  5851.811437  10.211695    -0.017578  \n2023-06-01 00:00:00+00:00   27381.747343  5776.372096  10.198939    -0.012756  \n\n[3180 rows x 93 columns]",
      "text/html": "<div>\n<style scoped>\n    .dataframe tbody tr th:only-of-type {\n        vertical-align: middle;\n    }\n\n    .dataframe tbody tr th {\n        vertical-align: top;\n    }\n\n    .dataframe thead th {\n        text-align: right;\n    }\n</style>\n<table border=\"1\" class=\"dataframe\">\n  <thead>\n    <tr style=\"text-align: right;\">\n      <th></th>\n      <th>Open</th>\n      <th>High</th>\n      <th>Low</th>\n      <th>Close</th>\n      <th>Volume</th>\n      <th>Dividends</th>\n      <th>Stock Splits</th>\n      <th>volume_adi</th>\n      <th>volume_obv</th>\n      <th>volume_cmf</th>\n      <th>...</th>\n      <th>momentum_ppo</th>\n      <th>momentum_ppo_signal</th>\n      <th>momentum_ppo_hist</th>\n      <th>momentum_pvo</th>\n      <th>momentum_pvo_signal</th>\n      <th>momentum_pvo_hist</th>\n      <th>momentum_kama</th>\n      <th>others_cr</th>\n      <th>log_close</th>\n      <th>log_returns</th>\n    </tr>\n    <tr>\n      <th>Date</th>\n      <th></th>\n      <th></th>\n      <th></th>\n      <th></th>\n      <th></th>\n      <th></th>\n      <th></th>\n      <th></th>\n      <th></th>\n      <th></th>\n      <th></th>\n      <th></th>\n      <th></th>\n      <th></th>\n      <th></th>\n      <th></th>\n      <th></th>\n      <th></th>\n      <th></th>\n      <th></th>\n      <th></th>\n    </tr>\n  </thead>\n  <tbody>\n    <tr>\n      <th>2014-09-17 00:00:00+00:00</th>\n      <td>465.864014</td>\n      <td>468.174011</td>\n      <td>452.421997</td>\n      <td>457.334015</td>\n      <td>21056800</td>\n      <td>0.0</td>\n      <td>0.0</td>\n      <td>-7.924336e+06</td>\n      <td>21056800</td>\n      <td>NaN</td>\n      <td>...</td>\n      <td>NaN</td>\n      <td>NaN</td>\n      <td>NaN</td>\n      <td>NaN</td>\n      <td>NaN</td>\n      <td>NaN</td>\n      <td>NaN</td>\n      <td>0.000000</td>\n      <td>6.125414</td>\n      <td>NaN</td>\n    </tr>\n    <tr>\n      <th>2014-09-18 00:00:00+00:00</th>\n      <td>456.859985</td>\n      <td>456.859985</td>\n      <td>413.104004</td>\n      <td>424.440002</td>\n      <td>34483200</td>\n      <td>0.0</td>\n      <td>0.0</td>\n      <td>-2.454020e+07</td>\n      <td>-13426400</td>\n      <td>NaN</td>\n      <td>...</td>\n      <td>NaN</td>\n      <td>NaN</td>\n      <td>NaN</td>\n      <td>NaN</td>\n      <td>NaN</td>\n      <td>NaN</td>\n      <td>NaN</td>\n      <td>-7.192558</td>\n      <td>6.050771</td>\n      <td>-0.074643</td>\n    </tr>\n    <tr>\n      <th>2014-09-19 00:00:00+00:00</th>\n      <td>424.102997</td>\n      <td>427.834991</td>\n      <td>384.532013</td>\n      <td>394.795990</td>\n      <td>37919700</td>\n      <td>0.0</td>\n      <td>0.0</td>\n      <td>-4.448391e+07</td>\n      <td>-51346100</td>\n      <td>NaN</td>\n      <td>...</td>\n      <td>NaN</td>\n      <td>NaN</td>\n      <td>NaN</td>\n      <td>NaN</td>\n      <td>NaN</td>\n      <td>NaN</td>\n      <td>NaN</td>\n      <td>-13.674475</td>\n      <td>5.978369</td>\n      <td>-0.072402</td>\n    </tr>\n    <tr>\n      <th>2014-09-20 00:00:00+00:00</th>\n      <td>394.673004</td>\n      <td>423.295990</td>\n      <td>389.882996</td>\n      <td>408.903992</td>\n      <td>36863600</td>\n      <td>0.0</td>\n      <td>0.0</td>\n      <td>-3.937687e+07</td>\n      <td>-14482500</td>\n      <td>NaN</td>\n      <td>...</td>\n      <td>NaN</td>\n      <td>NaN</td>\n      <td>NaN</td>\n      <td>NaN</td>\n      <td>NaN</td>\n      <td>NaN</td>\n      <td>NaN</td>\n      <td>-10.589639</td>\n      <td>6.013480</td>\n      <td>0.035111</td>\n    </tr>\n    <tr>\n      <th>2014-09-21 00:00:00+00:00</th>\n      <td>408.084991</td>\n      <td>412.425995</td>\n      <td>393.181000</td>\n      <td>398.821014</td>\n      <td>26580100</td>\n      <td>0.0</td>\n      <td>0.0</td>\n      <td>-5.037763e+07</td>\n      <td>-41062600</td>\n      <td>NaN</td>\n      <td>...</td>\n      <td>NaN</td>\n      <td>NaN</td>\n      <td>NaN</td>\n      <td>NaN</td>\n      <td>NaN</td>\n      <td>NaN</td>\n      <td>NaN</td>\n      <td>-12.794369</td>\n      <td>5.988513</td>\n      <td>-0.024968</td>\n    </tr>\n    <tr>\n      <th>...</th>\n      <td>...</td>\n      <td>...</td>\n      <td>...</td>\n      <td>...</td>\n      <td>...</td>\n      <td>...</td>\n      <td>...</td>\n      <td>...</td>\n      <td>...</td>\n      <td>...</td>\n      <td>...</td>\n      <td>...</td>\n      <td>...</td>\n      <td>...</td>\n      <td>...</td>\n      <td>...</td>\n      <td>...</td>\n      <td>...</td>\n      <td>...</td>\n      <td>...</td>\n      <td>...</td>\n    </tr>\n    <tr>\n      <th>2023-05-28 00:00:00+00:00</th>\n      <td>26871.158203</td>\n      <td>28193.449219</td>\n      <td>26802.751953</td>\n      <td>28085.646484</td>\n      <td>14545229578</td>\n      <td>0.0</td>\n      <td>0.0</td>\n      <td>4.253648e+12</td>\n      <td>1178342465976</td>\n      <td>0.135150</td>\n      <td>...</td>\n      <td>-0.985893</td>\n      <td>-1.367094</td>\n      <td>0.381201</td>\n      <td>-8.598125</td>\n      <td>-9.618789</td>\n      <td>1.020664</td>\n      <td>27365.635035</td>\n      <td>6041.167193</td>\n      <td>10.243014</td>\n      <td>0.044309</td>\n    </tr>\n    <tr>\n      <th>2023-05-29 00:00:00+00:00</th>\n      <td>28075.591797</td>\n      <td>28432.039062</td>\n      <td>27563.876953</td>\n      <td>27745.884766</td>\n      <td>15181308984</td>\n      <td>0.0</td>\n      <td>0.0</td>\n      <td>4.244832e+12</td>\n      <td>1163161156992</td>\n      <td>0.087182</td>\n      <td>...</td>\n      <td>-0.719392</td>\n      <td>-1.237553</td>\n      <td>0.518161</td>\n      <td>-6.469181</td>\n      <td>-8.988868</td>\n      <td>2.519687</td>\n      <td>27379.531201</td>\n      <td>5966.875383</td>\n      <td>10.230843</td>\n      <td>-0.012171</td>\n    </tr>\n    <tr>\n      <th>2023-05-30 00:00:00+00:00</th>\n      <td>27745.123047</td>\n      <td>28044.759766</td>\n      <td>27588.501953</td>\n      <td>27702.349609</td>\n      <td>13251081851</td>\n      <td>0.0</td>\n      <td>0.0</td>\n      <td>4.238194e+12</td>\n      <td>1149910075141</td>\n      <td>0.061986</td>\n      <td>...</td>\n      <td>-0.515452</td>\n      <td>-1.093133</td>\n      <td>0.577681</td>\n      <td>-5.900011</td>\n      <td>-8.371096</td>\n      <td>2.471085</td>\n      <td>27387.144765</td>\n      <td>5957.356048</td>\n      <td>10.229273</td>\n      <td>-0.001570</td>\n    </tr>\n    <tr>\n      <th>2023-05-31 00:00:00+00:00</th>\n      <td>27700.529297</td>\n      <td>27831.677734</td>\n      <td>26866.453125</td>\n      <td>27219.658203</td>\n      <td>15656371534</td>\n      <td>0.0</td>\n      <td>0.0</td>\n      <td>4.233996e+12</td>\n      <td>1134253703607</td>\n      <td>0.077008</td>\n      <td>...</td>\n      <td>-0.491023</td>\n      <td>-0.972711</td>\n      <td>0.481688</td>\n      <td>-3.951065</td>\n      <td>-7.487090</td>\n      <td>3.536025</td>\n      <td>27384.092304</td>\n      <td>5851.811437</td>\n      <td>10.211695</td>\n      <td>-0.017578</td>\n    </tr>\n    <tr>\n      <th>2023-06-01 00:00:00+00:00</th>\n      <td>27236.576172</td>\n      <td>27326.533203</td>\n      <td>26677.500000</td>\n      <td>26874.648438</td>\n      <td>14183487488</td>\n      <td>0.0</td>\n      <td>0.0</td>\n      <td>4.228429e+12</td>\n      <td>1120070216119</td>\n      <td>0.012685</td>\n      <td>...</td>\n      <td>-0.567349</td>\n      <td>-0.891639</td>\n      <td>0.324290</td>\n      <td>-3.256396</td>\n      <td>-6.640951</td>\n      <td>3.384555</td>\n      <td>27381.747343</td>\n      <td>5776.372096</td>\n      <td>10.198939</td>\n      <td>-0.012756</td>\n    </tr>\n  </tbody>\n</table>\n<p>3180 rows × 93 columns</p>\n</div>"
     },
     "execution_count": 15,
     "metadata": {},
     "output_type": "execute_result"
    }
   ],
   "source": [
    "mom_data['log_close'] = np.log(mom_data['Close'])\n",
    "mom_data['log_returns'] = mom_data['log_close'].diff()\n",
    "mom_data"
   ],
   "metadata": {
    "collapsed": false,
    "ExecuteTime": {
     "end_time": "2023-06-01T14:33:25.772912Z",
     "start_time": "2023-06-01T14:33:25.749886100Z"
    }
   }
  },
  {
   "cell_type": "code",
   "execution_count": 16,
   "outputs": [
    {
     "data": {
      "text/plain": "['log_returns',\n 'volatility_kcp',\n 'volume_em',\n 'volume_vpt',\n 'momentum_stoch_rsi',\n 'volatility_bbp',\n 'momentum_stoch',\n 'momentum_wr',\n 'volatility_dcp',\n 'momentum_rsi',\n 'momentum_uo',\n 'trend_cci',\n 'volatility_kchi',\n 'volatility_bbli',\n 'volatility_kcli']"
     },
     "execution_count": 16,
     "metadata": {},
     "output_type": "execute_result"
    }
   ],
   "source": [
    "get_cols_with_correlation_gte(mom_data, 'log_returns', thresh=0.3)"
   ],
   "metadata": {
    "collapsed": false,
    "ExecuteTime": {
     "end_time": "2023-06-01T14:33:31.368952400Z",
     "start_time": "2023-06-01T14:33:31.292777100Z"
    }
   }
  },
  {
   "cell_type": "code",
   "execution_count": 44,
   "outputs": [
    {
     "name": "stderr",
     "output_type": "stream",
     "text": [
      "/tmp/ipykernel_1485/670638868.py:2: SettingWithCopyWarning: \n",
      "A value is trying to be set on a copy of a slice from a DataFrame\n",
      "\n",
      "See the caveats in the documentation: https://pandas.pydata.org/pandas-docs/stable/user_guide/indexing.html#returning-a-view-versus-a-copy\n",
      "  df.dropna(how='any', inplace=True)\n"
     ]
    },
    {
     "data": {
      "text/plain": "                           log_returns  volatility_kcp    volume_em   \nDate                                                                  \n2014-10-15 00:00:00+00:00    -0.015326        1.121836  -320.421913  \\\n2014-10-16 00:00:00+00:00    -0.031436        0.766832  -911.425765   \n2014-10-17 00:00:00+00:00     0.003137        0.690923  -408.360857   \n2014-10-18 00:00:00+00:00     0.019825        0.781628   940.156778   \n2014-10-19 00:00:00+00:00    -0.004855        0.702341   396.391010   \n...                                ...             ...          ...   \n2023-05-28 00:00:00+00:00     0.044309        1.428437  7104.815020   \n2023-05-29 00:00:00+00:00    -0.012171        1.050246  2858.497078   \n2023-05-30 00:00:00+00:00    -0.001570        0.955887  -624.340933   \n2023-05-31 00:00:00+00:00    -0.017578        0.580642 -2882.568661   \n2023-06-01 00:00:00+00:00    -0.012756        0.342794 -1588.087646   \n\n                             volume_vpt  momentum_stoch_rsi  volatility_bbp   \nDate                                                                          \n2014-10-15 00:00:00+00:00  6.465751e+05            0.930809        0.759868  \\\n2014-10-16 00:00:00+00:00 -1.219554e+06            0.800876        0.653941   \n2014-10-17 00:00:00+00:00 -7.925239e+05            0.813819        0.681447   \n2014-10-18 00:00:00+00:00  2.713323e+05            0.896778        0.752572   \n2014-10-19 00:00:00+00:00  1.999508e+05            0.852180        0.720488   \n...                                 ...                 ...             ...   \n2023-05-28 00:00:00+00:00  7.030119e+08            1.000000        1.152591   \n2023-05-29 00:00:00+00:00  4.753301e+08            0.811280        0.932253   \n2023-05-30 00:00:00+00:00 -2.044453e+08            0.787049        0.897492   \n2023-05-31 00:00:00+00:00 -2.935917e+08            0.526399        0.601630   \n2023-06-01 00:00:00+00:00 -4.525758e+08            0.356102        0.393479   \n\n                           momentum_stoch  momentum_wr  volatility_dcp   \nDate                                                                     \n2014-10-15 00:00:00+00:00       86.172622   -13.827378        0.839504  \\\n2014-10-16 00:00:00+00:00       76.191568   -23.808432        0.761916   \n2014-10-17 00:00:00+00:00       77.173575   -22.826425        0.771736   \n2014-10-18 00:00:00+00:00       83.451242   -16.548758        0.834512   \n2014-10-19 00:00:00+00:00       79.702754   -20.297246        0.819023   \n...                                   ...          ...             ...   \n2023-05-28 00:00:00+00:00       95.318736    -4.681264        0.903021   \n2023-05-29 00:00:00+00:00       73.001414   -26.998586        0.731300   \n2023-05-30 00:00:00+00:00       71.288406   -28.711594        0.714252   \n2023-05-31 00:00:00+00:00       52.295615   -47.704385        0.525229   \n2023-06-01 00:00:00+00:00       38.720278   -61.279722        0.387203   \n\n                           momentum_rsi  momentum_uo   trend_cci   \nDate                                                               \n2014-10-15 00:00:00+00:00     53.755190    56.540247   83.319999  \\\n2014-10-16 00:00:00+00:00     48.988694    55.805860   55.964149   \n2014-10-17 00:00:00+00:00     49.463490    59.957246   50.528574   \n2014-10-18 00:00:00+00:00     52.506761    63.083999   73.549139   \n2014-10-19 00:00:00+00:00     51.679788    59.063963   74.317513   \n...                                 ...          ...         ...   \n2023-05-28 00:00:00+00:00     56.900695    62.341245  170.351078   \n2023-05-29 00:00:00+00:00     53.394887    57.970014  207.977442   \n2023-05-30 00:00:00+00:00     52.944750    55.419422  169.478317   \n2023-05-31 00:00:00+00:00     48.102715    55.995648   60.428215   \n2023-06-01 00:00:00+00:00     44.939153    52.036427  -19.521577   \n\n                           volatility_kchi  momentum_roc  volatility_bbli   \nDate                                                                        \n2014-10-15 00:00:00+00:00              1.0      9.808022              0.0  \\\n2014-10-16 00:00:00+00:00              0.0     16.325799              0.0   \n2014-10-17 00:00:00+00:00              0.0     19.733545              0.0   \n2014-10-18 00:00:00+00:00              0.0     18.590390              0.0   \n2014-10-19 00:00:00+00:00              0.0     15.871814              0.0   \n...                                    ...           ...              ...   \n2023-05-28 00:00:00+00:00              1.0      3.879904              0.0   \n2023-05-29 00:00:00+00:00              1.0      1.266778              0.0   \n2023-05-30 00:00:00+00:00              0.0      3.242896              0.0   \n2023-05-31 00:00:00+00:00              0.0      1.225466              0.0   \n2023-06-01 00:00:00+00:00              0.0     -0.939703              0.0   \n\n                           volatility_kcli  \nDate                                        \n2014-10-15 00:00:00+00:00              0.0  \n2014-10-16 00:00:00+00:00              0.0  \n2014-10-17 00:00:00+00:00              0.0  \n2014-10-18 00:00:00+00:00              0.0  \n2014-10-19 00:00:00+00:00              0.0  \n...                                    ...  \n2023-05-28 00:00:00+00:00              0.0  \n2023-05-29 00:00:00+00:00              0.0  \n2023-05-30 00:00:00+00:00              0.0  \n2023-05-31 00:00:00+00:00              0.0  \n2023-06-01 00:00:00+00:00              0.0  \n\n[3152 rows x 16 columns]",
      "text/html": "<div>\n<style scoped>\n    .dataframe tbody tr th:only-of-type {\n        vertical-align: middle;\n    }\n\n    .dataframe tbody tr th {\n        vertical-align: top;\n    }\n\n    .dataframe thead th {\n        text-align: right;\n    }\n</style>\n<table border=\"1\" class=\"dataframe\">\n  <thead>\n    <tr style=\"text-align: right;\">\n      <th></th>\n      <th>log_returns</th>\n      <th>volatility_kcp</th>\n      <th>volume_em</th>\n      <th>volume_vpt</th>\n      <th>momentum_stoch_rsi</th>\n      <th>volatility_bbp</th>\n      <th>momentum_stoch</th>\n      <th>momentum_wr</th>\n      <th>volatility_dcp</th>\n      <th>momentum_rsi</th>\n      <th>momentum_uo</th>\n      <th>trend_cci</th>\n      <th>volatility_kchi</th>\n      <th>momentum_roc</th>\n      <th>volatility_bbli</th>\n      <th>volatility_kcli</th>\n    </tr>\n    <tr>\n      <th>Date</th>\n      <th></th>\n      <th></th>\n      <th></th>\n      <th></th>\n      <th></th>\n      <th></th>\n      <th></th>\n      <th></th>\n      <th></th>\n      <th></th>\n      <th></th>\n      <th></th>\n      <th></th>\n      <th></th>\n      <th></th>\n      <th></th>\n    </tr>\n  </thead>\n  <tbody>\n    <tr>\n      <th>2014-10-15 00:00:00+00:00</th>\n      <td>-0.015326</td>\n      <td>1.121836</td>\n      <td>-320.421913</td>\n      <td>6.465751e+05</td>\n      <td>0.930809</td>\n      <td>0.759868</td>\n      <td>86.172622</td>\n      <td>-13.827378</td>\n      <td>0.839504</td>\n      <td>53.755190</td>\n      <td>56.540247</td>\n      <td>83.319999</td>\n      <td>1.0</td>\n      <td>9.808022</td>\n      <td>0.0</td>\n      <td>0.0</td>\n    </tr>\n    <tr>\n      <th>2014-10-16 00:00:00+00:00</th>\n      <td>-0.031436</td>\n      <td>0.766832</td>\n      <td>-911.425765</td>\n      <td>-1.219554e+06</td>\n      <td>0.800876</td>\n      <td>0.653941</td>\n      <td>76.191568</td>\n      <td>-23.808432</td>\n      <td>0.761916</td>\n      <td>48.988694</td>\n      <td>55.805860</td>\n      <td>55.964149</td>\n      <td>0.0</td>\n      <td>16.325799</td>\n      <td>0.0</td>\n      <td>0.0</td>\n    </tr>\n    <tr>\n      <th>2014-10-17 00:00:00+00:00</th>\n      <td>0.003137</td>\n      <td>0.690923</td>\n      <td>-408.360857</td>\n      <td>-7.925239e+05</td>\n      <td>0.813819</td>\n      <td>0.681447</td>\n      <td>77.173575</td>\n      <td>-22.826425</td>\n      <td>0.771736</td>\n      <td>49.463490</td>\n      <td>59.957246</td>\n      <td>50.528574</td>\n      <td>0.0</td>\n      <td>19.733545</td>\n      <td>0.0</td>\n      <td>0.0</td>\n    </tr>\n    <tr>\n      <th>2014-10-18 00:00:00+00:00</th>\n      <td>0.019825</td>\n      <td>0.781628</td>\n      <td>940.156778</td>\n      <td>2.713323e+05</td>\n      <td>0.896778</td>\n      <td>0.752572</td>\n      <td>83.451242</td>\n      <td>-16.548758</td>\n      <td>0.834512</td>\n      <td>52.506761</td>\n      <td>63.083999</td>\n      <td>73.549139</td>\n      <td>0.0</td>\n      <td>18.590390</td>\n      <td>0.0</td>\n      <td>0.0</td>\n    </tr>\n    <tr>\n      <th>2014-10-19 00:00:00+00:00</th>\n      <td>-0.004855</td>\n      <td>0.702341</td>\n      <td>396.391010</td>\n      <td>1.999508e+05</td>\n      <td>0.852180</td>\n      <td>0.720488</td>\n      <td>79.702754</td>\n      <td>-20.297246</td>\n      <td>0.819023</td>\n      <td>51.679788</td>\n      <td>59.063963</td>\n      <td>74.317513</td>\n      <td>0.0</td>\n      <td>15.871814</td>\n      <td>0.0</td>\n      <td>0.0</td>\n    </tr>\n    <tr>\n      <th>...</th>\n      <td>...</td>\n      <td>...</td>\n      <td>...</td>\n      <td>...</td>\n      <td>...</td>\n      <td>...</td>\n      <td>...</td>\n      <td>...</td>\n      <td>...</td>\n      <td>...</td>\n      <td>...</td>\n      <td>...</td>\n      <td>...</td>\n      <td>...</td>\n      <td>...</td>\n      <td>...</td>\n    </tr>\n    <tr>\n      <th>2023-05-28 00:00:00+00:00</th>\n      <td>0.044309</td>\n      <td>1.428437</td>\n      <td>7104.815020</td>\n      <td>7.030119e+08</td>\n      <td>1.000000</td>\n      <td>1.152591</td>\n      <td>95.318736</td>\n      <td>-4.681264</td>\n      <td>0.903021</td>\n      <td>56.900695</td>\n      <td>62.341245</td>\n      <td>170.351078</td>\n      <td>1.0</td>\n      <td>3.879904</td>\n      <td>0.0</td>\n      <td>0.0</td>\n    </tr>\n    <tr>\n      <th>2023-05-29 00:00:00+00:00</th>\n      <td>-0.012171</td>\n      <td>1.050246</td>\n      <td>2858.497078</td>\n      <td>4.753301e+08</td>\n      <td>0.811280</td>\n      <td>0.932253</td>\n      <td>73.001414</td>\n      <td>-26.998586</td>\n      <td>0.731300</td>\n      <td>53.394887</td>\n      <td>57.970014</td>\n      <td>207.977442</td>\n      <td>1.0</td>\n      <td>1.266778</td>\n      <td>0.0</td>\n      <td>0.0</td>\n    </tr>\n    <tr>\n      <th>2023-05-30 00:00:00+00:00</th>\n      <td>-0.001570</td>\n      <td>0.955887</td>\n      <td>-624.340933</td>\n      <td>-2.044453e+08</td>\n      <td>0.787049</td>\n      <td>0.897492</td>\n      <td>71.288406</td>\n      <td>-28.711594</td>\n      <td>0.714252</td>\n      <td>52.944750</td>\n      <td>55.419422</td>\n      <td>169.478317</td>\n      <td>0.0</td>\n      <td>3.242896</td>\n      <td>0.0</td>\n      <td>0.0</td>\n    </tr>\n    <tr>\n      <th>2023-05-31 00:00:00+00:00</th>\n      <td>-0.017578</td>\n      <td>0.580642</td>\n      <td>-2882.568661</td>\n      <td>-2.935917e+08</td>\n      <td>0.526399</td>\n      <td>0.601630</td>\n      <td>52.295615</td>\n      <td>-47.704385</td>\n      <td>0.525229</td>\n      <td>48.102715</td>\n      <td>55.995648</td>\n      <td>60.428215</td>\n      <td>0.0</td>\n      <td>1.225466</td>\n      <td>0.0</td>\n      <td>0.0</td>\n    </tr>\n    <tr>\n      <th>2023-06-01 00:00:00+00:00</th>\n      <td>-0.012756</td>\n      <td>0.342794</td>\n      <td>-1588.087646</td>\n      <td>-4.525758e+08</td>\n      <td>0.356102</td>\n      <td>0.393479</td>\n      <td>38.720278</td>\n      <td>-61.279722</td>\n      <td>0.387203</td>\n      <td>44.939153</td>\n      <td>52.036427</td>\n      <td>-19.521577</td>\n      <td>0.0</td>\n      <td>-0.939703</td>\n      <td>0.0</td>\n      <td>0.0</td>\n    </tr>\n  </tbody>\n</table>\n<p>3152 rows × 16 columns</p>\n</div>"
     },
     "execution_count": 44,
     "metadata": {},
     "output_type": "execute_result"
    }
   ],
   "source": [
    "df = mom_data[get_cols_with_correlation_gte(mom_data, 'log_returns', thresh=0.29)]\n",
    "df.dropna(how='any', inplace=True)\n",
    "#df = parse_time_of_tradingview(df, 'Date')\n",
    "df"
   ],
   "metadata": {
    "collapsed": false,
    "ExecuteTime": {
     "end_time": "2023-06-01T15:13:53.595015200Z",
     "start_time": "2023-06-01T15:13:53.532329100Z"
    }
   }
  },
  {
   "cell_type": "code",
   "execution_count": 38,
   "outputs": [],
   "source": [
    "df.dropna(how='any', inplace=True)"
   ],
   "metadata": {
    "collapsed": false,
    "ExecuteTime": {
     "end_time": "2023-06-01T15:06:17.308510400Z",
     "start_time": "2023-06-01T15:06:17.278404400Z"
    }
   }
  },
  {
   "cell_type": "code",
   "execution_count": 55,
   "outputs": [
    {
     "name": "stderr",
     "output_type": "stream",
     "text": [
      "/tmp/ipykernel_2671/2287746887.py:1: SettingWithCopyWarning: \n",
      "A value is trying to be set on a copy of a slice from a DataFrame\n",
      "\n",
      "See the caveats in the documentation: https://pandas.pydata.org/pandas-docs/stable/user_guide/indexing.html#returning-a-view-versus-a-copy\n",
      "  df.drop(['others_dlr', 'others_dr'], axis=1, inplace=True)\n"
     ]
    }
   ],
   "source": [
    "df.drop(['others_dlr', 'others_dr'], axis=1, inplace=True)"
   ],
   "metadata": {
    "collapsed": false,
    "ExecuteTime": {
     "end_time": "2023-05-30T19:33:07.168292500Z",
     "start_time": "2023-05-30T19:33:07.100524900Z"
    }
   }
  },
  {
   "cell_type": "code",
   "execution_count": 45,
   "outputs": [
    {
     "data": {
      "text/plain": "DatetimeIndex(['2014-10-15 00:00:00+00:00', '2014-10-16 00:00:00+00:00',\n               '2014-10-17 00:00:00+00:00', '2014-10-18 00:00:00+00:00',\n               '2014-10-19 00:00:00+00:00', '2014-10-20 00:00:00+00:00',\n               '2014-10-21 00:00:00+00:00', '2014-10-22 00:00:00+00:00',\n               '2014-10-23 00:00:00+00:00', '2014-10-24 00:00:00+00:00',\n               ...\n               '2023-05-23 00:00:00+00:00', '2023-05-24 00:00:00+00:00',\n               '2023-05-25 00:00:00+00:00', '2023-05-26 00:00:00+00:00',\n               '2023-05-27 00:00:00+00:00', '2023-05-28 00:00:00+00:00',\n               '2023-05-29 00:00:00+00:00', '2023-05-30 00:00:00+00:00',\n               '2023-05-31 00:00:00+00:00', '2023-06-01 00:00:00+00:00'],\n              dtype='datetime64[ns, UTC]', name='timestamp', length=3152, freq=None)"
     },
     "execution_count": 45,
     "metadata": {},
     "output_type": "execute_result"
    }
   ],
   "source": [
    "df.index.name = 'timestamp'\n",
    "df.index"
   ],
   "metadata": {
    "collapsed": false,
    "ExecuteTime": {
     "end_time": "2023-06-01T15:14:02.913054500Z",
     "start_time": "2023-06-01T15:14:02.853912700Z"
    }
   }
  },
  {
   "cell_type": "code",
   "execution_count": 40,
   "outputs": [
    {
     "data": {
      "text/plain": "                           log_returns  volatility_kcp    volume_em   \ntimestamp                                                             \n2014-10-15 00:00:00+00:00    -0.015326        1.121836  -320.421913  \\\n2014-10-16 00:00:00+00:00    -0.031436        0.766832  -911.425765   \n2014-10-17 00:00:00+00:00     0.003137        0.690923  -408.360857   \n2014-10-18 00:00:00+00:00     0.019825        0.781628   940.156778   \n2014-10-19 00:00:00+00:00    -0.004855        0.702341   396.391010   \n...                                ...             ...          ...   \n2023-05-28 00:00:00+00:00     0.044309        1.428437  7104.815020   \n2023-05-29 00:00:00+00:00    -0.012171        1.050246  2858.497078   \n2023-05-30 00:00:00+00:00    -0.001570        0.955887  -624.340933   \n2023-05-31 00:00:00+00:00    -0.017578        0.580642 -2882.568661   \n2023-06-01 00:00:00+00:00    -0.012756        0.342794 -1588.087646   \n\n                             volume_vpt  momentum_stoch_rsi  volatility_bbp   \ntimestamp                                                                     \n2014-10-15 00:00:00+00:00  6.465751e+05            0.930809        0.759868  \\\n2014-10-16 00:00:00+00:00 -1.219554e+06            0.800876        0.653941   \n2014-10-17 00:00:00+00:00 -7.925239e+05            0.813819        0.681447   \n2014-10-18 00:00:00+00:00  2.713323e+05            0.896778        0.752572   \n2014-10-19 00:00:00+00:00  1.999508e+05            0.852180        0.720488   \n...                                 ...                 ...             ...   \n2023-05-28 00:00:00+00:00  7.030119e+08            1.000000        1.152591   \n2023-05-29 00:00:00+00:00  4.753301e+08            0.811280        0.932253   \n2023-05-30 00:00:00+00:00 -2.044453e+08            0.787049        0.897492   \n2023-05-31 00:00:00+00:00 -2.935917e+08            0.526399        0.601630   \n2023-06-01 00:00:00+00:00 -4.525758e+08            0.356102        0.393479   \n\n                           momentum_stoch  momentum_wr  volatility_dcp   \ntimestamp                                                                \n2014-10-15 00:00:00+00:00       86.172622   -13.827378        0.839504  \\\n2014-10-16 00:00:00+00:00       76.191568   -23.808432        0.761916   \n2014-10-17 00:00:00+00:00       77.173575   -22.826425        0.771736   \n2014-10-18 00:00:00+00:00       83.451242   -16.548758        0.834512   \n2014-10-19 00:00:00+00:00       79.702754   -20.297246        0.819023   \n...                                   ...          ...             ...   \n2023-05-28 00:00:00+00:00       95.318736    -4.681264        0.903021   \n2023-05-29 00:00:00+00:00       73.001414   -26.998586        0.731300   \n2023-05-30 00:00:00+00:00       71.288406   -28.711594        0.714252   \n2023-05-31 00:00:00+00:00       52.295615   -47.704385        0.525229   \n2023-06-01 00:00:00+00:00       38.720278   -61.279722        0.387203   \n\n                           momentum_rsi  momentum_uo   trend_cci   \ntimestamp                                                          \n2014-10-15 00:00:00+00:00     53.755190    56.540247   83.319999  \\\n2014-10-16 00:00:00+00:00     48.988694    55.805860   55.964149   \n2014-10-17 00:00:00+00:00     49.463490    59.957246   50.528574   \n2014-10-18 00:00:00+00:00     52.506761    63.083999   73.549139   \n2014-10-19 00:00:00+00:00     51.679788    59.063963   74.317513   \n...                                 ...          ...         ...   \n2023-05-28 00:00:00+00:00     56.900695    62.341245  170.351078   \n2023-05-29 00:00:00+00:00     53.394887    57.970014  207.977442   \n2023-05-30 00:00:00+00:00     52.944750    55.419422  169.478317   \n2023-05-31 00:00:00+00:00     48.102715    55.995648   60.428215   \n2023-06-01 00:00:00+00:00     44.939153    52.036427  -19.521577   \n\n                           volatility_bbli  volatility_kcli  \ntimestamp                                                    \n2014-10-15 00:00:00+00:00              0.0              0.0  \n2014-10-16 00:00:00+00:00              0.0              0.0  \n2014-10-17 00:00:00+00:00              0.0              0.0  \n2014-10-18 00:00:00+00:00              0.0              0.0  \n2014-10-19 00:00:00+00:00              0.0              0.0  \n...                                    ...              ...  \n2023-05-28 00:00:00+00:00              0.0              0.0  \n2023-05-29 00:00:00+00:00              0.0              0.0  \n2023-05-30 00:00:00+00:00              0.0              0.0  \n2023-05-31 00:00:00+00:00              0.0              0.0  \n2023-06-01 00:00:00+00:00              0.0              0.0  \n\n[3152 rows x 14 columns]",
      "text/html": "<div>\n<style scoped>\n    .dataframe tbody tr th:only-of-type {\n        vertical-align: middle;\n    }\n\n    .dataframe tbody tr th {\n        vertical-align: top;\n    }\n\n    .dataframe thead th {\n        text-align: right;\n    }\n</style>\n<table border=\"1\" class=\"dataframe\">\n  <thead>\n    <tr style=\"text-align: right;\">\n      <th></th>\n      <th>log_returns</th>\n      <th>volatility_kcp</th>\n      <th>volume_em</th>\n      <th>volume_vpt</th>\n      <th>momentum_stoch_rsi</th>\n      <th>volatility_bbp</th>\n      <th>momentum_stoch</th>\n      <th>momentum_wr</th>\n      <th>volatility_dcp</th>\n      <th>momentum_rsi</th>\n      <th>momentum_uo</th>\n      <th>trend_cci</th>\n      <th>volatility_bbli</th>\n      <th>volatility_kcli</th>\n    </tr>\n    <tr>\n      <th>timestamp</th>\n      <th></th>\n      <th></th>\n      <th></th>\n      <th></th>\n      <th></th>\n      <th></th>\n      <th></th>\n      <th></th>\n      <th></th>\n      <th></th>\n      <th></th>\n      <th></th>\n      <th></th>\n      <th></th>\n    </tr>\n  </thead>\n  <tbody>\n    <tr>\n      <th>2014-10-15 00:00:00+00:00</th>\n      <td>-0.015326</td>\n      <td>1.121836</td>\n      <td>-320.421913</td>\n      <td>6.465751e+05</td>\n      <td>0.930809</td>\n      <td>0.759868</td>\n      <td>86.172622</td>\n      <td>-13.827378</td>\n      <td>0.839504</td>\n      <td>53.755190</td>\n      <td>56.540247</td>\n      <td>83.319999</td>\n      <td>0.0</td>\n      <td>0.0</td>\n    </tr>\n    <tr>\n      <th>2014-10-16 00:00:00+00:00</th>\n      <td>-0.031436</td>\n      <td>0.766832</td>\n      <td>-911.425765</td>\n      <td>-1.219554e+06</td>\n      <td>0.800876</td>\n      <td>0.653941</td>\n      <td>76.191568</td>\n      <td>-23.808432</td>\n      <td>0.761916</td>\n      <td>48.988694</td>\n      <td>55.805860</td>\n      <td>55.964149</td>\n      <td>0.0</td>\n      <td>0.0</td>\n    </tr>\n    <tr>\n      <th>2014-10-17 00:00:00+00:00</th>\n      <td>0.003137</td>\n      <td>0.690923</td>\n      <td>-408.360857</td>\n      <td>-7.925239e+05</td>\n      <td>0.813819</td>\n      <td>0.681447</td>\n      <td>77.173575</td>\n      <td>-22.826425</td>\n      <td>0.771736</td>\n      <td>49.463490</td>\n      <td>59.957246</td>\n      <td>50.528574</td>\n      <td>0.0</td>\n      <td>0.0</td>\n    </tr>\n    <tr>\n      <th>2014-10-18 00:00:00+00:00</th>\n      <td>0.019825</td>\n      <td>0.781628</td>\n      <td>940.156778</td>\n      <td>2.713323e+05</td>\n      <td>0.896778</td>\n      <td>0.752572</td>\n      <td>83.451242</td>\n      <td>-16.548758</td>\n      <td>0.834512</td>\n      <td>52.506761</td>\n      <td>63.083999</td>\n      <td>73.549139</td>\n      <td>0.0</td>\n      <td>0.0</td>\n    </tr>\n    <tr>\n      <th>2014-10-19 00:00:00+00:00</th>\n      <td>-0.004855</td>\n      <td>0.702341</td>\n      <td>396.391010</td>\n      <td>1.999508e+05</td>\n      <td>0.852180</td>\n      <td>0.720488</td>\n      <td>79.702754</td>\n      <td>-20.297246</td>\n      <td>0.819023</td>\n      <td>51.679788</td>\n      <td>59.063963</td>\n      <td>74.317513</td>\n      <td>0.0</td>\n      <td>0.0</td>\n    </tr>\n    <tr>\n      <th>...</th>\n      <td>...</td>\n      <td>...</td>\n      <td>...</td>\n      <td>...</td>\n      <td>...</td>\n      <td>...</td>\n      <td>...</td>\n      <td>...</td>\n      <td>...</td>\n      <td>...</td>\n      <td>...</td>\n      <td>...</td>\n      <td>...</td>\n      <td>...</td>\n    </tr>\n    <tr>\n      <th>2023-05-28 00:00:00+00:00</th>\n      <td>0.044309</td>\n      <td>1.428437</td>\n      <td>7104.815020</td>\n      <td>7.030119e+08</td>\n      <td>1.000000</td>\n      <td>1.152591</td>\n      <td>95.318736</td>\n      <td>-4.681264</td>\n      <td>0.903021</td>\n      <td>56.900695</td>\n      <td>62.341245</td>\n      <td>170.351078</td>\n      <td>0.0</td>\n      <td>0.0</td>\n    </tr>\n    <tr>\n      <th>2023-05-29 00:00:00+00:00</th>\n      <td>-0.012171</td>\n      <td>1.050246</td>\n      <td>2858.497078</td>\n      <td>4.753301e+08</td>\n      <td>0.811280</td>\n      <td>0.932253</td>\n      <td>73.001414</td>\n      <td>-26.998586</td>\n      <td>0.731300</td>\n      <td>53.394887</td>\n      <td>57.970014</td>\n      <td>207.977442</td>\n      <td>0.0</td>\n      <td>0.0</td>\n    </tr>\n    <tr>\n      <th>2023-05-30 00:00:00+00:00</th>\n      <td>-0.001570</td>\n      <td>0.955887</td>\n      <td>-624.340933</td>\n      <td>-2.044453e+08</td>\n      <td>0.787049</td>\n      <td>0.897492</td>\n      <td>71.288406</td>\n      <td>-28.711594</td>\n      <td>0.714252</td>\n      <td>52.944750</td>\n      <td>55.419422</td>\n      <td>169.478317</td>\n      <td>0.0</td>\n      <td>0.0</td>\n    </tr>\n    <tr>\n      <th>2023-05-31 00:00:00+00:00</th>\n      <td>-0.017578</td>\n      <td>0.580642</td>\n      <td>-2882.568661</td>\n      <td>-2.935917e+08</td>\n      <td>0.526399</td>\n      <td>0.601630</td>\n      <td>52.295615</td>\n      <td>-47.704385</td>\n      <td>0.525229</td>\n      <td>48.102715</td>\n      <td>55.995648</td>\n      <td>60.428215</td>\n      <td>0.0</td>\n      <td>0.0</td>\n    </tr>\n    <tr>\n      <th>2023-06-01 00:00:00+00:00</th>\n      <td>-0.012756</td>\n      <td>0.342794</td>\n      <td>-1588.087646</td>\n      <td>-4.525758e+08</td>\n      <td>0.356102</td>\n      <td>0.393479</td>\n      <td>38.720278</td>\n      <td>-61.279722</td>\n      <td>0.387203</td>\n      <td>44.939153</td>\n      <td>52.036427</td>\n      <td>-19.521577</td>\n      <td>0.0</td>\n      <td>0.0</td>\n    </tr>\n  </tbody>\n</table>\n<p>3152 rows × 14 columns</p>\n</div>"
     },
     "execution_count": 40,
     "metadata": {},
     "output_type": "execute_result"
    }
   ],
   "source": [
    "df"
   ],
   "metadata": {
    "collapsed": false,
    "ExecuteTime": {
     "end_time": "2023-06-01T15:07:15.469016600Z",
     "start_time": "2023-06-01T15:07:15.231413500Z"
    }
   }
  },
  {
   "cell_type": "code",
   "execution_count": 23,
   "outputs": [
    {
     "data": {
      "text/plain": "                           others_dlr  log_returns  others_dr  volatility_kcp   \ntimestamp                                                                       \n2014-11-27 00:00:00+00:00    0.352290     0.003523   0.352911        0.501327  \\\n2014-11-28 00:00:00+00:00    1.816649     0.018166   1.833251        0.726950   \n2014-11-29 00:00:00+00:00   -0.254275    -0.002543  -0.253952        0.700354   \n2014-11-30 00:00:00+00:00    0.678402     0.006784   0.680709        0.764513   \n2014-12-01 00:00:00+00:00    0.316390     0.003164   0.316891        0.718714   \n...                               ...          ...        ...             ...   \n2023-05-27 00:00:00+00:00    0.556333     0.005563   0.557883        0.550539   \n2023-05-28 00:00:00+00:00    4.430950     0.044309   4.530583        1.428437   \n2023-05-29 00:00:00+00:00   -1.217111    -0.012171  -1.209734        1.050246   \n2023-05-30 00:00:00+00:00   -0.157030    -0.001570  -0.156907        0.955887   \n2023-05-31 00:00:00+00:00   -2.827966    -0.028280  -2.788354        0.392914   \n\n                             volume_em    volume_vpt  momentum_stoch_rsi   \ntimestamp                                                                  \n2014-11-27 00:00:00+00:00   -40.468161 -3.149466e+05            0.388997  \\\n2014-11-28 00:00:00+00:00   -52.121651  4.515396e+05            0.748693   \n2014-11-29 00:00:00+00:00   927.476194  3.816202e+05            0.714180   \n2014-11-30 00:00:00+00:00  -196.001510  2.354075e+04            0.813134   \n2014-12-01 00:00:00+00:00   133.611388  9.986327e+04            1.000000   \n...                                ...           ...                 ...   \n2023-05-27 00:00:00+00:00   423.060846  1.607365e+08            0.831533   \n2023-05-28 00:00:00+00:00  7104.815020  7.030119e+08            1.000000   \n2023-05-29 00:00:00+00:00  2858.497078  4.753301e+08            0.811280   \n2023-05-30 00:00:00+00:00  -624.340933 -2.044453e+08            0.787049   \n2023-05-31 00:00:00+00:00 -2913.624911 -4.527976e+08            0.391643   \n\n                           volatility_bbp  momentum_stoch  momentum_wr  ...   \ntimestamp                                                               ...   \n2014-11-27 00:00:00+00:00        0.425509       34.013853   -65.986147  ...  \\\n2014-11-28 00:00:00+00:00        0.490535       48.927911   -51.072089  ...   \n2014-11-29 00:00:00+00:00        0.469128       47.481343   -52.518657  ...   \n2014-11-30 00:00:00+00:00        0.496233       51.348971   -48.651029  ...   \n2014-12-01 00:00:00+00:00        0.504775       69.447910   -30.552090  ...   \n...                                   ...             ...          ...  ...   \n2023-05-27 00:00:00+00:00        0.401448       55.688885   -44.311115  ...   \n2023-05-28 00:00:00+00:00        1.152591       95.318736    -4.681264  ...   \n2023-05-29 00:00:00+00:00        0.932253       73.001414   -26.998586  ...   \n2023-05-30 00:00:00+00:00        0.897492       71.288406   -28.711594  ...   \n2023-05-31 00:00:00+00:00        0.437402       40.894699   -59.105301  ...   \n\n                           trend_stc  volume_sma_em  trend_aroon_ind   \ntimestamp                                                              \n2014-11-27 00:00:00+00:00  24.373770    -502.853674             36.0  \\\n2014-11-28 00:00:00+00:00  46.507056    -281.225092             32.0   \n2014-11-29 00:00:00+00:00  68.204734       0.631289             28.0   \n2014-11-30 00:00:00+00:00  84.102367      40.733570             20.0   \n2014-12-01 00:00:00+00:00  92.051184     -12.443357             20.0   \n...                              ...            ...              ...   \n2023-05-27 00:00:00+00:00   0.000077    -117.034735            -76.0   \n2023-05-28 00:00:00+00:00  50.000039     378.059173            -76.0   \n2023-05-29 00:00:00+00:00  75.000019     451.343496            -76.0   \n2023-05-30 00:00:00+00:00  87.500010     434.361789            -72.0   \n2023-05-31 00:00:00+00:00  93.750005     249.156473            -68.0   \n\n                           momentum_tsi  trend_aroon_down   \ntimestamp                                                   \n2014-11-27 00:00:00+00:00     -0.527280               4.0  \\\n2014-11-28 00:00:00+00:00      0.152113               4.0   \n2014-11-29 00:00:00+00:00      0.610003               4.0   \n2014-11-30 00:00:00+00:00      1.277897               8.0   \n2014-12-01 00:00:00+00:00      1.977937               4.0   \n...                                 ...               ...   \n2023-05-27 00:00:00+00:00    -15.828830              88.0   \n2023-05-28 00:00:00+00:00    -10.923318              84.0   \n2023-05-29 00:00:00+00:00     -8.043034              80.0   \n2023-05-30 00:00:00+00:00     -5.906286              76.0   \n2023-05-31 00:00:00+00:00     -6.373180              72.0   \n\n                           trend_vortex_ind_neg  trend_psar_down_indicator   \ntimestamp                                                                    \n2014-11-27 00:00:00+00:00              1.288202                        0.0  \\\n2014-11-28 00:00:00+00:00              1.133492                        0.0   \n2014-11-29 00:00:00+00:00              1.070125                        0.0   \n2014-11-30 00:00:00+00:00              1.032653                        0.0   \n2014-12-01 00:00:00+00:00              1.119928                        0.0   \n...                                         ...                        ...   \n2023-05-27 00:00:00+00:00              1.015996                        0.0   \n2023-05-28 00:00:00+00:00              0.892222                        0.0   \n2023-05-29 00:00:00+00:00              0.918640                        0.0   \n2023-05-30 00:00:00+00:00              0.923086                        0.0   \n2023-05-31 00:00:00+00:00              0.964362                        0.0   \n\n                           trend_adx_neg  volatility_bbli  volatility_kcli  \ntimestamp                                                                   \n2014-11-27 00:00:00+00:00      20.285280              0.0              0.0  \n2014-11-28 00:00:00+00:00      22.078843              0.0              0.0  \n2014-11-29 00:00:00+00:00      20.806231              0.0              0.0  \n2014-11-30 00:00:00+00:00      20.063468              0.0              0.0  \n2014-12-01 00:00:00+00:00      19.494893              0.0              0.0  \n...                                  ...              ...              ...  \n2023-05-27 00:00:00+00:00      22.537261              0.0              0.0  \n2023-05-28 00:00:00+00:00      19.693069              0.0              0.0  \n2023-05-29 00:00:00+00:00      18.152938              0.0              0.0  \n2023-05-30 00:00:00+00:00      17.383497              0.0              0.0  \n2023-05-31 00:00:00+00:00      22.477363              0.0              0.0  \n\n[3108 rows x 38 columns]",
      "text/html": "<div>\n<style scoped>\n    .dataframe tbody tr th:only-of-type {\n        vertical-align: middle;\n    }\n\n    .dataframe tbody tr th {\n        vertical-align: top;\n    }\n\n    .dataframe thead th {\n        text-align: right;\n    }\n</style>\n<table border=\"1\" class=\"dataframe\">\n  <thead>\n    <tr style=\"text-align: right;\">\n      <th></th>\n      <th>others_dlr</th>\n      <th>log_returns</th>\n      <th>others_dr</th>\n      <th>volatility_kcp</th>\n      <th>volume_em</th>\n      <th>volume_vpt</th>\n      <th>momentum_stoch_rsi</th>\n      <th>volatility_bbp</th>\n      <th>momentum_stoch</th>\n      <th>momentum_wr</th>\n      <th>...</th>\n      <th>trend_stc</th>\n      <th>volume_sma_em</th>\n      <th>trend_aroon_ind</th>\n      <th>momentum_tsi</th>\n      <th>trend_aroon_down</th>\n      <th>trend_vortex_ind_neg</th>\n      <th>trend_psar_down_indicator</th>\n      <th>trend_adx_neg</th>\n      <th>volatility_bbli</th>\n      <th>volatility_kcli</th>\n    </tr>\n    <tr>\n      <th>timestamp</th>\n      <th></th>\n      <th></th>\n      <th></th>\n      <th></th>\n      <th></th>\n      <th></th>\n      <th></th>\n      <th></th>\n      <th></th>\n      <th></th>\n      <th></th>\n      <th></th>\n      <th></th>\n      <th></th>\n      <th></th>\n      <th></th>\n      <th></th>\n      <th></th>\n      <th></th>\n      <th></th>\n      <th></th>\n    </tr>\n  </thead>\n  <tbody>\n    <tr>\n      <th>2014-11-27 00:00:00+00:00</th>\n      <td>0.352290</td>\n      <td>0.003523</td>\n      <td>0.352911</td>\n      <td>0.501327</td>\n      <td>-40.468161</td>\n      <td>-3.149466e+05</td>\n      <td>0.388997</td>\n      <td>0.425509</td>\n      <td>34.013853</td>\n      <td>-65.986147</td>\n      <td>...</td>\n      <td>24.373770</td>\n      <td>-502.853674</td>\n      <td>36.0</td>\n      <td>-0.527280</td>\n      <td>4.0</td>\n      <td>1.288202</td>\n      <td>0.0</td>\n      <td>20.285280</td>\n      <td>0.0</td>\n      <td>0.0</td>\n    </tr>\n    <tr>\n      <th>2014-11-28 00:00:00+00:00</th>\n      <td>1.816649</td>\n      <td>0.018166</td>\n      <td>1.833251</td>\n      <td>0.726950</td>\n      <td>-52.121651</td>\n      <td>4.515396e+05</td>\n      <td>0.748693</td>\n      <td>0.490535</td>\n      <td>48.927911</td>\n      <td>-51.072089</td>\n      <td>...</td>\n      <td>46.507056</td>\n      <td>-281.225092</td>\n      <td>32.0</td>\n      <td>0.152113</td>\n      <td>4.0</td>\n      <td>1.133492</td>\n      <td>0.0</td>\n      <td>22.078843</td>\n      <td>0.0</td>\n      <td>0.0</td>\n    </tr>\n    <tr>\n      <th>2014-11-29 00:00:00+00:00</th>\n      <td>-0.254275</td>\n      <td>-0.002543</td>\n      <td>-0.253952</td>\n      <td>0.700354</td>\n      <td>927.476194</td>\n      <td>3.816202e+05</td>\n      <td>0.714180</td>\n      <td>0.469128</td>\n      <td>47.481343</td>\n      <td>-52.518657</td>\n      <td>...</td>\n      <td>68.204734</td>\n      <td>0.631289</td>\n      <td>28.0</td>\n      <td>0.610003</td>\n      <td>4.0</td>\n      <td>1.070125</td>\n      <td>0.0</td>\n      <td>20.806231</td>\n      <td>0.0</td>\n      <td>0.0</td>\n    </tr>\n    <tr>\n      <th>2014-11-30 00:00:00+00:00</th>\n      <td>0.678402</td>\n      <td>0.006784</td>\n      <td>0.680709</td>\n      <td>0.764513</td>\n      <td>-196.001510</td>\n      <td>2.354075e+04</td>\n      <td>0.813134</td>\n      <td>0.496233</td>\n      <td>51.348971</td>\n      <td>-48.651029</td>\n      <td>...</td>\n      <td>84.102367</td>\n      <td>40.733570</td>\n      <td>20.0</td>\n      <td>1.277897</td>\n      <td>8.0</td>\n      <td>1.032653</td>\n      <td>0.0</td>\n      <td>20.063468</td>\n      <td>0.0</td>\n      <td>0.0</td>\n    </tr>\n    <tr>\n      <th>2014-12-01 00:00:00+00:00</th>\n      <td>0.316390</td>\n      <td>0.003164</td>\n      <td>0.316891</td>\n      <td>0.718714</td>\n      <td>133.611388</td>\n      <td>9.986327e+04</td>\n      <td>1.000000</td>\n      <td>0.504775</td>\n      <td>69.447910</td>\n      <td>-30.552090</td>\n      <td>...</td>\n      <td>92.051184</td>\n      <td>-12.443357</td>\n      <td>20.0</td>\n      <td>1.977937</td>\n      <td>4.0</td>\n      <td>1.119928</td>\n      <td>0.0</td>\n      <td>19.494893</td>\n      <td>0.0</td>\n      <td>0.0</td>\n    </tr>\n    <tr>\n      <th>...</th>\n      <td>...</td>\n      <td>...</td>\n      <td>...</td>\n      <td>...</td>\n      <td>...</td>\n      <td>...</td>\n      <td>...</td>\n      <td>...</td>\n      <td>...</td>\n      <td>...</td>\n      <td>...</td>\n      <td>...</td>\n      <td>...</td>\n      <td>...</td>\n      <td>...</td>\n      <td>...</td>\n      <td>...</td>\n      <td>...</td>\n      <td>...</td>\n      <td>...</td>\n      <td>...</td>\n    </tr>\n    <tr>\n      <th>2023-05-27 00:00:00+00:00</th>\n      <td>0.556333</td>\n      <td>0.005563</td>\n      <td>0.557883</td>\n      <td>0.550539</td>\n      <td>423.060846</td>\n      <td>1.607365e+08</td>\n      <td>0.831533</td>\n      <td>0.401448</td>\n      <td>55.688885</td>\n      <td>-44.311115</td>\n      <td>...</td>\n      <td>0.000077</td>\n      <td>-117.034735</td>\n      <td>-76.0</td>\n      <td>-15.828830</td>\n      <td>88.0</td>\n      <td>1.015996</td>\n      <td>0.0</td>\n      <td>22.537261</td>\n      <td>0.0</td>\n      <td>0.0</td>\n    </tr>\n    <tr>\n      <th>2023-05-28 00:00:00+00:00</th>\n      <td>4.430950</td>\n      <td>0.044309</td>\n      <td>4.530583</td>\n      <td>1.428437</td>\n      <td>7104.815020</td>\n      <td>7.030119e+08</td>\n      <td>1.000000</td>\n      <td>1.152591</td>\n      <td>95.318736</td>\n      <td>-4.681264</td>\n      <td>...</td>\n      <td>50.000039</td>\n      <td>378.059173</td>\n      <td>-76.0</td>\n      <td>-10.923318</td>\n      <td>84.0</td>\n      <td>0.892222</td>\n      <td>0.0</td>\n      <td>19.693069</td>\n      <td>0.0</td>\n      <td>0.0</td>\n    </tr>\n    <tr>\n      <th>2023-05-29 00:00:00+00:00</th>\n      <td>-1.217111</td>\n      <td>-0.012171</td>\n      <td>-1.209734</td>\n      <td>1.050246</td>\n      <td>2858.497078</td>\n      <td>4.753301e+08</td>\n      <td>0.811280</td>\n      <td>0.932253</td>\n      <td>73.001414</td>\n      <td>-26.998586</td>\n      <td>...</td>\n      <td>75.000019</td>\n      <td>451.343496</td>\n      <td>-76.0</td>\n      <td>-8.043034</td>\n      <td>80.0</td>\n      <td>0.918640</td>\n      <td>0.0</td>\n      <td>18.152938</td>\n      <td>0.0</td>\n      <td>0.0</td>\n    </tr>\n    <tr>\n      <th>2023-05-30 00:00:00+00:00</th>\n      <td>-0.157030</td>\n      <td>-0.001570</td>\n      <td>-0.156907</td>\n      <td>0.955887</td>\n      <td>-624.340933</td>\n      <td>-2.044453e+08</td>\n      <td>0.787049</td>\n      <td>0.897492</td>\n      <td>71.288406</td>\n      <td>-28.711594</td>\n      <td>...</td>\n      <td>87.500010</td>\n      <td>434.361789</td>\n      <td>-72.0</td>\n      <td>-5.906286</td>\n      <td>76.0</td>\n      <td>0.923086</td>\n      <td>0.0</td>\n      <td>17.383497</td>\n      <td>0.0</td>\n      <td>0.0</td>\n    </tr>\n    <tr>\n      <th>2023-05-31 00:00:00+00:00</th>\n      <td>-2.827966</td>\n      <td>-0.028280</td>\n      <td>-2.788354</td>\n      <td>0.392914</td>\n      <td>-2913.624911</td>\n      <td>-4.527976e+08</td>\n      <td>0.391643</td>\n      <td>0.437402</td>\n      <td>40.894699</td>\n      <td>-59.105301</td>\n      <td>...</td>\n      <td>93.750005</td>\n      <td>249.156473</td>\n      <td>-68.0</td>\n      <td>-6.373180</td>\n      <td>72.0</td>\n      <td>0.964362</td>\n      <td>0.0</td>\n      <td>22.477363</td>\n      <td>0.0</td>\n      <td>0.0</td>\n    </tr>\n  </tbody>\n</table>\n<p>3108 rows × 38 columns</p>\n</div>"
     },
     "execution_count": 23,
     "metadata": {},
     "output_type": "execute_result"
    }
   ],
   "source": [
    "df"
   ],
   "metadata": {
    "collapsed": false,
    "ExecuteTime": {
     "end_time": "2023-05-31T19:26:17.113352800Z",
     "start_time": "2023-05-31T19:26:17.107250300Z"
    }
   }
  },
  {
   "cell_type": "markdown",
   "source": [],
   "metadata": {
    "collapsed": false
   }
  },
  {
   "cell_type": "code",
   "execution_count": null,
   "outputs": [],
   "source": [
    "fear_greed = pd.read_csv(\n",
    "    './datasets/fear_greed.csv',\n",
    "    delimiter=',',\n",
    "    low_memory=False,\n",
    "    parse_dates=True,\n",
    "    index_col='timestamp'\n",
    ")\n",
    "# fear_greed['timestamp'] = pd.to_datetime(fear_greed['timestamp'], format='%Y-%m-%d', errors='coerce', utc=True)\n",
    "# fear_greed['timestamp'] = fear_greed['timestamp'].dt.date\n",
    "# fear_greed = fear_greed.set_index(['timestamp'])\n",
    "fear_greed.rename(columns = {'value':'fear_greed'}, inplace = True)\n",
    "# return df\n",
    "fear_greed\n"
   ],
   "metadata": {
    "collapsed": false
   }
  },
  {
   "cell_type": "code",
   "execution_count": 46,
   "outputs": [],
   "source": [
    "df.to_csv('./datasets/prepared/ta_corr_03_with_logg_diffed.csv', index_label='timestamp')\n"
   ],
   "metadata": {
    "collapsed": false,
    "ExecuteTime": {
     "end_time": "2023-06-01T15:14:06.588078600Z",
     "start_time": "2023-06-01T15:14:06.452703600Z"
    }
   }
  },
  {
   "cell_type": "code",
   "execution_count": 13,
   "outputs": [],
   "source": [],
   "metadata": {
    "collapsed": false,
    "ExecuteTime": {
     "end_time": "2023-05-31T17:17:56.502435800Z",
     "start_time": "2023-05-31T17:17:56.449788700Z"
    }
   }
  },
  {
   "cell_type": "code",
   "execution_count": 56,
   "outputs": [
    {
     "data": {
      "text/plain": "36"
     },
     "execution_count": 56,
     "metadata": {},
     "output_type": "execute_result"
    }
   ],
   "source": [
    "len(df.columns)"
   ],
   "metadata": {
    "collapsed": false,
    "ExecuteTime": {
     "end_time": "2023-05-30T19:33:10.857568Z",
     "start_time": "2023-05-30T19:33:10.848612900Z"
    }
   }
  },
  {
   "cell_type": "code",
   "execution_count": null,
   "outputs": [],
   "source": [],
   "metadata": {
    "collapsed": false
   }
  }
 ],
 "metadata": {
  "kernelspec": {
   "display_name": "Python 3",
   "language": "python",
   "name": "python3"
  },
  "language_info": {
   "codemirror_mode": {
    "name": "ipython",
    "version": 2
   },
   "file_extension": ".py",
   "mimetype": "text/x-python",
   "name": "python",
   "nbconvert_exporter": "python",
   "pygments_lexer": "ipython2",
   "version": "2.7.6"
  }
 },
 "nbformat": 4,
 "nbformat_minor": 0
}
