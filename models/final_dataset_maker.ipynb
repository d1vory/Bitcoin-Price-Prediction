{
 "cells": [
  {
   "cell_type": "code",
   "execution_count": 2,
   "metadata": {
    "collapsed": true,
    "pycharm": {
     "name": "#%%\n",
     "is_executing": true
    },
    "ExecuteTime": {
     "end_time": "2023-06-04T18:54:36.581424600Z",
     "start_time": "2023-06-04T18:54:35.028402400Z"
    }
   },
   "outputs": [],
   "source": [
    "\n",
    "import yfinance as yf, pandas as pd\n",
    "from ta import add_all_ta_features\n",
    "import pandas as pd\n",
    "import numpy as np\n",
    "from pandas import DataFrame\n",
    "from sklearn.preprocessing import StandardScaler\n",
    "from sklearn.model_selection import train_test_split\n",
    "from ta.utils import dropna\n",
    "import requests\n"
   ]
  },
  {
   "cell_type": "code",
   "execution_count": 73,
   "outputs": [],
   "source": [],
   "metadata": {
    "collapsed": false,
    "pycharm": {
     "name": "#%%\n"
    },
    "ExecuteTime": {
     "end_time": "2023-06-02T13:57:35.765577800Z",
     "start_time": "2023-06-02T13:57:35.755545300Z"
    }
   }
  },
  {
   "cell_type": "code",
   "execution_count": 3,
   "outputs": [],
   "source": [
    "def calculate_correlation(df, target_column, correlation_method='pearson'):\n",
    "    res = []\n",
    "    for column in df.columns:\n",
    "        try:\n",
    "            correlation  = df[target_column].corr(df[column], method=correlation_method)\n",
    "        except:\n",
    "            print(column)\n",
    "            raise\n",
    "        #print(f'Correlation between {target_column} and {column} = {correlation}, method={correlation_method}')\n",
    "        res.append(\n",
    "            {\n",
    "                #'target_column': target_column,\n",
    "                'column': column,\n",
    "                'correlation': correlation\n",
    "            }\n",
    "        )\n",
    "    sorted_corr = sorted(res, key=lambda d: d['correlation'], reverse=True )\n",
    "    return sorted_corr\n",
    "\n",
    "def get_cols_with_correlation_gte(df, target_column, correlation_method='pearson', thresh=0.1):\n",
    "    return [el['column'] for el in calculate_correlation(df, target_column, correlation_method) if abs(el['correlation']) >= thresh]\n",
    "\n",
    "def parse_time_of_tradingview(df, column_name='time'):\n",
    "    df[column_name] = pd.to_datetime(df[column_name], format='%Y-%m-%dT%H:%M:%S', errors='coerce', utc=True)\n",
    "    df[column_name] = df[column_name].dt.date\n",
    "    df = df.set_index([column_name])\n",
    "    return df"
   ],
   "metadata": {
    "collapsed": false,
    "pycharm": {
     "name": "#%%\n"
    },
    "ExecuteTime": {
     "end_time": "2023-06-04T18:54:39.842836500Z",
     "start_time": "2023-06-04T18:54:39.829313500Z"
    }
   }
  },
  {
   "cell_type": "code",
   "execution_count": 4,
   "outputs": [],
   "source": [
    "\n",
    "\n",
    "class DatasetMaker:\n",
    "\n",
    "    def __init__(self, ticker='BTC-USD'):\n",
    "        self.tick = yf.Ticker(ticker)\n",
    "        self.df = self.tick.history(period=\"max\")\n",
    "        self.df = add_all_ta_features(self.df, open=\"Open\", high=\"High\", low=\"Low\", close=\"Close\", volume=\"Volume\")\n",
    "        self.df.index.name = 'timestamp'\n",
    "        self.df.index = self.df.index.tz_localize(None)\n",
    "\n",
    "    def get_selected_rows(self, rows):\n",
    "        return rows or cols_corelated_01_with_log_rets\n",
    "\n",
    "\n",
    "    def prepare(self, selected_rows):\n",
    "        self.append_rows()\n",
    "        self.remove_nan()\n",
    "        self.drop_columns(selected_rows)\n",
    "\n",
    "        self.df = self.df.dropna(how='any')\n",
    "        return self.df\n",
    "\n",
    "    def save(self, name):\n",
    "        path = './datasets/prepared'\n",
    "        self.df.to_csv(f'{path}/{name}', index_label='timestamp')\n",
    "\n",
    "\n",
    "    def append_rows(self):\n",
    "        self.append_log_returns()\n",
    "        self.append_greed_fear()\n",
    "        #self.append_btc_dominance()\n",
    "\n",
    "\n",
    "    def remove_nan(self):\n",
    "        self.df['fear_greed'].fillna((self.df['fear_greed'].mean()))\n",
    "        self.df['diff_fear_greed'].fillna((self.df['diff_fear_greed'].mean()), inplace=True)\n",
    "        self.df['fear_greed'] = self.df['fear_greed'].fillna((self.df['fear_greed'].mean())) + self.df['log_close']\n",
    "        self.df['diff_fear_greed'] = self.df['diff_fear_greed'].fillna((self.df['diff_fear_greed'].mean())) + self.df['log_returns']\n",
    "\n",
    "\n",
    "    def append_log_returns(self):\n",
    "        self.df['log_close'] = np.log(self.df['Close'])\n",
    "        self.df['log_returns'] = self.df['log_close'].diff()\n",
    "\n",
    "\n",
    "    def append_greed_fear(self):\n",
    "        data = requests.get('https://api.alternative.me/fng/?limit=0')\n",
    "        res = data.json()\n",
    "        fear_greed = pd.DataFrame(res['data'])\n",
    "        fear_greed = fear_greed[['timestamp', 'value']]\n",
    "        fear_greed['timestamp']  = pd.to_datetime(fear_greed['timestamp'],unit='s')\n",
    "        fear_greed = fear_greed.set_index(['timestamp'])\n",
    "        fear_greed['value'] = fear_greed['value'].astype(float)\n",
    "\n",
    "        fear_greed.rename(columns = {'value':'fear_greed'}, inplace = True)\n",
    "        fear_greed['diff_fear_greed'] = fear_greed['fear_greed'].diff()\n",
    "        self.df = pd.merge(self.df, fear_greed, right_index=True, left_index=True, how='left')\n",
    "\n",
    "    def append_btc_dominance(self):\n",
    "        pass\n",
    "\n",
    "    def drop_columns(self, selected_rows):\n",
    "        self.df = self.df[selected_rows]\n",
    "\n",
    "\n",
    "cols_corelated_01_with_log_rets =  [\n",
    "    'log_close',\n",
    "    'Close',\n",
    "\n",
    "\n",
    "    'log_returns',\n",
    "    'diff_fear_greed',\n",
    "    'volatility_kcp',\n",
    "    'volume_em',\n",
    "    'volume_vpt',\n",
    "    'momentum_stoch_rsi',\n",
    "    'volatility_bbp',\n",
    "    'momentum_stoch',\n",
    "    'momentum_wr',\n",
    "    'volatility_dcp',\n",
    "    'momentum_rsi',\n",
    "    'momentum_uo',\n",
    "    'trend_cci',\n",
    "    'volatility_kchi',\n",
    "    'momentum_roc',\n",
    "    'volatility_bbhi',\n",
    "    'volume_fi',\n",
    "    'trend_adx_pos',\n",
    "    'volume_cmf',\n",
    "    'momentum_ppo_hist',\n",
    "    'momentum_stoch_rsi_k',\n",
    "    'trend_vortex_ind_pos',\n",
    "    'volume_mfi',\n",
    "    'momentum_stoch_signal',\n",
    "    'trend_vortex_ind_diff',\n",
    "    'trend_psar_up_indicator',\n",
    "    'trend_macd_diff',\n",
    "    'trend_stc',\n",
    "    'volume_sma_em',\n",
    "    'trend_aroon_ind',\n",
    "    'momentum_tsi',\n",
    "    'trend_aroon_down',\n",
    "    'trend_vortex_ind_neg',\n",
    "    'trend_psar_down_indicator',\n",
    "    'trend_adx_neg',\n",
    "    'volatility_bbli',\n",
    "    #'volatility_kcli'\n",
    "]\n"
   ],
   "metadata": {
    "collapsed": false,
    "pycharm": {
     "name": "#%%\n"
    },
    "ExecuteTime": {
     "end_time": "2023-06-04T18:54:46.120689800Z",
     "start_time": "2023-06-04T18:54:46.108160500Z"
    }
   }
  },
  {
   "cell_type": "code",
   "execution_count": null,
   "outputs": [],
   "source": [
    "\n",
    "dm = DatasetMaker('ADA-USD')\n",
    "dm.prepare(cols_corelated_01_with_log_rets)"
   ],
   "metadata": {
    "collapsed": false,
    "pycharm": {
     "name": "#%%\n"
    }
   }
  },
  {
   "cell_type": "code",
   "execution_count": null,
   "outputs": [],
   "source": [
    "dm.save('ada/ta_corr_01_fd.csv')"
   ],
   "metadata": {
    "collapsed": false,
    "pycharm": {
     "name": "#%%\n"
    }
   }
  },
  {
   "cell_type": "code",
   "execution_count": null,
   "outputs": [],
   "source": [
    "df = dm.df\n",
    "df"
   ],
   "metadata": {
    "collapsed": false,
    "pycharm": {
     "name": "#%%\n"
    }
   }
  },
  {
   "cell_type": "code",
   "execution_count": null,
   "outputs": [],
   "source": [
    "df['log_returns'].cumsum()\n"
   ],
   "metadata": {
    "collapsed": false,
    "pycharm": {
     "name": "#%%\n"
    }
   }
  },
  {
   "cell_type": "code",
   "execution_count": null,
   "outputs": [],
   "source": [
    "def get_scaled_dataframe(df, exclude_cols, target_col, ntest=21):\n",
    "    df = df.drop(exclude_cols, axis=1)\n",
    "    train = df.iloc[:-ntest]\n",
    "    test = df.iloc[-ntest:]\n",
    "\n",
    "    scaler = StandardScaler()\n",
    "    train_scaled = scaler.fit_transform(train)\n",
    "    test_scaled = scaler.transform(test)\n",
    "\n",
    "    y = train[target_col].to_numpy()\n",
    "    scaler.fit_transform(y.reshape(-1, 1))\n",
    "    scaled_df = pd.DataFrame(np.concatenate((train_scaled, test_scaled)), columns=df.columns, index=df.index)\n",
    "    return scaled_df, scaler\n",
    "\n",
    "get_scaled_dataframe(df, [], 'log_returns')\n"
   ],
   "metadata": {
    "collapsed": false,
    "pycharm": {
     "name": "#%%\n"
    }
   }
  },
  {
   "cell_type": "code",
   "execution_count": null,
   "outputs": [],
   "source": [
    "exclude_cols = []\n",
    "target_col = 'log_returns'\n",
    "ntest=21"
   ],
   "metadata": {
    "collapsed": false,
    "pycharm": {
     "name": "#%%\n"
    }
   }
  },
  {
   "cell_type": "code",
   "execution_count": null,
   "outputs": [],
   "source": [
    "train = df.iloc[:-ntest]\n",
    "test = df.iloc[-ntest:]"
   ],
   "metadata": {
    "collapsed": false,
    "pycharm": {
     "name": "#%%\n"
    }
   }
  },
  {
   "cell_type": "code",
   "execution_count": null,
   "outputs": [],
   "source": [
    "scaler_orig = StandardScaler()\n",
    "train_scaled = scaler_orig.fit_transform(train)\n",
    "test_scaled = scaler_orig.transform(test)"
   ],
   "metadata": {
    "collapsed": false,
    "pycharm": {
     "name": "#%%\n"
    }
   }
  },
  {
   "cell_type": "code",
   "execution_count": null,
   "outputs": [],
   "source": [
    "from models.transformer.my_functrions import make_dataset\n",
    "\n",
    "Xtrain, Ytrain, Xtest, Ytest, XVal, YVal, scaler = make_dataset(df, target_col='log_returns', exclude_cols=[], timestep=10, ntest=ntest, horizon=21)"
   ],
   "metadata": {
    "collapsed": false,
    "pycharm": {
     "name": "#%%\n"
    }
   }
  },
  {
   "cell_type": "code",
   "execution_count": null,
   "outputs": [],
   "source": [
    "Ytest"
   ],
   "metadata": {
    "collapsed": false,
    "pycharm": {
     "name": "#%%\n"
    }
   }
  },
  {
   "cell_type": "code",
   "execution_count": null,
   "outputs": [],
   "source": [
    "Ytest.T[0]"
   ],
   "metadata": {
    "collapsed": false,
    "pycharm": {
     "name": "#%%\n"
    }
   }
  },
  {
   "cell_type": "code",
   "execution_count": null,
   "outputs": [],
   "source": [
    "kek  = scaler.inverse_transform(Ytest.T[-1].reshape(-1, 1))"
   ],
   "metadata": {
    "collapsed": false,
    "pycharm": {
     "name": "#%%\n"
    }
   }
  },
  {
   "cell_type": "code",
   "execution_count": null,
   "outputs": [],
   "source": [
    "kek.cumsum()"
   ],
   "metadata": {
    "collapsed": false,
    "pycharm": {
     "name": "#%%\n"
    }
   }
  },
  {
   "cell_type": "code",
   "execution_count": null,
   "outputs": [],
   "source": [
    "np.random.seed(0)\n",
    "\n",
    "s = pd.Series(np.random.random(10))\n",
    "\n",
    "print(s.values)\n",
    "\n",
    "# [ 0.5488135   0.71518937  0.60276338  0.54488318  0.4236548   0.64589411\n",
    "#   0.43758721  0.891773    0.96366276  0.38344152]\n",
    "\n",
    "# t = np.log(s).diff()\n",
    "# t.iat[0] = np.log(s.iat[0])\n",
    "# res = np.exp(t.cumsum())\n",
    "#\n",
    "# print(res.values)\n",
    "\n",
    "# [ 0.5488135   0.71518937  0.60276338  0.54488318  0.4236548   0.64589411\n",
    "#   0.43758721  0.891773    0.96366276  0.38344152]"
   ],
   "metadata": {
    "collapsed": false,
    "pycharm": {
     "name": "#%%\n"
    }
   }
  },
  {
   "cell_type": "code",
   "execution_count": null,
   "outputs": [],
   "source": [
    "t = np.log(s).diff()"
   ],
   "metadata": {
    "collapsed": false,
    "pycharm": {
     "name": "#%%\n"
    }
   }
  },
  {
   "cell_type": "code",
   "execution_count": null,
   "outputs": [],
   "source": [
    "t"
   ],
   "metadata": {
    "collapsed": false,
    "pycharm": {
     "name": "#%%\n"
    }
   }
  },
  {
   "cell_type": "code",
   "execution_count": null,
   "outputs": [],
   "source": [
    "t.iat[0] = np.log(s.iat[0])\n",
    "t"
   ],
   "metadata": {
    "collapsed": false,
    "pycharm": {
     "name": "#%%\n"
    }
   }
  },
  {
   "cell_type": "code",
   "execution_count": null,
   "outputs": [],
   "source": [],
   "metadata": {
    "collapsed": false,
    "pycharm": {
     "name": "#%%\n"
    }
   }
  },
  {
   "cell_type": "code",
   "execution_count": null,
   "outputs": [],
   "source": [
    "def get_scaled_dataframe(df, exclude_cols, target_col, ntest=21):\n",
    "    df = df.drop(exclude_cols, axis=1)\n",
    "    train = df.iloc[:-ntest]\n",
    "    test = df.iloc[-ntest:]\n",
    "\n",
    "    scaler = StandardScaler()\n",
    "    train_scaled = scaler.fit_transform(train)\n",
    "    test_scaled = scaler.transform(test)\n",
    "\n",
    "    y = train[target_col].to_numpy()\n",
    "    scaler.fit_transform(y.reshape(-1, 1))\n",
    "    scaled_df = pd.DataFrame(np.concatenate((train_scaled, test_scaled)), columns=df.columns, index=df.index)\n",
    "    return scaled_df, scaler\n",
    "\n",
    "get_scaled_dataframe(df, [], 'log_returns')\n"
   ],
   "metadata": {
    "collapsed": false,
    "is_executing": true,
    "ExecuteTime": {
     "start_time": "2023-06-02T09:41:46.229508800Z"
    },
    "pycharm": {
     "name": "#%%\n"
    }
   }
  },
  {
   "cell_type": "code",
   "execution_count": 29,
   "outputs": [],
   "source": [
    "exclude_cols = []\n",
    "target_col = 'log_returns'\n",
    "ntest=21"
   ],
   "metadata": {
    "collapsed": false,
    "ExecuteTime": {
     "end_time": "2023-06-02T10:39:17.001820300Z",
     "start_time": "2023-06-02T10:39:16.963745900Z"
    }
   }
  },
  {
   "cell_type": "code",
   "execution_count": 30,
   "outputs": [],
   "source": [
    "train = df.iloc[:-ntest]\n",
    "test = df.iloc[-ntest:]"
   ],
   "metadata": {
    "collapsed": false,
    "ExecuteTime": {
     "end_time": "2023-06-02T10:39:17.363602100Z",
     "start_time": "2023-06-02T10:39:17.334979800Z"
    }
   }
  },
  {
   "cell_type": "code",
   "execution_count": 31,
   "outputs": [],
   "source": [
    "scaler_orig = StandardScaler()\n",
    "train_scaled = scaler_orig.fit_transform(train)\n",
    "test_scaled = scaler_orig.transform(test)"
   ],
   "metadata": {
    "collapsed": false,
    "ExecuteTime": {
     "end_time": "2023-06-02T10:39:18.911170700Z",
     "start_time": "2023-06-02T10:39:18.886689200Z"
    }
   }
  },
  {
   "cell_type": "code",
   "execution_count": 39,
   "outputs": [
    {
     "name": "stdout",
     "output_type": "stream",
     "text": [
      "X.shape (3080, 10, 38) Y.shape (3080, 21)\n"
     ]
    }
   ],
   "source": [
    "from models.transformer.my_functrions import make_dataset\n",
    "\n",
    "Xtrain, Ytrain, Xtest, Ytest, XVal, YVal, scaler = make_dataset(df, target_col='log_returns', exclude_cols=[], timestep=10, ntest=ntest, horizon=21)"
   ],
   "metadata": {
    "collapsed": false,
    "ExecuteTime": {
     "end_time": "2023-06-02T11:24:30.706753400Z",
     "start_time": "2023-06-02T11:24:30.584699600Z"
    }
   }
  },
  {
   "cell_type": "code",
   "execution_count": 40,
   "outputs": [
    {
     "data": {
      "text/plain": "array([[-0.24977587, -0.0989844 ,  0.69665939,  0.06983557,  0.91348648,\n        -0.1550632 , -0.11824151, -0.01813808, -1.11005927,  0.50640595,\n         0.25911439, -0.17970416,  0.57899408, -0.6000471 , -0.44637812,\n        -0.7450495 , -0.06984866, -0.07133242, -0.6310154 , -0.22666163,\n        -0.05671485],\n       [-0.0989844 ,  0.69665939,  0.06983557,  0.91348648, -0.1550632 ,\n        -0.11824151, -0.01813808, -1.11005927,  0.50640595,  0.25911439,\n        -0.17970416,  0.57899408, -0.6000471 , -0.44637812, -0.7450495 ,\n        -0.06984866, -0.07133242, -0.6310154 , -0.22666163, -0.05671485,\n         0.10642935],\n       [ 0.69665939,  0.06983557,  0.91348648, -0.1550632 , -0.11824151,\n        -0.01813808, -1.11005927,  0.50640595,  0.25911439, -0.17970416,\n         0.57899408, -0.6000471 , -0.44637812, -0.7450495 , -0.06984866,\n        -0.07133242, -0.6310154 , -0.22666163, -0.05671485,  0.10642935,\n         0.21698017],\n       [ 0.06983557,  0.91348648, -0.1550632 , -0.11824151, -0.01813808,\n        -1.11005927,  0.50640595,  0.25911439, -0.17970416,  0.57899408,\n        -0.6000471 , -0.44637812, -0.7450495 , -0.06984866, -0.07133242,\n        -0.6310154 , -0.22666163, -0.05671485,  0.10642935,  0.21698017,\n        -0.18682488],\n       [ 0.91348648, -0.1550632 , -0.11824151, -0.01813808, -1.11005927,\n         0.50640595,  0.25911439, -0.17970416,  0.57899408, -0.6000471 ,\n        -0.44637812, -0.7450495 , -0.06984866, -0.07133242, -0.6310154 ,\n        -0.22666163, -0.05671485,  0.10642935,  0.21698017, -0.18682488,\n         0.3117222 ],\n       [-0.1550632 , -0.11824151, -0.01813808, -1.11005927,  0.50640595,\n         0.25911439, -0.17970416,  0.57899408, -0.6000471 , -0.44637812,\n        -0.7450495 , -0.06984866, -0.07133242, -0.6310154 , -0.22666163,\n        -0.05671485,  0.10642935,  0.21698017, -0.18682488,  0.3117222 ,\n        -0.58285516],\n       [-0.11824151, -0.01813808, -1.11005927,  0.50640595,  0.25911439,\n        -0.17970416,  0.57899408, -0.6000471 , -0.44637812, -0.7450495 ,\n        -0.06984866, -0.07133242, -0.6310154 , -0.22666163, -0.05671485,\n         0.10642935,  0.21698017, -0.18682488,  0.3117222 , -0.58285516,\n         0.02009683],\n       [-0.01813808, -1.11005927,  0.50640595,  0.25911439, -0.17970416,\n         0.57899408, -0.6000471 , -0.44637812, -0.7450495 , -0.06984866,\n        -0.07133242, -0.6310154 , -0.22666163, -0.05671485,  0.10642935,\n         0.21698017, -0.18682488,  0.3117222 , -0.58285516,  0.02009683,\n         0.19558268],\n       [-1.11005927,  0.50640595,  0.25911439, -0.17970416,  0.57899408,\n        -0.6000471 , -0.44637812, -0.7450495 , -0.06984866, -0.07133242,\n        -0.6310154 , -0.22666163, -0.05671485,  0.10642935,  0.21698017,\n        -0.18682488,  0.3117222 , -0.58285516,  0.02009683,  0.19558268,\n        -0.40110177],\n       [ 0.50640595,  0.25911439, -0.17970416,  0.57899408, -0.6000471 ,\n        -0.44637812, -0.7450495 , -0.06984866, -0.07133242, -0.6310154 ,\n        -0.22666163, -0.05671485,  0.10642935,  0.21698017, -0.18682488,\n         0.3117222 , -0.58285516,  0.02009683,  0.19558268, -0.40110177,\n         0.05879716],\n       [ 0.25911439, -0.17970416,  0.57899408, -0.6000471 , -0.44637812,\n        -0.7450495 , -0.06984866, -0.07133242, -0.6310154 , -0.22666163,\n        -0.05671485,  0.10642935,  0.21698017, -0.18682488,  0.3117222 ,\n        -0.58285516,  0.02009683,  0.19558268, -0.40110177,  0.05879716,\n         0.32592499],\n       [-0.17970416,  0.57899408, -0.6000471 , -0.44637812, -0.7450495 ,\n        -0.06984866, -0.07133242, -0.6310154 , -0.22666163, -0.05671485,\n         0.10642935,  0.21698017, -0.18682488,  0.3117222 , -0.58285516,\n         0.02009683,  0.19558268, -0.40110177,  0.05879716,  0.32592499,\n        -0.90650528],\n       [ 0.57899408, -0.6000471 , -0.44637812, -0.7450495 , -0.06984866,\n        -0.07133242, -0.6310154 , -0.22666163, -0.05671485,  0.10642935,\n         0.21698017, -0.18682488,  0.3117222 , -0.58285516,  0.02009683,\n         0.19558268, -0.40110177,  0.05879716,  0.32592499, -0.90650528,\n         0.1037488 ],\n       [-0.6000471 , -0.44637812, -0.7450495 , -0.06984866, -0.07133242,\n        -0.6310154 , -0.22666163, -0.05671485,  0.10642935,  0.21698017,\n        -0.18682488,  0.3117222 , -0.58285516,  0.02009683,  0.19558268,\n        -0.40110177,  0.05879716,  0.32592499, -0.90650528,  0.1037488 ,\n         0.20274228],\n       [-0.44637812, -0.7450495 , -0.06984866, -0.07133242, -0.6310154 ,\n        -0.22666163, -0.05671485,  0.10642935,  0.21698017, -0.18682488,\n         0.3117222 , -0.58285516,  0.02009683,  0.19558268, -0.40110177,\n         0.05879716,  0.32592499, -0.90650528,  0.1037488 ,  0.20274228,\n         0.10921017],\n       [-0.7450495 , -0.06984866, -0.07133242, -0.6310154 , -0.22666163,\n        -0.05671485,  0.10642935,  0.21698017, -0.18682488,  0.3117222 ,\n        -0.58285516,  0.02009683,  0.19558268, -0.40110177,  0.05879716,\n         0.32592499, -0.90650528,  0.1037488 ,  0.20274228,  0.10921017,\n         1.12263542],\n       [-0.06984866, -0.07133242, -0.6310154 , -0.22666163, -0.05671485,\n         0.10642935,  0.21698017, -0.18682488,  0.3117222 , -0.58285516,\n         0.02009683,  0.19558268, -0.40110177,  0.05879716,  0.32592499,\n        -0.90650528,  0.1037488 ,  0.20274228,  0.10921017,  1.12263542,\n        -0.35464295],\n       [-0.07133242, -0.6310154 , -0.22666163, -0.05671485,  0.10642935,\n         0.21698017, -0.18682488,  0.3117222 , -0.58285516,  0.02009683,\n         0.19558268, -0.40110177,  0.05879716,  0.32592499, -0.90650528,\n         0.1037488 ,  0.20274228,  0.10921017,  1.12263542, -0.35464295,\n        -0.07737344],\n       [-0.6310154 , -0.22666163, -0.05671485,  0.10642935,  0.21698017,\n        -0.18682488,  0.3117222 , -0.58285516,  0.02009683,  0.19558268,\n        -0.40110177,  0.05879716,  0.32592499, -0.90650528,  0.1037488 ,\n         0.20274228,  0.10921017,  1.12263542, -0.35464295, -0.07737344,\n        -0.49605736],\n       [-0.22666163, -0.05671485,  0.10642935,  0.21698017, -0.18682488,\n         0.3117222 , -0.58285516,  0.02009683,  0.19558268, -0.40110177,\n         0.05879716,  0.32592499, -0.90650528,  0.1037488 ,  0.20274228,\n         0.10921017,  1.12263542, -0.35464295, -0.07737344, -0.49605736,\n        -0.42320879],\n       [-0.05671485,  0.10642935,  0.21698017, -0.18682488,  0.3117222 ,\n        -0.58285516,  0.02009683,  0.19558268, -0.40110177,  0.05879716,\n         0.32592499, -0.90650528,  0.1037488 ,  0.20274228,  0.10921017,\n         1.12263542, -0.35464295, -0.07737344, -0.49605736, -0.42320879,\n         0.22185479]])"
     },
     "execution_count": 40,
     "metadata": {},
     "output_type": "execute_result"
    }
   ],
   "source": [
    "Ytest"
   ],
   "metadata": {
    "collapsed": false,
    "ExecuteTime": {
     "end_time": "2023-06-02T11:24:39.503139600Z",
     "start_time": "2023-06-02T11:24:39.448004600Z"
    }
   }
  },
  {
   "cell_type": "code",
   "execution_count": 47,
   "outputs": [
    {
     "data": {
      "text/plain": "array([-0.24977587, -0.0989844 ,  0.69665939,  0.06983557,  0.91348648,\n       -0.1550632 , -0.11824151, -0.01813808, -1.11005927,  0.50640595,\n        0.25911439, -0.17970416,  0.57899408, -0.6000471 , -0.44637812,\n       -0.7450495 , -0.06984866, -0.07133242, -0.6310154 , -0.22666163,\n       -0.05671485])"
     },
     "execution_count": 47,
     "metadata": {},
     "output_type": "execute_result"
    }
   ],
   "source": [
    "Ytest.T[0]"
   ],
   "metadata": {
    "collapsed": false,
    "ExecuteTime": {
     "end_time": "2023-06-02T11:27:54.969529800Z",
     "start_time": "2023-06-02T11:27:54.946976100Z"
    }
   }
  },
  {
   "cell_type": "code",
   "execution_count": 50,
   "outputs": [],
   "source": [
    "kek  = scaler.inverse_transform(Ytest.T[-1].reshape(-1, 1))"
   ],
   "metadata": {
    "collapsed": false,
    "ExecuteTime": {
     "end_time": "2023-06-02T11:42:11.057067400Z",
     "start_time": "2023-06-02T11:42:11.040022300Z"
    }
   }
  },
  {
   "cell_type": "code",
   "execution_count": 51,
   "outputs": [
    {
     "data": {
      "text/plain": "array([-0.00078046,  0.00467655,  0.01436024,  0.00860529,  0.02191124,\n        0.00101492,  0.00317119,  0.01203679, -0.00191058,  0.00172532,\n        0.01557428, -0.01769612, -0.01234159, -0.00320226,  0.00236107,\n        0.04667057,  0.03449946,  0.03292916,  0.01535137,  0.00055879,\n        0.01042884])"
     },
     "execution_count": 51,
     "metadata": {},
     "output_type": "execute_result"
    }
   ],
   "source": [
    "kek.cumsum()"
   ],
   "metadata": {
    "collapsed": false,
    "ExecuteTime": {
     "end_time": "2023-06-02T11:42:16.439123400Z",
     "start_time": "2023-06-02T11:42:16.377498600Z"
    }
   }
  },
  {
   "cell_type": "code",
   "execution_count": 67,
   "outputs": [
    {
     "name": "stdout",
     "output_type": "stream",
     "text": [
      "[0.5488135  0.71518937 0.60276338 0.54488318 0.4236548  0.64589411\n",
      " 0.43758721 0.891773   0.96366276 0.38344152]\n"
     ]
    }
   ],
   "source": [
    "np.random.seed(0)\n",
    "\n",
    "s = pd.Series(np.random.random(10))\n",
    "\n",
    "print(s.values)\n",
    "\n",
    "# [ 0.5488135   0.71518937  0.60276338  0.54488318  0.4236548   0.64589411\n",
    "#   0.43758721  0.891773    0.96366276  0.38344152]\n",
    "\n",
    "# t = np.log(s).diff()\n",
    "# t.iat[0] = np.log(s.iat[0])\n",
    "# res = np.exp(t.cumsum())\n",
    "#\n",
    "# print(res.values)\n",
    "\n",
    "# [ 0.5488135   0.71518937  0.60276338  0.54488318  0.4236548   0.64589411\n",
    "#   0.43758721  0.891773    0.96366276  0.38344152]"
   ],
   "metadata": {
    "collapsed": false,
    "ExecuteTime": {
     "end_time": "2023-06-02T12:09:52.587581Z",
     "start_time": "2023-06-02T12:09:52.540454Z"
    }
   }
  },
  {
   "cell_type": "code",
   "execution_count": 68,
   "outputs": [],
   "source": [
    "t = np.log(s).diff()"
   ],
   "metadata": {
    "collapsed": false,
    "ExecuteTime": {
     "end_time": "2023-06-02T12:09:57.340637300Z",
     "start_time": "2023-06-02T12:09:57.317566600Z"
    }
   }
  },
  {
   "cell_type": "code",
   "execution_count": 69,
   "outputs": [
    {
     "data": {
      "text/plain": "0         NaN\n1    0.264789\n2   -0.171023\n3   -0.100953\n4   -0.251652\n5    0.421717\n6   -0.389360\n7    0.711936\n8    0.077530\n9   -0.921554\ndtype: float64"
     },
     "execution_count": 69,
     "metadata": {},
     "output_type": "execute_result"
    }
   ],
   "source": [
    "t"
   ],
   "metadata": {
    "collapsed": false,
    "ExecuteTime": {
     "end_time": "2023-06-02T12:09:58.857676300Z",
     "start_time": "2023-06-02T12:09:58.835619700Z"
    }
   }
  },
  {
   "cell_type": "code",
   "execution_count": 72,
   "outputs": [
    {
     "data": {
      "text/plain": "0   -0.599997\n1    0.264789\n2   -0.171023\n3   -0.100953\n4   -0.251652\n5    0.421717\n6   -0.389360\n7    0.711936\n8    0.077530\n9   -0.921554\ndtype: float64"
     },
     "execution_count": 72,
     "metadata": {},
     "output_type": "execute_result"
    }
   ],
   "source": [
    "t.iat[0] = np.log(s.iat[0])\n",
    "t"
   ],
   "metadata": {
    "collapsed": false,
    "ExecuteTime": {
     "end_time": "2023-06-02T12:10:14.707073700Z",
     "start_time": "2023-06-02T12:10:14.645423400Z"
    }
   }
  },
  {
   "cell_type": "code",
   "execution_count": null,
   "outputs": [],
   "source": [],
   "metadata": {
    "collapsed": false
   }
  }
 ],
 "metadata": {
  "kernelspec": {
   "display_name": "Python 3",
   "language": "python",
   "name": "python3"
  },
  "language_info": {
   "codemirror_mode": {
    "name": "ipython",
    "version": 2
   },
   "file_extension": ".py",
   "mimetype": "text/x-python",
   "name": "python",
   "nbconvert_exporter": "python",
   "pygments_lexer": "ipython2",
   "version": "2.7.6"
  }
 },
 "nbformat": 4,
 "nbformat_minor": 0
}