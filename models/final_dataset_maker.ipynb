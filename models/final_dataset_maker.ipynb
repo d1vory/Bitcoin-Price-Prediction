{
 "cells": [
  {
   "cell_type": "code",
   "execution_count": 1,
   "metadata": {
    "collapsed": true,
    "pycharm": {
     "name": "#%%\n",
     "is_executing": true
    },
    "ExecuteTime": {
     "end_time": "2023-06-06T11:40:23.784398400Z",
     "start_time": "2023-06-06T11:40:21.861687300Z"
    }
   },
   "outputs": [],
   "source": [
    "\n",
    "import yfinance as yf, pandas as pd\n",
    "from ta import add_all_ta_features\n",
    "import pandas as pd\n",
    "import numpy as np\n",
    "from pandas import DataFrame\n",
    "from sklearn.preprocessing import StandardScaler\n",
    "from sklearn.model_selection import train_test_split\n",
    "from ta.utils import dropna\n",
    "import requests\n"
   ]
  },
  {
   "cell_type": "code",
   "execution_count": 1,
   "outputs": [],
   "source": [],
   "metadata": {
    "collapsed": false,
    "pycharm": {
     "name": "#%%\n"
    },
    "ExecuteTime": {
     "end_time": "2023-06-06T11:40:23.803438500Z",
     "start_time": "2023-06-06T11:40:23.786405400Z"
    }
   }
  },
  {
   "cell_type": "code",
   "execution_count": 12,
   "outputs": [],
   "source": [
    "def calculate_correlation(df, target_column, correlation_method='pearson'):\n",
    "    res = []\n",
    "    for column in df.columns:\n",
    "        try:\n",
    "            correlation  = df[target_column].corr(df[column], method=correlation_method)\n",
    "        except:\n",
    "            print(column)\n",
    "            raise\n",
    "        #print(f'Correlation between {target_column} and {column} = {correlation}, method={correlation_method}')\n",
    "        res.append(\n",
    "            {\n",
    "                #'target_column': target_column,\n",
    "                'column': column,\n",
    "                'correlation': correlation\n",
    "            }\n",
    "        )\n",
    "    sorted_corr = sorted(res, key=lambda d: d['correlation'], reverse=True )\n",
    "    return sorted_corr\n",
    "\n",
    "def get_cols_with_correlation_gte(df, target_column, correlation_method='pearson', thresh=0.1):\n",
    "    return [el['column'] for el in calculate_correlation(df, target_column, correlation_method) if abs(el['correlation']) >= thresh]\n",
    "\n",
    "def print_correlation(df, target_column, correlation_method='pearson', thresh=0.1):\n",
    "    for el in calculate_correlation(df, target_column, correlation_method):\n",
    "        print(el['column'], el['correlation'] )\n",
    "\n",
    "def parse_time_of_tradingview(df, column_name='time'):\n",
    "    df[column_name] = pd.to_datetime(df[column_name], format='%Y-%m-%dT%H:%M:%S', errors='coerce', utc=True)\n",
    "    df[column_name] = df[column_name].dt.date\n",
    "    df = df.set_index([column_name])\n",
    "    return df"
   ],
   "metadata": {
    "collapsed": false,
    "pycharm": {
     "name": "#%%\n"
    },
    "ExecuteTime": {
     "end_time": "2023-06-06T22:13:43.586318Z",
     "start_time": "2023-06-06T22:13:43.566694400Z"
    }
   }
  },
  {
   "cell_type": "code",
   "execution_count": 3,
   "outputs": [],
   "source": [
    "\n",
    "\n",
    "class DatasetMaker:\n",
    "\n",
    "    def __init__(self, ticker='BTC-USD'):\n",
    "        self.tick = yf.Ticker(ticker)\n",
    "        self.df = self.tick.history(period=\"max\")\n",
    "        self.df = add_all_ta_features(self.df, open=\"Open\", high=\"High\", low=\"Low\", close=\"Close\", volume=\"Volume\")\n",
    "        self.df.index.name = 'timestamp'\n",
    "        self.df.index = self.df.index.tz_localize(None)\n",
    "\n",
    "    def get_selected_rows(self, rows):\n",
    "        return rows or cols_corelated_01_with_log_rets\n",
    "\n",
    "\n",
    "    def prepare(self, selected_rows):\n",
    "        self.append_rows()\n",
    "        self.remove_nan()\n",
    "        self.drop_columns(selected_rows)\n",
    "\n",
    "        self.df = self.df.dropna(how='any')\n",
    "        return self.df\n",
    "\n",
    "    def save(self, name):\n",
    "        path = './datasets/prepared'\n",
    "        self.df.to_csv(f'{path}/{name}', index_label='timestamp')\n",
    "\n",
    "\n",
    "    def append_rows(self):\n",
    "        self.append_log_returns()\n",
    "        self.append_greed_fear()\n",
    "        #self.append_btc_dominance()\n",
    "\n",
    "\n",
    "    def remove_nan(self):\n",
    "        self.df['fear_greed'].fillna((self.df['fear_greed'].mean()))\n",
    "        self.df['diff_fear_greed'].fillna((self.df['diff_fear_greed'].mean()), inplace=True)\n",
    "        self.df['fear_greed'] = self.df['fear_greed'].fillna((self.df['fear_greed'].mean())) + self.df['log_close']\n",
    "        self.df['diff_fear_greed'] = self.df['diff_fear_greed'].fillna((self.df['diff_fear_greed'].mean())) + self.df['log_returns']\n",
    "\n",
    "\n",
    "    def append_log_returns(self):\n",
    "        self.df['log_close'] = np.log(self.df['Close'])\n",
    "        self.df['log_returns'] = self.df['log_close'].diff()\n",
    "\n",
    "\n",
    "    def append_greed_fear(self):\n",
    "        data = requests.get('https://api.alternative.me/fng/?limit=0')\n",
    "        res = data.json()\n",
    "        fear_greed = pd.DataFrame(res['data'])\n",
    "        fear_greed = fear_greed[['timestamp', 'value']]\n",
    "        fear_greed['timestamp']  = pd.to_datetime(fear_greed['timestamp'],unit='s')\n",
    "        fear_greed = fear_greed.set_index(['timestamp'])\n",
    "        fear_greed['value'] = fear_greed['value'].astype(float)\n",
    "\n",
    "        fear_greed.rename(columns = {'value':'fear_greed'}, inplace = True)\n",
    "        fear_greed['diff_fear_greed'] = fear_greed['fear_greed'].diff()\n",
    "        self.df = pd.merge(self.df, fear_greed, right_index=True, left_index=True, how='left')\n",
    "\n",
    "    def append_btc_dominance(self):\n",
    "        pass\n",
    "\n",
    "    def drop_columns(self, selected_rows):\n",
    "        self.df = self.df[selected_rows]\n",
    "\n",
    "\n",
    "cols_corelated_01_with_log_rets =  [\n",
    "    'log_close',\n",
    "    'Close',\n",
    "\n",
    "\n",
    "    'log_returns',\n",
    "    'diff_fear_greed',\n",
    "    'volatility_kcp',\n",
    "    'volume_em',\n",
    "    'volume_vpt',\n",
    "    'momentum_stoch_rsi',\n",
    "    'volatility_bbp',\n",
    "    'momentum_stoch',\n",
    "    'momentum_wr',\n",
    "    'volatility_dcp',\n",
    "    'momentum_rsi',\n",
    "    'momentum_uo',\n",
    "    'trend_cci',\n",
    "    'volatility_kchi',\n",
    "    'momentum_roc',\n",
    "    'volatility_bbhi',\n",
    "    'volume_fi',\n",
    "    'trend_adx_pos',\n",
    "    'volume_cmf',\n",
    "    'momentum_ppo_hist',\n",
    "    'momentum_stoch_rsi_k',\n",
    "    'trend_vortex_ind_pos',\n",
    "    'volume_mfi',\n",
    "    'momentum_stoch_signal',\n",
    "    'trend_vortex_ind_diff',\n",
    "    'trend_psar_up_indicator',\n",
    "    'trend_macd_diff',\n",
    "    'trend_stc',\n",
    "    'volume_sma_em',\n",
    "    'trend_aroon_ind',\n",
    "    'momentum_tsi',\n",
    "    'trend_aroon_down',\n",
    "    'trend_vortex_ind_neg',\n",
    "    'trend_psar_down_indicator',\n",
    "    'trend_adx_neg',\n",
    "    'volatility_bbli',\n",
    "    #'volatility_kcli'\n",
    "]\n"
   ],
   "metadata": {
    "collapsed": false,
    "pycharm": {
     "name": "#%%\n"
    },
    "ExecuteTime": {
     "end_time": "2023-06-06T11:40:23.843539600Z",
     "start_time": "2023-06-06T11:40:23.826505100Z"
    }
   }
  },
  {
   "cell_type": "code",
   "execution_count": 4,
   "outputs": [
    {
     "name": "stderr",
     "output_type": "stream",
     "text": [
      "C:\\Users\\Olexandr\\miniconda3\\envs\\diploma\\lib\\site-packages\\ta\\trend.py:780: RuntimeWarning: invalid value encountered in scalar divide\n",
      "  dip[idx] = 100 * (self._dip[idx] / value)\n",
      "C:\\Users\\Olexandr\\miniconda3\\envs\\diploma\\lib\\site-packages\\ta\\trend.py:785: RuntimeWarning: invalid value encountered in scalar divide\n",
      "  din[idx] = 100 * (self._din[idx] / value)\n"
     ]
    },
    {
     "data": {
      "text/plain": "            log_close        Close  log_returns  diff_fear_greed  \\\ntimestamp                                                          \n2018-01-19   7.478520  1769.619995     0.007299         0.000112   \n2018-01-20   7.616835  2032.119995     0.138315         0.131128   \n2018-01-21   7.482479  1776.640015    -0.134356        -0.141542   \n2018-01-22   7.391366  1621.920044    -0.091113        -0.098300   \n2018-01-23   7.391082  1621.459961    -0.000284        -0.007471   \n...               ...          ...          ...              ...   \n2023-06-02   4.743436   114.828041     0.012813        -2.987187   \n2023-06-03   4.744270   114.923843     0.000834         1.000834   \n2023-06-04   4.751249   115.728775     0.006980        -0.993020   \n2023-06-05   4.689479   108.796463    -0.061770         8.938230   \n2023-06-06   4.693225   109.204834     0.003747        -0.003440   \n\n            volatility_kcp    volume_em    volume_vpt  momentum_stoch_rsi  \\\ntimestamp                                                                   \n2018-01-19       -0.149539    48.723667  1.054174e+07            0.025920   \n2018-01-20        0.264113  4780.600857  1.710247e+08            0.341293   \n2018-01-21       -0.022618 -2759.282776  7.189503e+07            0.116843   \n2018-01-22       -0.108161 -9079.705329 -1.530204e+08            0.000000   \n2018-01-23        0.043653 -2295.137133 -5.950009e+07            0.000000   \n...                    ...          ...           ...                 ...   \n2023-06-02        0.742420     4.117265  9.949467e+05            0.756958   \n2023-06-03        0.765119     1.133908  9.823917e+05            0.781152   \n2023-06-04        0.856593     2.923252  5.238000e+05            0.990139   \n2023-06-05       -0.550603   -31.213940 -5.479560e+06            0.000000   \n2023-06-06       -0.402684    -2.132559 -5.524939e+06            0.077631   \n\n            volatility_bbp  momentum_stoch  ...  trend_macd_diff  trend_stc  \\\ntimestamp                                   ...                               \n2018-01-19        0.043720       23.892781  ...      -129.162791   0.292969   \n2018-01-20        0.252157       39.242402  ...      -104.588403   0.146484   \n2018-01-21        0.123595       25.727497  ...       -99.690545   0.073242   \n2018-01-22        0.083283       16.150101  ...      -100.724826   0.036621   \n2018-01-23        0.130643       16.121621  ...       -95.348959   0.018311   \n...                    ...             ...  ...              ...        ...   \n2023-06-02        0.492242       65.505909  ...         0.232543  96.415747   \n2023-06-03        0.511224       66.918642  ...         0.285041  98.207874   \n2023-06-04        0.648563       78.788428  ...         0.365772  99.103937   \n2023-06-05       -0.226773       11.344383  ...        -0.034639  88.918142   \n2023-06-06       -0.077951       15.745014  ...        -0.247087  44.459071   \n\n            volume_sma_em  trend_aroon_ind  momentum_tsi  trend_aroon_down  \\\ntimestamp                                                                    \n2018-01-19   -2666.250373            -88.0     -7.278785              92.0   \n2018-01-20   -2542.512534            -28.0     -7.653928              88.0   \n2018-01-21   -3152.814761            -28.0     -9.120186              84.0   \n2018-01-22   -2843.381129            -48.0    -11.008334             100.0   \n2018-01-23   -2886.041028            -52.0    -12.554688             100.0   \n...                   ...              ...           ...               ...   \n2023-06-02      -0.290208            -64.0     -8.672552              68.0   \n2023-06-03      -0.312147            -32.0     -7.959495              64.0   \n2023-06-04      -0.027947            -32.0     -6.795276              60.0   \n2023-06-05      -2.035917            -76.0    -10.002396             100.0   \n2023-06-06      -2.610587            -76.0    -12.235416              96.0   \n\n            trend_vortex_ind_neg  trend_psar_down_indicator  trend_adx_neg  \\\ntimestamp                                                                    \n2018-01-19              1.146744                        0.0      28.889118   \n2018-01-20              1.130895                        0.0      26.974696   \n2018-01-21              1.195030                        0.0      26.322426   \n2018-01-22              1.196083                        0.0      28.871581   \n2018-01-23              1.156523                        0.0      28.159084   \n...                          ...                        ...            ...   \n2023-06-02              1.025498                        0.0      23.578831   \n2023-06-03              1.054859                        0.0      23.052470   \n2023-06-04              1.004394                        0.0      21.491838   \n2023-06-05              0.983623                        0.0      32.694960   \n2023-06-06              1.214910                        0.0      31.908898   \n\n            volatility_bbli  \ntimestamp                    \n2018-01-19              0.0  \n2018-01-20              0.0  \n2018-01-21              0.0  \n2018-01-22              0.0  \n2018-01-23              0.0  \n...                     ...  \n2023-06-02              0.0  \n2023-06-03              0.0  \n2023-06-04              0.0  \n2023-06-05              1.0  \n2023-06-06              1.0  \n\n[1965 rows x 38 columns]",
      "text/html": "<div>\n<style scoped>\n    .dataframe tbody tr th:only-of-type {\n        vertical-align: middle;\n    }\n\n    .dataframe tbody tr th {\n        vertical-align: top;\n    }\n\n    .dataframe thead th {\n        text-align: right;\n    }\n</style>\n<table border=\"1\" class=\"dataframe\">\n  <thead>\n    <tr style=\"text-align: right;\">\n      <th></th>\n      <th>log_close</th>\n      <th>Close</th>\n      <th>log_returns</th>\n      <th>diff_fear_greed</th>\n      <th>volatility_kcp</th>\n      <th>volume_em</th>\n      <th>volume_vpt</th>\n      <th>momentum_stoch_rsi</th>\n      <th>volatility_bbp</th>\n      <th>momentum_stoch</th>\n      <th>...</th>\n      <th>trend_macd_diff</th>\n      <th>trend_stc</th>\n      <th>volume_sma_em</th>\n      <th>trend_aroon_ind</th>\n      <th>momentum_tsi</th>\n      <th>trend_aroon_down</th>\n      <th>trend_vortex_ind_neg</th>\n      <th>trend_psar_down_indicator</th>\n      <th>trend_adx_neg</th>\n      <th>volatility_bbli</th>\n    </tr>\n    <tr>\n      <th>timestamp</th>\n      <th></th>\n      <th></th>\n      <th></th>\n      <th></th>\n      <th></th>\n      <th></th>\n      <th></th>\n      <th></th>\n      <th></th>\n      <th></th>\n      <th></th>\n      <th></th>\n      <th></th>\n      <th></th>\n      <th></th>\n      <th></th>\n      <th></th>\n      <th></th>\n      <th></th>\n      <th></th>\n      <th></th>\n    </tr>\n  </thead>\n  <tbody>\n    <tr>\n      <th>2018-01-19</th>\n      <td>7.478520</td>\n      <td>1769.619995</td>\n      <td>0.007299</td>\n      <td>0.000112</td>\n      <td>-0.149539</td>\n      <td>48.723667</td>\n      <td>1.054174e+07</td>\n      <td>0.025920</td>\n      <td>0.043720</td>\n      <td>23.892781</td>\n      <td>...</td>\n      <td>-129.162791</td>\n      <td>0.292969</td>\n      <td>-2666.250373</td>\n      <td>-88.0</td>\n      <td>-7.278785</td>\n      <td>92.0</td>\n      <td>1.146744</td>\n      <td>0.0</td>\n      <td>28.889118</td>\n      <td>0.0</td>\n    </tr>\n    <tr>\n      <th>2018-01-20</th>\n      <td>7.616835</td>\n      <td>2032.119995</td>\n      <td>0.138315</td>\n      <td>0.131128</td>\n      <td>0.264113</td>\n      <td>4780.600857</td>\n      <td>1.710247e+08</td>\n      <td>0.341293</td>\n      <td>0.252157</td>\n      <td>39.242402</td>\n      <td>...</td>\n      <td>-104.588403</td>\n      <td>0.146484</td>\n      <td>-2542.512534</td>\n      <td>-28.0</td>\n      <td>-7.653928</td>\n      <td>88.0</td>\n      <td>1.130895</td>\n      <td>0.0</td>\n      <td>26.974696</td>\n      <td>0.0</td>\n    </tr>\n    <tr>\n      <th>2018-01-21</th>\n      <td>7.482479</td>\n      <td>1776.640015</td>\n      <td>-0.134356</td>\n      <td>-0.141542</td>\n      <td>-0.022618</td>\n      <td>-2759.282776</td>\n      <td>7.189503e+07</td>\n      <td>0.116843</td>\n      <td>0.123595</td>\n      <td>25.727497</td>\n      <td>...</td>\n      <td>-99.690545</td>\n      <td>0.073242</td>\n      <td>-3152.814761</td>\n      <td>-28.0</td>\n      <td>-9.120186</td>\n      <td>84.0</td>\n      <td>1.195030</td>\n      <td>0.0</td>\n      <td>26.322426</td>\n      <td>0.0</td>\n    </tr>\n    <tr>\n      <th>2018-01-22</th>\n      <td>7.391366</td>\n      <td>1621.920044</td>\n      <td>-0.091113</td>\n      <td>-0.098300</td>\n      <td>-0.108161</td>\n      <td>-9079.705329</td>\n      <td>-1.530204e+08</td>\n      <td>0.000000</td>\n      <td>0.083283</td>\n      <td>16.150101</td>\n      <td>...</td>\n      <td>-100.724826</td>\n      <td>0.036621</td>\n      <td>-2843.381129</td>\n      <td>-48.0</td>\n      <td>-11.008334</td>\n      <td>100.0</td>\n      <td>1.196083</td>\n      <td>0.0</td>\n      <td>28.871581</td>\n      <td>0.0</td>\n    </tr>\n    <tr>\n      <th>2018-01-23</th>\n      <td>7.391082</td>\n      <td>1621.459961</td>\n      <td>-0.000284</td>\n      <td>-0.007471</td>\n      <td>0.043653</td>\n      <td>-2295.137133</td>\n      <td>-5.950009e+07</td>\n      <td>0.000000</td>\n      <td>0.130643</td>\n      <td>16.121621</td>\n      <td>...</td>\n      <td>-95.348959</td>\n      <td>0.018311</td>\n      <td>-2886.041028</td>\n      <td>-52.0</td>\n      <td>-12.554688</td>\n      <td>100.0</td>\n      <td>1.156523</td>\n      <td>0.0</td>\n      <td>28.159084</td>\n      <td>0.0</td>\n    </tr>\n    <tr>\n      <th>...</th>\n      <td>...</td>\n      <td>...</td>\n      <td>...</td>\n      <td>...</td>\n      <td>...</td>\n      <td>...</td>\n      <td>...</td>\n      <td>...</td>\n      <td>...</td>\n      <td>...</td>\n      <td>...</td>\n      <td>...</td>\n      <td>...</td>\n      <td>...</td>\n      <td>...</td>\n      <td>...</td>\n      <td>...</td>\n      <td>...</td>\n      <td>...</td>\n      <td>...</td>\n      <td>...</td>\n    </tr>\n    <tr>\n      <th>2023-06-02</th>\n      <td>4.743436</td>\n      <td>114.828041</td>\n      <td>0.012813</td>\n      <td>-2.987187</td>\n      <td>0.742420</td>\n      <td>4.117265</td>\n      <td>9.949467e+05</td>\n      <td>0.756958</td>\n      <td>0.492242</td>\n      <td>65.505909</td>\n      <td>...</td>\n      <td>0.232543</td>\n      <td>96.415747</td>\n      <td>-0.290208</td>\n      <td>-64.0</td>\n      <td>-8.672552</td>\n      <td>68.0</td>\n      <td>1.025498</td>\n      <td>0.0</td>\n      <td>23.578831</td>\n      <td>0.0</td>\n    </tr>\n    <tr>\n      <th>2023-06-03</th>\n      <td>4.744270</td>\n      <td>114.923843</td>\n      <td>0.000834</td>\n      <td>1.000834</td>\n      <td>0.765119</td>\n      <td>1.133908</td>\n      <td>9.823917e+05</td>\n      <td>0.781152</td>\n      <td>0.511224</td>\n      <td>66.918642</td>\n      <td>...</td>\n      <td>0.285041</td>\n      <td>98.207874</td>\n      <td>-0.312147</td>\n      <td>-32.0</td>\n      <td>-7.959495</td>\n      <td>64.0</td>\n      <td>1.054859</td>\n      <td>0.0</td>\n      <td>23.052470</td>\n      <td>0.0</td>\n    </tr>\n    <tr>\n      <th>2023-06-04</th>\n      <td>4.751249</td>\n      <td>115.728775</td>\n      <td>0.006980</td>\n      <td>-0.993020</td>\n      <td>0.856593</td>\n      <td>2.923252</td>\n      <td>5.238000e+05</td>\n      <td>0.990139</td>\n      <td>0.648563</td>\n      <td>78.788428</td>\n      <td>...</td>\n      <td>0.365772</td>\n      <td>99.103937</td>\n      <td>-0.027947</td>\n      <td>-32.0</td>\n      <td>-6.795276</td>\n      <td>60.0</td>\n      <td>1.004394</td>\n      <td>0.0</td>\n      <td>21.491838</td>\n      <td>0.0</td>\n    </tr>\n    <tr>\n      <th>2023-06-05</th>\n      <td>4.689479</td>\n      <td>108.796463</td>\n      <td>-0.061770</td>\n      <td>8.938230</td>\n      <td>-0.550603</td>\n      <td>-31.213940</td>\n      <td>-5.479560e+06</td>\n      <td>0.000000</td>\n      <td>-0.226773</td>\n      <td>11.344383</td>\n      <td>...</td>\n      <td>-0.034639</td>\n      <td>88.918142</td>\n      <td>-2.035917</td>\n      <td>-76.0</td>\n      <td>-10.002396</td>\n      <td>100.0</td>\n      <td>0.983623</td>\n      <td>0.0</td>\n      <td>32.694960</td>\n      <td>1.0</td>\n    </tr>\n    <tr>\n      <th>2023-06-06</th>\n      <td>4.693225</td>\n      <td>109.204834</td>\n      <td>0.003747</td>\n      <td>-0.003440</td>\n      <td>-0.402684</td>\n      <td>-2.132559</td>\n      <td>-5.524939e+06</td>\n      <td>0.077631</td>\n      <td>-0.077951</td>\n      <td>15.745014</td>\n      <td>...</td>\n      <td>-0.247087</td>\n      <td>44.459071</td>\n      <td>-2.610587</td>\n      <td>-76.0</td>\n      <td>-12.235416</td>\n      <td>96.0</td>\n      <td>1.214910</td>\n      <td>0.0</td>\n      <td>31.908898</td>\n      <td>1.0</td>\n    </tr>\n  </tbody>\n</table>\n<p>1965 rows × 38 columns</p>\n</div>"
     },
     "execution_count": 4,
     "metadata": {},
     "output_type": "execute_result"
    }
   ],
   "source": [
    "\n",
    "dm = DatasetMaker('BCH-USD')\n",
    "dm.prepare(cols_corelated_01_with_log_rets)"
   ],
   "metadata": {
    "collapsed": false,
    "pycharm": {
     "name": "#%%\n"
    },
    "ExecuteTime": {
     "end_time": "2023-06-06T11:40:32.670309200Z",
     "start_time": "2023-06-06T11:40:30.726037500Z"
    }
   }
  },
  {
   "cell_type": "code",
   "execution_count": 6,
   "outputs": [],
   "source": [
    "dm.save('bch/ta_corr_01_fd.csv')"
   ],
   "metadata": {
    "collapsed": false,
    "pycharm": {
     "name": "#%%\n"
    },
    "ExecuteTime": {
     "end_time": "2023-06-06T11:41:05.243354900Z",
     "start_time": "2023-06-06T11:41:05.126005200Z"
    }
   }
  },
  {
   "cell_type": "code",
   "execution_count": 8,
   "outputs": [
    {
     "data": {
      "text/plain": "            log_close        Close  log_returns  diff_fear_greed  \\\ntimestamp                                                          \n2018-01-19   7.478520  1769.619995     0.007299         0.000112   \n2018-01-20   7.616835  2032.119995     0.138315         0.131128   \n2018-01-21   7.482479  1776.640015    -0.134356        -0.141542   \n2018-01-22   7.391366  1621.920044    -0.091113        -0.098300   \n2018-01-23   7.391082  1621.459961    -0.000284        -0.007471   \n...               ...          ...          ...              ...   \n2023-06-02   4.743436   114.828041     0.012813        -2.987187   \n2023-06-03   4.744270   114.923843     0.000834         1.000834   \n2023-06-04   4.751249   115.728775     0.006980        -0.993020   \n2023-06-05   4.689479   108.796463    -0.061770         8.938230   \n2023-06-06   4.693225   109.204834     0.003747        -0.003440   \n\n            volatility_kcp    volume_em    volume_vpt  momentum_stoch_rsi  \\\ntimestamp                                                                   \n2018-01-19       -0.149539    48.723667  1.054174e+07            0.025920   \n2018-01-20        0.264113  4780.600857  1.710247e+08            0.341293   \n2018-01-21       -0.022618 -2759.282776  7.189503e+07            0.116843   \n2018-01-22       -0.108161 -9079.705329 -1.530204e+08            0.000000   \n2018-01-23        0.043653 -2295.137133 -5.950009e+07            0.000000   \n...                    ...          ...           ...                 ...   \n2023-06-02        0.742420     4.117265  9.949467e+05            0.756958   \n2023-06-03        0.765119     1.133908  9.823917e+05            0.781152   \n2023-06-04        0.856593     2.923252  5.238000e+05            0.990139   \n2023-06-05       -0.550603   -31.213940 -5.479560e+06            0.000000   \n2023-06-06       -0.402684    -2.132559 -5.524939e+06            0.077631   \n\n            volatility_bbp  momentum_stoch  ...  trend_macd_diff  trend_stc  \\\ntimestamp                                   ...                               \n2018-01-19        0.043720       23.892781  ...      -129.162791   0.292969   \n2018-01-20        0.252157       39.242402  ...      -104.588403   0.146484   \n2018-01-21        0.123595       25.727497  ...       -99.690545   0.073242   \n2018-01-22        0.083283       16.150101  ...      -100.724826   0.036621   \n2018-01-23        0.130643       16.121621  ...       -95.348959   0.018311   \n...                    ...             ...  ...              ...        ...   \n2023-06-02        0.492242       65.505909  ...         0.232543  96.415747   \n2023-06-03        0.511224       66.918642  ...         0.285041  98.207874   \n2023-06-04        0.648563       78.788428  ...         0.365772  99.103937   \n2023-06-05       -0.226773       11.344383  ...        -0.034639  88.918142   \n2023-06-06       -0.077951       15.745014  ...        -0.247087  44.459071   \n\n            volume_sma_em  trend_aroon_ind  momentum_tsi  trend_aroon_down  \\\ntimestamp                                                                    \n2018-01-19   -2666.250373            -88.0     -7.278785              92.0   \n2018-01-20   -2542.512534            -28.0     -7.653928              88.0   \n2018-01-21   -3152.814761            -28.0     -9.120186              84.0   \n2018-01-22   -2843.381129            -48.0    -11.008334             100.0   \n2018-01-23   -2886.041028            -52.0    -12.554688             100.0   \n...                   ...              ...           ...               ...   \n2023-06-02      -0.290208            -64.0     -8.672552              68.0   \n2023-06-03      -0.312147            -32.0     -7.959495              64.0   \n2023-06-04      -0.027947            -32.0     -6.795276              60.0   \n2023-06-05      -2.035917            -76.0    -10.002396             100.0   \n2023-06-06      -2.610587            -76.0    -12.235416              96.0   \n\n            trend_vortex_ind_neg  trend_psar_down_indicator  trend_adx_neg  \\\ntimestamp                                                                    \n2018-01-19              1.146744                        0.0      28.889118   \n2018-01-20              1.130895                        0.0      26.974696   \n2018-01-21              1.195030                        0.0      26.322426   \n2018-01-22              1.196083                        0.0      28.871581   \n2018-01-23              1.156523                        0.0      28.159084   \n...                          ...                        ...            ...   \n2023-06-02              1.025498                        0.0      23.578831   \n2023-06-03              1.054859                        0.0      23.052470   \n2023-06-04              1.004394                        0.0      21.491838   \n2023-06-05              0.983623                        0.0      32.694960   \n2023-06-06              1.214910                        0.0      31.908898   \n\n            volatility_bbli  \ntimestamp                    \n2018-01-19              0.0  \n2018-01-20              0.0  \n2018-01-21              0.0  \n2018-01-22              0.0  \n2018-01-23              0.0  \n...                     ...  \n2023-06-02              0.0  \n2023-06-03              0.0  \n2023-06-04              0.0  \n2023-06-05              1.0  \n2023-06-06              1.0  \n\n[1965 rows x 38 columns]",
      "text/html": "<div>\n<style scoped>\n    .dataframe tbody tr th:only-of-type {\n        vertical-align: middle;\n    }\n\n    .dataframe tbody tr th {\n        vertical-align: top;\n    }\n\n    .dataframe thead th {\n        text-align: right;\n    }\n</style>\n<table border=\"1\" class=\"dataframe\">\n  <thead>\n    <tr style=\"text-align: right;\">\n      <th></th>\n      <th>log_close</th>\n      <th>Close</th>\n      <th>log_returns</th>\n      <th>diff_fear_greed</th>\n      <th>volatility_kcp</th>\n      <th>volume_em</th>\n      <th>volume_vpt</th>\n      <th>momentum_stoch_rsi</th>\n      <th>volatility_bbp</th>\n      <th>momentum_stoch</th>\n      <th>...</th>\n      <th>trend_macd_diff</th>\n      <th>trend_stc</th>\n      <th>volume_sma_em</th>\n      <th>trend_aroon_ind</th>\n      <th>momentum_tsi</th>\n      <th>trend_aroon_down</th>\n      <th>trend_vortex_ind_neg</th>\n      <th>trend_psar_down_indicator</th>\n      <th>trend_adx_neg</th>\n      <th>volatility_bbli</th>\n    </tr>\n    <tr>\n      <th>timestamp</th>\n      <th></th>\n      <th></th>\n      <th></th>\n      <th></th>\n      <th></th>\n      <th></th>\n      <th></th>\n      <th></th>\n      <th></th>\n      <th></th>\n      <th></th>\n      <th></th>\n      <th></th>\n      <th></th>\n      <th></th>\n      <th></th>\n      <th></th>\n      <th></th>\n      <th></th>\n      <th></th>\n      <th></th>\n    </tr>\n  </thead>\n  <tbody>\n    <tr>\n      <th>2018-01-19</th>\n      <td>7.478520</td>\n      <td>1769.619995</td>\n      <td>0.007299</td>\n      <td>0.000112</td>\n      <td>-0.149539</td>\n      <td>48.723667</td>\n      <td>1.054174e+07</td>\n      <td>0.025920</td>\n      <td>0.043720</td>\n      <td>23.892781</td>\n      <td>...</td>\n      <td>-129.162791</td>\n      <td>0.292969</td>\n      <td>-2666.250373</td>\n      <td>-88.0</td>\n      <td>-7.278785</td>\n      <td>92.0</td>\n      <td>1.146744</td>\n      <td>0.0</td>\n      <td>28.889118</td>\n      <td>0.0</td>\n    </tr>\n    <tr>\n      <th>2018-01-20</th>\n      <td>7.616835</td>\n      <td>2032.119995</td>\n      <td>0.138315</td>\n      <td>0.131128</td>\n      <td>0.264113</td>\n      <td>4780.600857</td>\n      <td>1.710247e+08</td>\n      <td>0.341293</td>\n      <td>0.252157</td>\n      <td>39.242402</td>\n      <td>...</td>\n      <td>-104.588403</td>\n      <td>0.146484</td>\n      <td>-2542.512534</td>\n      <td>-28.0</td>\n      <td>-7.653928</td>\n      <td>88.0</td>\n      <td>1.130895</td>\n      <td>0.0</td>\n      <td>26.974696</td>\n      <td>0.0</td>\n    </tr>\n    <tr>\n      <th>2018-01-21</th>\n      <td>7.482479</td>\n      <td>1776.640015</td>\n      <td>-0.134356</td>\n      <td>-0.141542</td>\n      <td>-0.022618</td>\n      <td>-2759.282776</td>\n      <td>7.189503e+07</td>\n      <td>0.116843</td>\n      <td>0.123595</td>\n      <td>25.727497</td>\n      <td>...</td>\n      <td>-99.690545</td>\n      <td>0.073242</td>\n      <td>-3152.814761</td>\n      <td>-28.0</td>\n      <td>-9.120186</td>\n      <td>84.0</td>\n      <td>1.195030</td>\n      <td>0.0</td>\n      <td>26.322426</td>\n      <td>0.0</td>\n    </tr>\n    <tr>\n      <th>2018-01-22</th>\n      <td>7.391366</td>\n      <td>1621.920044</td>\n      <td>-0.091113</td>\n      <td>-0.098300</td>\n      <td>-0.108161</td>\n      <td>-9079.705329</td>\n      <td>-1.530204e+08</td>\n      <td>0.000000</td>\n      <td>0.083283</td>\n      <td>16.150101</td>\n      <td>...</td>\n      <td>-100.724826</td>\n      <td>0.036621</td>\n      <td>-2843.381129</td>\n      <td>-48.0</td>\n      <td>-11.008334</td>\n      <td>100.0</td>\n      <td>1.196083</td>\n      <td>0.0</td>\n      <td>28.871581</td>\n      <td>0.0</td>\n    </tr>\n    <tr>\n      <th>2018-01-23</th>\n      <td>7.391082</td>\n      <td>1621.459961</td>\n      <td>-0.000284</td>\n      <td>-0.007471</td>\n      <td>0.043653</td>\n      <td>-2295.137133</td>\n      <td>-5.950009e+07</td>\n      <td>0.000000</td>\n      <td>0.130643</td>\n      <td>16.121621</td>\n      <td>...</td>\n      <td>-95.348959</td>\n      <td>0.018311</td>\n      <td>-2886.041028</td>\n      <td>-52.0</td>\n      <td>-12.554688</td>\n      <td>100.0</td>\n      <td>1.156523</td>\n      <td>0.0</td>\n      <td>28.159084</td>\n      <td>0.0</td>\n    </tr>\n    <tr>\n      <th>...</th>\n      <td>...</td>\n      <td>...</td>\n      <td>...</td>\n      <td>...</td>\n      <td>...</td>\n      <td>...</td>\n      <td>...</td>\n      <td>...</td>\n      <td>...</td>\n      <td>...</td>\n      <td>...</td>\n      <td>...</td>\n      <td>...</td>\n      <td>...</td>\n      <td>...</td>\n      <td>...</td>\n      <td>...</td>\n      <td>...</td>\n      <td>...</td>\n      <td>...</td>\n      <td>...</td>\n    </tr>\n    <tr>\n      <th>2023-06-02</th>\n      <td>4.743436</td>\n      <td>114.828041</td>\n      <td>0.012813</td>\n      <td>-2.987187</td>\n      <td>0.742420</td>\n      <td>4.117265</td>\n      <td>9.949467e+05</td>\n      <td>0.756958</td>\n      <td>0.492242</td>\n      <td>65.505909</td>\n      <td>...</td>\n      <td>0.232543</td>\n      <td>96.415747</td>\n      <td>-0.290208</td>\n      <td>-64.0</td>\n      <td>-8.672552</td>\n      <td>68.0</td>\n      <td>1.025498</td>\n      <td>0.0</td>\n      <td>23.578831</td>\n      <td>0.0</td>\n    </tr>\n    <tr>\n      <th>2023-06-03</th>\n      <td>4.744270</td>\n      <td>114.923843</td>\n      <td>0.000834</td>\n      <td>1.000834</td>\n      <td>0.765119</td>\n      <td>1.133908</td>\n      <td>9.823917e+05</td>\n      <td>0.781152</td>\n      <td>0.511224</td>\n      <td>66.918642</td>\n      <td>...</td>\n      <td>0.285041</td>\n      <td>98.207874</td>\n      <td>-0.312147</td>\n      <td>-32.0</td>\n      <td>-7.959495</td>\n      <td>64.0</td>\n      <td>1.054859</td>\n      <td>0.0</td>\n      <td>23.052470</td>\n      <td>0.0</td>\n    </tr>\n    <tr>\n      <th>2023-06-04</th>\n      <td>4.751249</td>\n      <td>115.728775</td>\n      <td>0.006980</td>\n      <td>-0.993020</td>\n      <td>0.856593</td>\n      <td>2.923252</td>\n      <td>5.238000e+05</td>\n      <td>0.990139</td>\n      <td>0.648563</td>\n      <td>78.788428</td>\n      <td>...</td>\n      <td>0.365772</td>\n      <td>99.103937</td>\n      <td>-0.027947</td>\n      <td>-32.0</td>\n      <td>-6.795276</td>\n      <td>60.0</td>\n      <td>1.004394</td>\n      <td>0.0</td>\n      <td>21.491838</td>\n      <td>0.0</td>\n    </tr>\n    <tr>\n      <th>2023-06-05</th>\n      <td>4.689479</td>\n      <td>108.796463</td>\n      <td>-0.061770</td>\n      <td>8.938230</td>\n      <td>-0.550603</td>\n      <td>-31.213940</td>\n      <td>-5.479560e+06</td>\n      <td>0.000000</td>\n      <td>-0.226773</td>\n      <td>11.344383</td>\n      <td>...</td>\n      <td>-0.034639</td>\n      <td>88.918142</td>\n      <td>-2.035917</td>\n      <td>-76.0</td>\n      <td>-10.002396</td>\n      <td>100.0</td>\n      <td>0.983623</td>\n      <td>0.0</td>\n      <td>32.694960</td>\n      <td>1.0</td>\n    </tr>\n    <tr>\n      <th>2023-06-06</th>\n      <td>4.693225</td>\n      <td>109.204834</td>\n      <td>0.003747</td>\n      <td>-0.003440</td>\n      <td>-0.402684</td>\n      <td>-2.132559</td>\n      <td>-5.524939e+06</td>\n      <td>0.077631</td>\n      <td>-0.077951</td>\n      <td>15.745014</td>\n      <td>...</td>\n      <td>-0.247087</td>\n      <td>44.459071</td>\n      <td>-2.610587</td>\n      <td>-76.0</td>\n      <td>-12.235416</td>\n      <td>96.0</td>\n      <td>1.214910</td>\n      <td>0.0</td>\n      <td>31.908898</td>\n      <td>1.0</td>\n    </tr>\n  </tbody>\n</table>\n<p>1965 rows × 38 columns</p>\n</div>"
     },
     "execution_count": 8,
     "metadata": {},
     "output_type": "execute_result"
    }
   ],
   "source": [
    "df = dm.df\n",
    "df"
   ],
   "metadata": {
    "collapsed": false,
    "pycharm": {
     "name": "#%%\n",
     "is_executing": true
    },
    "ExecuteTime": {
     "end_time": "2023-06-06T22:05:13.738607Z",
     "start_time": "2023-06-06T22:05:13.654978900Z"
    }
   }
  },
  {
   "cell_type": "code",
   "execution_count": 10,
   "outputs": [
    {
     "name": "stdout",
     "output_type": "stream",
     "text": [
      "Index(['log_close', 'Close', 'log_returns', 'diff_fear_greed',\n",
      "       'volatility_kcp', 'volume_em', 'volume_vpt', 'momentum_stoch_rsi',\n",
      "       'volatility_bbp', 'momentum_stoch', 'momentum_wr', 'volatility_dcp',\n",
      "       'momentum_rsi', 'momentum_uo', 'trend_cci', 'volatility_kchi',\n",
      "       'momentum_roc', 'volatility_bbhi', 'volume_fi', 'trend_adx_pos',\n",
      "       'volume_cmf', 'momentum_ppo_hist', 'momentum_stoch_rsi_k',\n",
      "       'trend_vortex_ind_pos', 'volume_mfi', 'momentum_stoch_signal',\n",
      "       'trend_vortex_ind_diff', 'trend_psar_up_indicator', 'trend_macd_diff',\n",
      "       'trend_stc', 'volume_sma_em', 'trend_aroon_ind', 'momentum_tsi',\n",
      "       'trend_aroon_down', 'trend_vortex_ind_neg', 'trend_psar_down_indicator',\n",
      "       'trend_adx_neg', 'volatility_bbli'],\n",
      "      dtype='object')\n"
     ]
    }
   ],
   "source": [
    "print(df.columns)"
   ],
   "metadata": {
    "collapsed": false,
    "ExecuteTime": {
     "end_time": "2023-06-06T22:07:03.806866100Z",
     "start_time": "2023-06-06T22:07:03.755244700Z"
    }
   }
  },
  {
   "cell_type": "code",
   "execution_count": 13,
   "outputs": [
    {
     "name": "stdout",
     "output_type": "stream",
     "text": [
      "log_returns 0.9999999999999999\n",
      "volatility_kcp 0.5146730623796546\n",
      "volume_vpt 0.4490476317399207\n",
      "momentum_stoch_rsi 0.44248812673530974\n",
      "volatility_bbp 0.41398503741025694\n",
      "momentum_stoch 0.4122296942832495\n",
      "momentum_wr 0.4122296942832495\n",
      "volatility_dcp 0.36446752247330544\n",
      "momentum_uo 0.36304512492529406\n",
      "volume_em 0.34639801486594257\n",
      "momentum_rsi 0.34198731947812\n",
      "volatility_bbhi 0.3280696500473764\n",
      "trend_cci 0.3228743676629783\n",
      "volatility_kchi 0.32194309241055774\n",
      "momentum_roc 0.2902611311519988\n",
      "volume_fi 0.27682267434633606\n",
      "trend_adx_pos 0.2472891221883884\n",
      "momentum_stoch_rsi_k 0.20802755848954557\n",
      "momentum_ppo_hist 0.20797865881688982\n",
      "volume_cmf 0.20293995836514656\n",
      "momentum_stoch_signal 0.18655360671744056\n",
      "trend_vortex_ind_diff 0.16214686338225068\n",
      "trend_macd_diff 0.16087529423946334\n",
      "volume_mfi 0.15921672257587466\n",
      "trend_vortex_ind_pos 0.15341743176971556\n",
      "trend_psar_up_indicator 0.1455433469354609\n",
      "trend_stc 0.11415847336722763\n",
      "trend_aroon_ind 0.09353385020773035\n",
      "momentum_tsi 0.07240536834896764\n",
      "volume_sma_em 0.0638782169893174\n",
      "Close 0.031659665942614414\n",
      "log_close 0.029005568535376607\n",
      "trend_aroon_down -0.0836128835817639\n",
      "trend_vortex_ind_neg -0.16503198120530937\n",
      "trend_psar_down_indicator -0.1826678582165462\n",
      "trend_adx_neg -0.2423747991182061\n",
      "volatility_bbli -0.2945928247185086\n",
      "diff_fear_greed -0.4456859622579812\n"
     ]
    }
   ],
   "source": [
    "print_correlation(df, 'log_returns')"
   ],
   "metadata": {
    "collapsed": false,
    "ExecuteTime": {
     "end_time": "2023-06-06T22:14:09.824585600Z",
     "start_time": "2023-06-06T22:14:09.711057100Z"
    }
   }
  },
  {
   "cell_type": "code",
   "execution_count": null,
   "outputs": [],
   "source": [],
   "metadata": {
    "collapsed": false
   }
  },
  {
   "cell_type": "code",
   "execution_count": 11,
   "outputs": [
    {
     "name": "stdout",
     "output_type": "stream",
     "text": [
      "log_close\n",
      "Close\n",
      "log_returns\n",
      "diff_fear_greed\n",
      "volatility_kcp\n",
      "volume_em\n",
      "volume_vpt\n",
      "momentum_stoch_rsi\n",
      "volatility_bbp\n",
      "momentum_stoch\n",
      "momentum_wr\n",
      "volatility_dcp\n",
      "momentum_rsi\n",
      "momentum_uo\n",
      "trend_cci\n",
      "volatility_kchi\n",
      "momentum_roc\n",
      "volatility_bbhi\n",
      "volume_fi\n",
      "trend_adx_pos\n",
      "volume_cmf\n",
      "momentum_ppo_hist\n",
      "momentum_stoch_rsi_k\n",
      "trend_vortex_ind_pos\n",
      "volume_mfi\n",
      "momentum_stoch_signal\n",
      "trend_vortex_ind_diff\n",
      "trend_psar_up_indicator\n",
      "trend_macd_diff\n",
      "trend_stc\n",
      "volume_sma_em\n",
      "trend_aroon_ind\n",
      "momentum_tsi\n",
      "trend_aroon_down\n",
      "trend_vortex_ind_neg\n",
      "trend_psar_down_indicator\n",
      "trend_adx_neg\n",
      "volatility_bbli\n"
     ]
    }
   ],
   "source": [
    "for col in df.columns:\n",
    "    print(col)"
   ],
   "metadata": {
    "collapsed": false,
    "ExecuteTime": {
     "end_time": "2023-06-06T22:11:37.732801200Z",
     "start_time": "2023-06-06T22:11:37.713642Z"
    }
   }
  },
  {
   "cell_type": "code",
   "execution_count": null,
   "outputs": [],
   "source": [
    "['log_close', 'Close', 'log_returns', 'diff_fear_greed', 'volatility_kcp', 'volume_em', 'volume_vpt', 'momentum_stoch_rsi', 'volatility_bbp', 'momentum_stoch', 'momentum_wr', 'volatility_dcp', 'momentum_rsi', 'momentum_uo', 'trend_cci', 'volatility_kchi', 'momentum_roc', 'volatility_bbhi', 'volume_fi', 'trend_adx_pos', 'volume_cmf', 'momentum_ppo_hist', 'momentum_stoch_rsi_k', 'trend_vortex_ind_pos', 'volume_mfi', 'momentum_stoch_signal', 'trend_vortex_ind_diff', 'trend_psar_up_indicator', 'trend_macd_diff', 'trend_stc', 'volume_sma_em', 'trend_aroon_ind', 'momentum_tsi', 'trend_aroon_down', 'trend_vortex_ind_neg', 'trend_psar_down_indicator', 'trend_adx_neg', 'volatility_bbli']"
   ],
   "metadata": {
    "collapsed": false
   }
  },
  {
   "cell_type": "code",
   "execution_count": 65,
   "outputs": [
    {
     "data": {
      "text/plain": "timestamp\n2014-11-27    0.003523\n2014-11-28    0.021689\n2014-11-29    0.019147\n2014-11-30    0.025931\n2014-12-01    0.029095\n                ...   \n2023-05-29    4.321755\n2023-05-30    4.320185\n2023-05-31    4.302607\n2023-06-01    4.287814\n2023-06-02    4.297684\nName: log_returns, Length: 3110, dtype: float64"
     },
     "execution_count": 65,
     "metadata": {},
     "output_type": "execute_result"
    }
   ],
   "source": [
    "df['log_returns'].cumsum()\n"
   ],
   "metadata": {
    "collapsed": false,
    "ExecuteTime": {
     "end_time": "2023-06-02T12:06:15.668238300Z",
     "start_time": "2023-06-02T12:06:15.638673400Z"
    }
   }
  },
  {
   "cell_type": "code",
   "execution_count": null,
   "outputs": [],
   "source": [
    "def get_scaled_dataframe(df, exclude_cols, target_col, ntest=21):\n",
    "    df = df.drop(exclude_cols, axis=1)\n",
    "    train = df.iloc[:-ntest]\n",
    "    test = df.iloc[-ntest:]\n",
    "\n",
    "    scaler = StandardScaler()\n",
    "    train_scaled = scaler.fit_transform(train)\n",
    "    test_scaled = scaler.transform(test)\n",
    "\n",
    "    y = train[target_col].to_numpy()\n",
    "    scaler.fit_transform(y.reshape(-1, 1))\n",
    "    scaled_df = pd.DataFrame(np.concatenate((train_scaled, test_scaled)), columns=df.columns, index=df.index)\n",
    "    return scaled_df, scaler\n",
    "\n",
    "get_scaled_dataframe(df, [], 'log_returns')\n"
   ],
   "metadata": {
    "collapsed": false,
    "is_executing": true,
    "ExecuteTime": {
     "start_time": "2023-06-02T09:41:46.229508800Z"
    },
    "pycharm": {
     "name": "#%%\n"
    }
   }
  },
  {
   "cell_type": "code",
   "execution_count": 29,
   "outputs": [],
   "source": [
    "exclude_cols = []\n",
    "target_col = 'log_returns'\n",
    "ntest=21"
   ],
   "metadata": {
    "collapsed": false,
    "ExecuteTime": {
     "end_time": "2023-06-02T10:39:17.001820300Z",
     "start_time": "2023-06-02T10:39:16.963745900Z"
    }
   }
  },
  {
   "cell_type": "code",
   "execution_count": 30,
   "outputs": [],
   "source": [
    "train = df.iloc[:-ntest]\n",
    "test = df.iloc[-ntest:]"
   ],
   "metadata": {
    "collapsed": false,
    "ExecuteTime": {
     "end_time": "2023-06-02T10:39:17.363602100Z",
     "start_time": "2023-06-02T10:39:17.334979800Z"
    }
   }
  },
  {
   "cell_type": "code",
   "execution_count": 31,
   "outputs": [],
   "source": [
    "scaler_orig = StandardScaler()\n",
    "train_scaled = scaler_orig.fit_transform(train)\n",
    "test_scaled = scaler_orig.transform(test)"
   ],
   "metadata": {
    "collapsed": false,
    "ExecuteTime": {
     "end_time": "2023-06-02T10:39:18.911170700Z",
     "start_time": "2023-06-02T10:39:18.886689200Z"
    }
   }
  },
  {
   "cell_type": "code",
   "execution_count": 39,
   "outputs": [
    {
     "name": "stdout",
     "output_type": "stream",
     "text": [
      "X.shape (3080, 10, 38) Y.shape (3080, 21)\n"
     ]
    }
   ],
   "source": [
    "from models.transformer.my_functrions import make_dataset\n",
    "\n",
    "Xtrain, Ytrain, Xtest, Ytest, XVal, YVal, scaler = make_dataset(df, target_col='log_returns', exclude_cols=[], timestep=10, ntest=ntest, horizon=21)"
   ],
   "metadata": {
    "collapsed": false,
    "ExecuteTime": {
     "end_time": "2023-06-02T11:24:30.706753400Z",
     "start_time": "2023-06-02T11:24:30.584699600Z"
    }
   }
  },
  {
   "cell_type": "code",
   "execution_count": 40,
   "outputs": [
    {
     "data": {
      "text/plain": "array([[-0.24977587, -0.0989844 ,  0.69665939,  0.06983557,  0.91348648,\n        -0.1550632 , -0.11824151, -0.01813808, -1.11005927,  0.50640595,\n         0.25911439, -0.17970416,  0.57899408, -0.6000471 , -0.44637812,\n        -0.7450495 , -0.06984866, -0.07133242, -0.6310154 , -0.22666163,\n        -0.05671485],\n       [-0.0989844 ,  0.69665939,  0.06983557,  0.91348648, -0.1550632 ,\n        -0.11824151, -0.01813808, -1.11005927,  0.50640595,  0.25911439,\n        -0.17970416,  0.57899408, -0.6000471 , -0.44637812, -0.7450495 ,\n        -0.06984866, -0.07133242, -0.6310154 , -0.22666163, -0.05671485,\n         0.10642935],\n       [ 0.69665939,  0.06983557,  0.91348648, -0.1550632 , -0.11824151,\n        -0.01813808, -1.11005927,  0.50640595,  0.25911439, -0.17970416,\n         0.57899408, -0.6000471 , -0.44637812, -0.7450495 , -0.06984866,\n        -0.07133242, -0.6310154 , -0.22666163, -0.05671485,  0.10642935,\n         0.21698017],\n       [ 0.06983557,  0.91348648, -0.1550632 , -0.11824151, -0.01813808,\n        -1.11005927,  0.50640595,  0.25911439, -0.17970416,  0.57899408,\n        -0.6000471 , -0.44637812, -0.7450495 , -0.06984866, -0.07133242,\n        -0.6310154 , -0.22666163, -0.05671485,  0.10642935,  0.21698017,\n        -0.18682488],\n       [ 0.91348648, -0.1550632 , -0.11824151, -0.01813808, -1.11005927,\n         0.50640595,  0.25911439, -0.17970416,  0.57899408, -0.6000471 ,\n        -0.44637812, -0.7450495 , -0.06984866, -0.07133242, -0.6310154 ,\n        -0.22666163, -0.05671485,  0.10642935,  0.21698017, -0.18682488,\n         0.3117222 ],\n       [-0.1550632 , -0.11824151, -0.01813808, -1.11005927,  0.50640595,\n         0.25911439, -0.17970416,  0.57899408, -0.6000471 , -0.44637812,\n        -0.7450495 , -0.06984866, -0.07133242, -0.6310154 , -0.22666163,\n        -0.05671485,  0.10642935,  0.21698017, -0.18682488,  0.3117222 ,\n        -0.58285516],\n       [-0.11824151, -0.01813808, -1.11005927,  0.50640595,  0.25911439,\n        -0.17970416,  0.57899408, -0.6000471 , -0.44637812, -0.7450495 ,\n        -0.06984866, -0.07133242, -0.6310154 , -0.22666163, -0.05671485,\n         0.10642935,  0.21698017, -0.18682488,  0.3117222 , -0.58285516,\n         0.02009683],\n       [-0.01813808, -1.11005927,  0.50640595,  0.25911439, -0.17970416,\n         0.57899408, -0.6000471 , -0.44637812, -0.7450495 , -0.06984866,\n        -0.07133242, -0.6310154 , -0.22666163, -0.05671485,  0.10642935,\n         0.21698017, -0.18682488,  0.3117222 , -0.58285516,  0.02009683,\n         0.19558268],\n       [-1.11005927,  0.50640595,  0.25911439, -0.17970416,  0.57899408,\n        -0.6000471 , -0.44637812, -0.7450495 , -0.06984866, -0.07133242,\n        -0.6310154 , -0.22666163, -0.05671485,  0.10642935,  0.21698017,\n        -0.18682488,  0.3117222 , -0.58285516,  0.02009683,  0.19558268,\n        -0.40110177],\n       [ 0.50640595,  0.25911439, -0.17970416,  0.57899408, -0.6000471 ,\n        -0.44637812, -0.7450495 , -0.06984866, -0.07133242, -0.6310154 ,\n        -0.22666163, -0.05671485,  0.10642935,  0.21698017, -0.18682488,\n         0.3117222 , -0.58285516,  0.02009683,  0.19558268, -0.40110177,\n         0.05879716],\n       [ 0.25911439, -0.17970416,  0.57899408, -0.6000471 , -0.44637812,\n        -0.7450495 , -0.06984866, -0.07133242, -0.6310154 , -0.22666163,\n        -0.05671485,  0.10642935,  0.21698017, -0.18682488,  0.3117222 ,\n        -0.58285516,  0.02009683,  0.19558268, -0.40110177,  0.05879716,\n         0.32592499],\n       [-0.17970416,  0.57899408, -0.6000471 , -0.44637812, -0.7450495 ,\n        -0.06984866, -0.07133242, -0.6310154 , -0.22666163, -0.05671485,\n         0.10642935,  0.21698017, -0.18682488,  0.3117222 , -0.58285516,\n         0.02009683,  0.19558268, -0.40110177,  0.05879716,  0.32592499,\n        -0.90650528],\n       [ 0.57899408, -0.6000471 , -0.44637812, -0.7450495 , -0.06984866,\n        -0.07133242, -0.6310154 , -0.22666163, -0.05671485,  0.10642935,\n         0.21698017, -0.18682488,  0.3117222 , -0.58285516,  0.02009683,\n         0.19558268, -0.40110177,  0.05879716,  0.32592499, -0.90650528,\n         0.1037488 ],\n       [-0.6000471 , -0.44637812, -0.7450495 , -0.06984866, -0.07133242,\n        -0.6310154 , -0.22666163, -0.05671485,  0.10642935,  0.21698017,\n        -0.18682488,  0.3117222 , -0.58285516,  0.02009683,  0.19558268,\n        -0.40110177,  0.05879716,  0.32592499, -0.90650528,  0.1037488 ,\n         0.20274228],\n       [-0.44637812, -0.7450495 , -0.06984866, -0.07133242, -0.6310154 ,\n        -0.22666163, -0.05671485,  0.10642935,  0.21698017, -0.18682488,\n         0.3117222 , -0.58285516,  0.02009683,  0.19558268, -0.40110177,\n         0.05879716,  0.32592499, -0.90650528,  0.1037488 ,  0.20274228,\n         0.10921017],\n       [-0.7450495 , -0.06984866, -0.07133242, -0.6310154 , -0.22666163,\n        -0.05671485,  0.10642935,  0.21698017, -0.18682488,  0.3117222 ,\n        -0.58285516,  0.02009683,  0.19558268, -0.40110177,  0.05879716,\n         0.32592499, -0.90650528,  0.1037488 ,  0.20274228,  0.10921017,\n         1.12263542],\n       [-0.06984866, -0.07133242, -0.6310154 , -0.22666163, -0.05671485,\n         0.10642935,  0.21698017, -0.18682488,  0.3117222 , -0.58285516,\n         0.02009683,  0.19558268, -0.40110177,  0.05879716,  0.32592499,\n        -0.90650528,  0.1037488 ,  0.20274228,  0.10921017,  1.12263542,\n        -0.35464295],\n       [-0.07133242, -0.6310154 , -0.22666163, -0.05671485,  0.10642935,\n         0.21698017, -0.18682488,  0.3117222 , -0.58285516,  0.02009683,\n         0.19558268, -0.40110177,  0.05879716,  0.32592499, -0.90650528,\n         0.1037488 ,  0.20274228,  0.10921017,  1.12263542, -0.35464295,\n        -0.07737344],\n       [-0.6310154 , -0.22666163, -0.05671485,  0.10642935,  0.21698017,\n        -0.18682488,  0.3117222 , -0.58285516,  0.02009683,  0.19558268,\n        -0.40110177,  0.05879716,  0.32592499, -0.90650528,  0.1037488 ,\n         0.20274228,  0.10921017,  1.12263542, -0.35464295, -0.07737344,\n        -0.49605736],\n       [-0.22666163, -0.05671485,  0.10642935,  0.21698017, -0.18682488,\n         0.3117222 , -0.58285516,  0.02009683,  0.19558268, -0.40110177,\n         0.05879716,  0.32592499, -0.90650528,  0.1037488 ,  0.20274228,\n         0.10921017,  1.12263542, -0.35464295, -0.07737344, -0.49605736,\n        -0.42320879],\n       [-0.05671485,  0.10642935,  0.21698017, -0.18682488,  0.3117222 ,\n        -0.58285516,  0.02009683,  0.19558268, -0.40110177,  0.05879716,\n         0.32592499, -0.90650528,  0.1037488 ,  0.20274228,  0.10921017,\n         1.12263542, -0.35464295, -0.07737344, -0.49605736, -0.42320879,\n         0.22185479]])"
     },
     "execution_count": 40,
     "metadata": {},
     "output_type": "execute_result"
    }
   ],
   "source": [
    "Ytest"
   ],
   "metadata": {
    "collapsed": false,
    "ExecuteTime": {
     "end_time": "2023-06-02T11:24:39.503139600Z",
     "start_time": "2023-06-02T11:24:39.448004600Z"
    }
   }
  },
  {
   "cell_type": "code",
   "execution_count": 47,
   "outputs": [
    {
     "data": {
      "text/plain": "array([-0.24977587, -0.0989844 ,  0.69665939,  0.06983557,  0.91348648,\n       -0.1550632 , -0.11824151, -0.01813808, -1.11005927,  0.50640595,\n        0.25911439, -0.17970416,  0.57899408, -0.6000471 , -0.44637812,\n       -0.7450495 , -0.06984866, -0.07133242, -0.6310154 , -0.22666163,\n       -0.05671485])"
     },
     "execution_count": 47,
     "metadata": {},
     "output_type": "execute_result"
    }
   ],
   "source": [
    "Ytest.T[0]"
   ],
   "metadata": {
    "collapsed": false,
    "ExecuteTime": {
     "end_time": "2023-06-02T11:27:54.969529800Z",
     "start_time": "2023-06-02T11:27:54.946976100Z"
    }
   }
  },
  {
   "cell_type": "code",
   "execution_count": 50,
   "outputs": [],
   "source": [
    "kek  = scaler.inverse_transform(Ytest.T[-1].reshape(-1, 1))"
   ],
   "metadata": {
    "collapsed": false,
    "ExecuteTime": {
     "end_time": "2023-06-02T11:42:11.057067400Z",
     "start_time": "2023-06-02T11:42:11.040022300Z"
    }
   }
  },
  {
   "cell_type": "code",
   "execution_count": 51,
   "outputs": [
    {
     "data": {
      "text/plain": "array([-0.00078046,  0.00467655,  0.01436024,  0.00860529,  0.02191124,\n        0.00101492,  0.00317119,  0.01203679, -0.00191058,  0.00172532,\n        0.01557428, -0.01769612, -0.01234159, -0.00320226,  0.00236107,\n        0.04667057,  0.03449946,  0.03292916,  0.01535137,  0.00055879,\n        0.01042884])"
     },
     "execution_count": 51,
     "metadata": {},
     "output_type": "execute_result"
    }
   ],
   "source": [
    "kek.cumsum()"
   ],
   "metadata": {
    "collapsed": false,
    "ExecuteTime": {
     "end_time": "2023-06-02T11:42:16.439123400Z",
     "start_time": "2023-06-02T11:42:16.377498600Z"
    }
   }
  },
  {
   "cell_type": "code",
   "execution_count": 67,
   "outputs": [
    {
     "name": "stdout",
     "output_type": "stream",
     "text": [
      "[0.5488135  0.71518937 0.60276338 0.54488318 0.4236548  0.64589411\n",
      " 0.43758721 0.891773   0.96366276 0.38344152]\n"
     ]
    }
   ],
   "source": [
    "np.random.seed(0)\n",
    "\n",
    "s = pd.Series(np.random.random(10))\n",
    "\n",
    "print(s.values)\n",
    "\n",
    "# [ 0.5488135   0.71518937  0.60276338  0.54488318  0.4236548   0.64589411\n",
    "#   0.43758721  0.891773    0.96366276  0.38344152]\n",
    "\n",
    "# t = np.log(s).diff()\n",
    "# t.iat[0] = np.log(s.iat[0])\n",
    "# res = np.exp(t.cumsum())\n",
    "#\n",
    "# print(res.values)\n",
    "\n",
    "# [ 0.5488135   0.71518937  0.60276338  0.54488318  0.4236548   0.64589411\n",
    "#   0.43758721  0.891773    0.96366276  0.38344152]"
   ],
   "metadata": {
    "collapsed": false,
    "ExecuteTime": {
     "end_time": "2023-06-02T12:09:52.587581Z",
     "start_time": "2023-06-02T12:09:52.540454Z"
    }
   }
  },
  {
   "cell_type": "code",
   "execution_count": 68,
   "outputs": [],
   "source": [
    "t = np.log(s).diff()"
   ],
   "metadata": {
    "collapsed": false,
    "ExecuteTime": {
     "end_time": "2023-06-02T12:09:57.340637300Z",
     "start_time": "2023-06-02T12:09:57.317566600Z"
    }
   }
  },
  {
   "cell_type": "code",
   "execution_count": 69,
   "outputs": [
    {
     "data": {
      "text/plain": "0         NaN\n1    0.264789\n2   -0.171023\n3   -0.100953\n4   -0.251652\n5    0.421717\n6   -0.389360\n7    0.711936\n8    0.077530\n9   -0.921554\ndtype: float64"
     },
     "execution_count": 69,
     "metadata": {},
     "output_type": "execute_result"
    }
   ],
   "source": [
    "t"
   ],
   "metadata": {
    "collapsed": false,
    "ExecuteTime": {
     "end_time": "2023-06-02T12:09:58.857676300Z",
     "start_time": "2023-06-02T12:09:58.835619700Z"
    }
   }
  },
  {
   "cell_type": "code",
   "execution_count": 72,
   "outputs": [
    {
     "data": {
      "text/plain": "0   -0.599997\n1    0.264789\n2   -0.171023\n3   -0.100953\n4   -0.251652\n5    0.421717\n6   -0.389360\n7    0.711936\n8    0.077530\n9   -0.921554\ndtype: float64"
     },
     "execution_count": 72,
     "metadata": {},
     "output_type": "execute_result"
    }
   ],
   "source": [
    "t.iat[0] = np.log(s.iat[0])\n",
    "t"
   ],
   "metadata": {
    "collapsed": false,
    "ExecuteTime": {
     "end_time": "2023-06-02T12:10:14.707073700Z",
     "start_time": "2023-06-02T12:10:14.645423400Z"
    }
   }
  },
  {
   "cell_type": "code",
   "execution_count": null,
   "outputs": [],
   "source": [],
   "metadata": {
    "collapsed": false
   }
  }
 ],
 "metadata": {
  "kernelspec": {
   "display_name": "Python 3",
   "language": "python",
   "name": "python3"
  },
  "language_info": {
   "codemirror_mode": {
    "name": "ipython",
    "version": 2
   },
   "file_extension": ".py",
   "mimetype": "text/x-python",
   "name": "python",
   "nbconvert_exporter": "python",
   "pygments_lexer": "ipython2",
   "version": "2.7.6"
  }
 },
 "nbformat": 4,
 "nbformat_minor": 0
}
